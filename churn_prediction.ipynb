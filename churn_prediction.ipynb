{
 "cells": [
  {
   "cell_type": "markdown",
   "metadata": {},
   "source": [
    "\n",
    "## Churn prediction - Kaggle competition\n",
    "##### [Go to project Github repository](https://github.com/Olks/churn_prediction)\n",
    "####  \n",
    "This a an exploratory analysis and prediction with XGBoost for Kaggle competition:\n",
    "\n",
    "[\"WSDM - KKBox's Churn Prediction Challenge\n",
    "Can you predict when subscribers will churn?\"](https://www.kaggle.com/c/kkbox-churn-prediction-challenge/)\n",
    "\n",
    "The competition is over but you can still download the data, read notebooks of participants and learn!\n",
    "<br>And then submit your prediction to see how well your model perform. "
   ]
  },
  {
   "cell_type": "markdown",
   "metadata": {},
   "source": [
    "\n",
    "#### Overview of the task\n",
    "The goal of the competition is to predict if the user of the music streaming service will renew the subscription. Usually the subscription lasts 30 days and can be automatically renewed.\n",
    "<br>Churn definition (in data description on Kaggle)\n",
    ">The criteria of \"churn\" is no new valid service subscription within 30 days after the current membership expires.\n"
   ]
  },
  {
   "cell_type": "markdown",
   "metadata": {},
   "source": [
    "## Loading the data"
   ]
  },
  {
   "cell_type": "markdown",
   "metadata": {},
   "source": [
    "The files set provided contains bigger files with data till the end of February 2017 and additional files (\"v2\" suffix) with update of March 2017.\n",
    "<br>They are too big to load them all into python but we can concatenate some of them in GNU terminal (e.g. on Windows in Git Bash):\n",
    "><code>cat transactions.csv > transactions_v3.csv; tail -n +2 transactions_v2.csv >> transactions_v3.csv </code>"
   ]
  },
  {
   "cell_type": "markdown",
   "metadata": {},
   "source": [
    "Import libraries, helper functions and data files; details:  [Go to project Github repository](https://github.com/Olks/churn_prediction)"
   ]
  },
  {
   "cell_type": "code",
   "execution_count": 1,
   "metadata": {},
   "outputs": [],
   "source": [
    "# Import libraries and helper functions\n",
    "%run -i \"helpers.py\""
   ]
  },
  {
   "cell_type": "code",
   "execution_count": 2,
   "metadata": {},
   "outputs": [],
   "source": [
    "# Load data files\n",
    "%run -i \"files_loader.py\""
   ]
  },
  {
   "cell_type": "code",
   "execution_count": 3,
   "metadata": {},
   "outputs": [
    {
     "name": "stdout",
     "output_type": "stream",
     "text": [
      "Variable                              Type         Data/Info\n",
      "------------------------------------------------------------\n",
      "PROJECT_DIR                           str          C:\\Users\\Olks\\Desktop\\churn_prediction\n",
      "calculate_last_subsciption_features   function     <function calculate_last_<...>es at 0x0000028C760E7510>\n",
      "calculate_transactional_features      function     <function calculate_trans<...>es at 0x0000028C791B6B70>\n",
      "get_labels                            function     <function get_labels at 0x0000028C7400B9D8>\n",
      "join                                  function     <function join at 0x0000028C716787B8>\n",
      "members_v3_path                       str          C:\\Users\\Olks\\Desktop\\chu<...>prediction\\members_v3.csv\n",
      "pd                                    module       <module 'pandas' from 'C:<...>es\\\\pandas\\\\__init__.py'>\n",
      "plt                                   module       <module 'matplotlib.pyplo<...>\\\\matplotlib\\\\pyplot.py'>\n",
      "random                                module       <module 'random' from 'C:<...>aconda3\\\\lib\\\\random.py'>\n",
      "sample_submission_v2                  DataFrame                             <...>[907471 rows x 2 columns]\n",
      "sample_submission_v2_path             str          C:\\Users\\Olks\\Desktop\\chu<...>\\sample_submission_v2.csv\n",
      "sample_submission_zero_path           str          C:\\Users\\Olks\\Desktop\\chu<...>ample_submission_zero.csv\n",
      "sns                                   module       <module 'seaborn' from 'C<...>s\\\\seaborn\\\\__init__.py'>\n",
      "train_path                            str          C:\\Users\\Olks\\Desktop\\churn_prediction\\train.csv\n",
      "train_v2_path                         str          C:\\Users\\Olks\\Desktop\\chu<...>n_prediction\\train_v2.csv\n",
      "transactions_path                     str          C:\\Users\\Olks\\Desktop\\chu<...>ediction\\transactions.csv\n",
      "transactions_v2_path                  str          C:\\Users\\Olks\\Desktop\\chu<...>ction\\transactions_v2.csv\n",
      "transactions_v3                       DataFrame                             <...>2978755 rows x 9 columns]\n",
      "transactions_v3_path                  str          C:\\Users\\Olks\\Desktop\\chu<...>ction\\transactions_v3.csv\n",
      "user_logs_path                        str          C:\\Users\\Olks\\Desktop\\chu<...>_prediction\\user_logs.csv\n",
      "user_logs_v2_path                     str          C:\\Users\\Olks\\Desktop\\chu<...>ediction\\user_logs_v2.csv\n",
      "xgb                                   module       <module 'xgboost' from 'C<...>s\\\\xgboost\\\\__init__.py'>\n"
     ]
    }
   ],
   "source": [
    "# Let's check what we have defined after running helpers.py\n",
    "%whos"
   ]
  },
  {
   "cell_type": "markdown",
   "metadata": {},
   "source": [
    "#### Labels"
   ]
  },
  {
   "cell_type": "code",
   "execution_count": 6,
   "metadata": {},
   "outputs": [],
   "source": [
    "# labels_january = get_labels(transactions_v3, \"20170201\")\n",
    "# labels_february = get_labels(transactions_v3, \"20170301\")\n",
    "\n",
    "labels_january = pd.read_pickle(\"labels_january.pkl\")\n",
    "labels_february = pd.read_pickle(\"labels_february.pkl\")"
   ]
  },
  {
   "cell_type": "code",
   "execution_count": 5,
   "metadata": {},
   "outputs": [],
   "source": [
    "labels_january.to_pickle(\"labels_january.pkl\")\n",
    "labels_february.to_pickle(\"labels_february.pkl\")"
   ]
  },
  {
   "cell_type": "code",
   "execution_count": 49,
   "metadata": {},
   "outputs": [],
   "source": [
    "scala_labels_january = pd.read_csv(\"scala_labels_january.csv\")\n",
    "scala_labels_february = pd.read_csv(\"scala_labels_february.csv\")"
   ]
  },
  {
   "cell_type": "code",
   "execution_count": 40,
   "metadata": {},
   "outputs": [],
   "source": [
    "# scala_labels_january = pd.read_csv(\"scala_labels_january_one_month.csv\")\n",
    "# scala_labels_february = pd.read_csv(\"scala_labels_february_one_month.csv\")"
   ]
  },
  {
   "cell_type": "markdown",
   "metadata": {},
   "source": [
    "### Exploration of the data"
   ]
  },
  {
   "cell_type": "markdown",
   "metadata": {},
   "source": [
    "#### First data check: reading 1000 lines per file because they are too big read them all at once\n",
    "- Later we can read selected columns or whole files by chunks"
   ]
  },
  {
   "cell_type": "code",
   "execution_count": 4,
   "metadata": {},
   "outputs": [],
   "source": [
    "train = pd.read_csv(train_path, nrows=1000)\n",
    "train_v2 = pd.read_csv(train_v2_path, nrows=1000)\n",
    "user_logs = pd.read_csv(user_logs_path, nrows=1000) \n",
    "user_logs_v2 = pd.read_csv(user_logs_v2_path, nrows=1000)\n",
    "sample_submission_zero = pd.read_csv(sample_submission_zero_path, nrows=1000)\n",
    "sample_submission_v2 = pd.read_csv(sample_submission_v2_path, nrows=1000)\n",
    "transactions = pd.read_csv(transactions_path, nrows=1000)\n",
    "transactions_v2 = pd.read_csv(transactions_v2_path, nrows=1000)\n",
    "transactions_v3 = pd.read_csv(transactions_v3_path, nrows=1000) \n",
    "members_v3 = pd.read_csv(members_v3_path, nrows=1000)"
   ]
  },
  {
   "cell_type": "code",
   "execution_count": 5,
   "metadata": {},
   "outputs": [],
   "source": [
    "tables = {\n",
    "    \"train\": train, \n",
    "    \"train_v2\": train_v2, \n",
    "    \"user_logs\": user_logs,\n",
    "    \"user_logs_v2\": user_logs_v2, \n",
    "    \"sample_submission_zero\": sample_submission_zero, \n",
    "    \"sample_submission_v2\": sample_submission_v2,\n",
    "    \"transactions\": transactions,\n",
    "    \"transactions_v2\": transactions_v2,\n",
    "    \"transactions_v3\": transactions_v3,\n",
    "    \"members_v3\": members_v3\n",
    "}"
   ]
  },
  {
   "cell_type": "code",
   "execution_count": 6,
   "metadata": {},
   "outputs": [
    {
     "data": {
      "application/javascript": [
       "IPython.OutputArea.prototype._should_scroll = function(lines) {\n",
       "    return false;\n",
       "}\n"
      ],
      "text/plain": [
       "<IPython.core.display.Javascript object>"
      ]
     },
     "metadata": {},
     "output_type": "display_data"
    }
   ],
   "source": [
    "%%javascript\n",
    "IPython.OutputArea.prototype._should_scroll = function(lines) {\n",
    "    return false;\n",
    "}"
   ]
  },
  {
   "cell_type": "code",
   "execution_count": null,
   "metadata": {},
   "outputs": [],
   "source": [
    "for table_name, table in tables.items():\n",
    "    print(\"\\n------------------------------------------------------\")\n",
    "    print(f\"Table name: \\\"{table_name}\\\"\")\n",
    "    display(table.describe().transpose())\n",
    "    display(table.dtypes.transpose())"
   ]
  },
  {
   "cell_type": "markdown",
   "metadata": {},
   "source": [
    "### Basic Trasactional Features"
   ]
  },
  {
   "cell_type": "markdown",
   "metadata": {},
   "source": [
    "The challenge winner, Bryian Gregory, gives a few tips in his article, <br>\n",
    "**\"Predicting Customer Churn: Extreme Gradient Boosting with Temporal Data\"**\n",
    "<br>\n",
    "https://medium.com/@bryan.gregory1/predicting-customer-churn-extreme-gradient-boosting-with-temporal-data-332c0d9f32bf\n",
    "\n",
    "He gives a hint that the features should be relative to a cutoff day. He calls it \"Relative Refactoring Method\".\n",
    "<br> So we should transform the day of first transaction into the number of days from the first transaction.\n",
    "<br> Only if days are \"special\" like holidays we could live them as exact days. We should not mix those approaches.\n",
    "<br> Here, only relative features will be calaculated."
   ]
  },
  {
   "cell_type": "markdown",
   "metadata": {},
   "source": [
    "1. **days_from_start** = Number of days from first transaction\n",
    "2. **transactions_num** = Number or transactions\n",
    "3. **cancelations_num** = Number of cancelations\n",
    "4. **last_is_auto_renew** = If last subscription is renewed automatically\n",
    "5. **subscription_length** = Length of last subscription"
   ]
  },
  {
   "cell_type": "markdown",
   "metadata": {},
   "source": [
    "Now we need to load whole files or columns.\n",
    "To create our first 3 features we need 4 columns from \"transactions\" files:\n",
    "<br>\n",
    "\"msno\", \"transaction_date\", \"membership_expire_date\", \"is_cancel\".\n",
    "<br> UPDATE: Tocalculate 5 features we need 5 columns (same as previously plus \"is_auto_renew\")"
   ]
  },
  {
   "cell_type": "code",
   "execution_count": 7,
   "metadata": {},
   "outputs": [],
   "source": [
    "# filter only users that have lable and create features for them\n",
    "transactions_jan = labels_january.merge(transactions_v3)\n",
    "train_transactional_features_jan = calculate_transactional_features(transactions_jan, '20170201')\n",
    "train_last_subsciption_features_jan = calculate_last_subsciption_features(transactions_jan, '20170201')\n",
    "train_with_features_jan = train_transactional_features_jan.merge(\n",
    "                                            train_last_subsciption_features_jan, on=\"msno\")"
   ]
  },
  {
   "cell_type": "code",
   "execution_count": 8,
   "metadata": {},
   "outputs": [],
   "source": [
    "transactions_feb = labels_february.merge(transactions_v3)\n",
    "train_transactional_features_feb = calculate_transactional_features(transactions_feb, '20170301')\n",
    "train_last_subsciption_features_feb = calculate_last_subsciption_features(transactions_feb, '20170301')\n",
    "train_with_features_feb = train_transactional_features_feb.merge(\n",
    "                                            train_last_subsciption_features_feb, on=\"msno\")"
   ]
  },
  {
   "cell_type": "code",
   "execution_count": 9,
   "metadata": {},
   "outputs": [],
   "source": [
    "transactions_mar = sample_submission_v2.merge(transactions_v3)\n",
    "test_transactional_features_mar = calculate_transactional_features(transactions_mar, '20170401')\n",
    "test_last_subsciption_features_mar = calculate_last_subsciption_features(transactions_mar, '20170401')\n",
    "test_with_features_mar = test_transactional_features_mar.merge(\n",
    "                                            test_last_subsciption_features_mar, on=\"msno\")"
   ]
  },
  {
   "cell_type": "code",
   "execution_count": 10,
   "metadata": {},
   "outputs": [],
   "source": [
    "train_with_features_jan = train_with_features_jan.merge(labels_january)\n",
    "train_with_features_feb = train_with_features_feb.merge(labels_february)"
   ]
  },
  {
   "cell_type": "code",
   "execution_count": null,
   "metadata": {},
   "outputs": [],
   "source": [
    "# train_with_features_jan = train_with_features_jan.merge(scala_labels_january)\n",
    "# train_with_features_feb = train_with_features_feb.merge(scala_labels_february)"
   ]
  },
  {
   "cell_type": "markdown",
   "metadata": {},
   "source": [
    "### Logs features"
   ]
  },
  {
   "cell_type": "markdown",
   "metadata": {},
   "source": [
    "Logs file is too big to load it into the computer memory.\n",
    "Let's use pyspark to filter out monthly logs!"
   ]
  },
  {
   "cell_type": "code",
   "execution_count": null,
   "metadata": {},
   "outputs": [],
   "source": [
    "from pyspark import SparkContext\n",
    "from pyspark.sql import SparkSession\n",
    "sc = SparkContext(\"local\", \"First App\")\n",
    "my_spark = SparkSession.builder.getOrCreate()\n",
    "file_path = user_logs_path\n",
    "user_logs = my_spark.read.csv(file_path, header=True)\n",
    "user_logs.show()\n",
    "user_logs.createOrReplaceTempView(\"user_logs\")\n",
    "print(my_spark.catalog.listTables())\n",
    "\n",
    "# filter only logs from january and february and save them to csv\n",
    "query_january = \"SELECT* FROM user_logs WHERE date >= 20170101 AND date <= 20170131\"\n",
    "january_logs = my_spark.sql(query_january)\n",
    "january_logs.coalesce(1).write.format('csv').save(\"january_logs\", header='true')\n",
    "\n",
    "query_february = \"SELECT* FROM user_logs WHERE date >= 20170201 AND date <= 20170228\"\n",
    "february_logs = my_spark.sql(query_february)\n",
    "february_logs.coalesce(1).write.format('csv').save(\"february_logs\", header='true')\n",
    "\n",
    "my_spark.stop()"
   ]
  },
  {
   "cell_type": "code",
   "execution_count": 13,
   "metadata": {},
   "outputs": [],
   "source": [
    "january_logs_path = join(PROJECT_DIR, \"january_logs.csv\")\n",
    "january_logs = pd.read_csv(january_logs_path)\n",
    "january_last_user_log = calculate_logs_features(january_logs, \"20170201\")\n",
    "del january_logs"
   ]
  },
  {
   "cell_type": "code",
   "execution_count": 14,
   "metadata": {},
   "outputs": [],
   "source": [
    "february_logs_path = join(PROJECT_DIR, \"february_logs.csv\")\n",
    "february_logs = pd.read_csv(february_logs_path)\n",
    "february_last_user_log = calculate_logs_features(february_logs, \"20170301\")\n",
    "del february_logs"
   ]
  },
  {
   "cell_type": "code",
   "execution_count": 16,
   "metadata": {},
   "outputs": [],
   "source": [
    "march_logs_path = join(PROJECT_DIR, \"user_logs_v2.csv\")\n",
    "march_logs = pd.read_csv(march_logs_path)\n",
    "march_logs = march_logs.loc[march_logs.date >= 20170301]\n",
    "march_last_user_log = calculate_logs_features(march_logs, \"20170401\")\n",
    "del march_logs"
   ]
  },
  {
   "cell_type": "code",
   "execution_count": 59,
   "metadata": {},
   "outputs": [],
   "source": [
    "all_my_train_features_jan = train_with_features_jan.merge(january_last_user_log, \n",
    "                                                          how=\"left\", on=\"msno\")\n",
    "\n",
    "# assing a value 99 for users who did not logged in the last month\n",
    "# max_value = all_my_train_features_jan[\"days_from_last_log\"].max()\n",
    "all_my_train_features_jan[\"days_from_last_log\"] = \\\n",
    "        all_my_train_features_jan[\"days_from_last_log\"].fillna(99)   #max_value+1\n",
    "all_my_train_features_jan = all_my_train_features_jan.fillna(0)"
   ]
  },
  {
   "cell_type": "code",
   "execution_count": 125,
   "metadata": {},
   "outputs": [],
   "source": [
    "all_my_train_features_feb = train_with_features_feb.merge(february_last_user_log, \n",
    "                                                          how=\"left\", on=\"msno\")\n",
    "\n",
    "# assing a value 99 for users who did not logged in the last month\n",
    "# max_value = all_my_train_features_feb[\"days_from_last_log\"].max()\n",
    "all_my_train_features_feb[\"days_from_last_log\"] = \\\n",
    "        all_my_train_features_feb[\"days_from_last_log\"].fillna(99)   #max_value+1\n",
    "all_my_train_features_feb = all_my_train_features_feb.fillna(0)"
   ]
  },
  {
   "cell_type": "code",
   "execution_count": 61,
   "metadata": {},
   "outputs": [],
   "source": [
    "all_my_test_features = test_with_features_mar.merge(march_last_user_log, how=\"left\", on=\"msno\")\n",
    "\n",
    "# assing a value 99 for users who did not logged in the last month\n",
    "# max_value = all_my_test_features[\"days_from_last_log\"].max()\n",
    "all_my_test_features[\"days_from_last_log\"] = \\\n",
    "        all_my_test_features[\"days_from_last_log\"].fillna(99)   #max_value+1\n",
    "all_my_test_features = all_my_test_features.fillna(0)"
   ]
  },
  {
   "cell_type": "markdown",
   "metadata": {},
   "source": [
    "### Features exploration"
   ]
  },
  {
   "cell_type": "code",
   "execution_count": 45,
   "metadata": {},
   "outputs": [
    {
     "data": {
      "text/html": [
       "<div>\n",
       "<style scoped>\n",
       "    .dataframe tbody tr th:only-of-type {\n",
       "        vertical-align: middle;\n",
       "    }\n",
       "\n",
       "    .dataframe tbody tr th {\n",
       "        vertical-align: top;\n",
       "    }\n",
       "\n",
       "    .dataframe thead th {\n",
       "        text-align: right;\n",
       "    }\n",
       "</style>\n",
       "<table border=\"1\" class=\"dataframe\">\n",
       "  <thead>\n",
       "    <tr style=\"text-align: right;\">\n",
       "      <th></th>\n",
       "      <th>count</th>\n",
       "      <th>mean</th>\n",
       "      <th>std</th>\n",
       "      <th>min</th>\n",
       "      <th>25%</th>\n",
       "      <th>50%</th>\n",
       "      <th>75%</th>\n",
       "      <th>max</th>\n",
       "    </tr>\n",
       "  </thead>\n",
       "  <tbody>\n",
       "    <tr>\n",
       "      <th>transaction_date_count</th>\n",
       "      <td>2363626.0</td>\n",
       "      <td>9.116394</td>\n",
       "      <td>8.887318</td>\n",
       "      <td>1.0</td>\n",
       "      <td>1.0</td>\n",
       "      <td>5.0</td>\n",
       "      <td>16.0</td>\n",
       "      <td>71.0</td>\n",
       "    </tr>\n",
       "    <tr>\n",
       "      <th>is_cancel_sum</th>\n",
       "      <td>2363626.0</td>\n",
       "      <td>0.362515</td>\n",
       "      <td>0.569036</td>\n",
       "      <td>0.0</td>\n",
       "      <td>0.0</td>\n",
       "      <td>0.0</td>\n",
       "      <td>1.0</td>\n",
       "      <td>20.0</td>\n",
       "    </tr>\n",
       "    <tr>\n",
       "      <th>subscription_length_sum</th>\n",
       "      <td>2363626.0</td>\n",
       "      <td>322.885609</td>\n",
       "      <td>711.648321</td>\n",
       "      <td>-48770.0</td>\n",
       "      <td>30.0</td>\n",
       "      <td>218.0</td>\n",
       "      <td>518.0</td>\n",
       "      <td>14855.0</td>\n",
       "    </tr>\n",
       "    <tr>\n",
       "      <th>days_from_start</th>\n",
       "      <td>2363626.0</td>\n",
       "      <td>491.734499</td>\n",
       "      <td>243.820651</td>\n",
       "      <td>1.0</td>\n",
       "      <td>275.0</td>\n",
       "      <td>525.0</td>\n",
       "      <td>736.0</td>\n",
       "      <td>790.0</td>\n",
       "    </tr>\n",
       "  </tbody>\n",
       "</table>\n",
       "</div>"
      ],
      "text/plain": [
       "                             count        mean         std      min    25%  \\\n",
       "transaction_date_count   2363626.0    9.116394    8.887318      1.0    1.0   \n",
       "is_cancel_sum            2363626.0    0.362515    0.569036      0.0    0.0   \n",
       "subscription_length_sum  2363626.0  322.885609  711.648321 -48770.0   30.0   \n",
       "days_from_start          2363626.0  491.734499  243.820651      1.0  275.0   \n",
       "\n",
       "                           50%    75%      max  \n",
       "transaction_date_count     5.0   16.0     71.0  \n",
       "is_cancel_sum              0.0    1.0     20.0  \n",
       "subscription_length_sum  218.0  518.0  14855.0  \n",
       "days_from_start          525.0  736.0    790.0  "
      ]
     },
     "execution_count": 45,
     "metadata": {},
     "output_type": "execute_result"
    }
   ],
   "source": [
    "train_with_features_deduplicated.describe().transpose()"
   ]
  },
  {
   "cell_type": "code",
   "execution_count": 46,
   "metadata": {},
   "outputs": [
    {
     "data": {
      "text/html": [
       "<div>\n",
       "<style scoped>\n",
       "    .dataframe tbody tr th:only-of-type {\n",
       "        vertical-align: middle;\n",
       "    }\n",
       "\n",
       "    .dataframe tbody tr th {\n",
       "        vertical-align: top;\n",
       "    }\n",
       "\n",
       "    .dataframe thead th {\n",
       "        text-align: right;\n",
       "    }\n",
       "</style>\n",
       "<table border=\"1\" class=\"dataframe\">\n",
       "  <thead>\n",
       "    <tr style=\"text-align: right;\">\n",
       "      <th></th>\n",
       "      <th>count</th>\n",
       "      <th>mean</th>\n",
       "      <th>std</th>\n",
       "      <th>min</th>\n",
       "      <th>25%</th>\n",
       "      <th>50%</th>\n",
       "      <th>75%</th>\n",
       "      <th>max</th>\n",
       "    </tr>\n",
       "  </thead>\n",
       "  <tbody>\n",
       "    <tr>\n",
       "      <th>transaction_date_count</th>\n",
       "      <td>2426143.0</td>\n",
       "      <td>9.471311</td>\n",
       "      <td>9.294885</td>\n",
       "      <td>1.0</td>\n",
       "      <td>2.0</td>\n",
       "      <td>5.0</td>\n",
       "      <td>16.0</td>\n",
       "      <td>244.0</td>\n",
       "    </tr>\n",
       "    <tr>\n",
       "      <th>is_cancel_sum</th>\n",
       "      <td>2426143.0</td>\n",
       "      <td>0.367655</td>\n",
       "      <td>0.577234</td>\n",
       "      <td>0.0</td>\n",
       "      <td>0.0</td>\n",
       "      <td>0.0</td>\n",
       "      <td>1.0</td>\n",
       "      <td>21.0</td>\n",
       "    </tr>\n",
       "    <tr>\n",
       "      <th>subscription_length_sum</th>\n",
       "      <td>2426143.0</td>\n",
       "      <td>384.497706</td>\n",
       "      <td>1185.711344</td>\n",
       "      <td>-48740.0</td>\n",
       "      <td>31.0</td>\n",
       "      <td>244.0</td>\n",
       "      <td>591.0</td>\n",
       "      <td>232521.0</td>\n",
       "    </tr>\n",
       "    <tr>\n",
       "      <th>days_from_start</th>\n",
       "      <td>2426143.0</td>\n",
       "      <td>511.735603</td>\n",
       "      <td>250.845944</td>\n",
       "      <td>1.0</td>\n",
       "      <td>280.0</td>\n",
       "      <td>542.0</td>\n",
       "      <td>759.0</td>\n",
       "      <td>821.0</td>\n",
       "    </tr>\n",
       "  </tbody>\n",
       "</table>\n",
       "</div>"
      ],
      "text/plain": [
       "                             count        mean          std      min    25%  \\\n",
       "transaction_date_count   2426143.0    9.471311     9.294885      1.0    2.0   \n",
       "is_cancel_sum            2426143.0    0.367655     0.577234      0.0    0.0   \n",
       "subscription_length_sum  2426143.0  384.497706  1185.711344 -48740.0   31.0   \n",
       "days_from_start          2426143.0  511.735603   250.845944      1.0  280.0   \n",
       "\n",
       "                           50%    75%       max  \n",
       "transaction_date_count     5.0   16.0     244.0  \n",
       "is_cancel_sum              0.0    1.0      21.0  \n",
       "subscription_length_sum  244.0  591.0  232521.0  \n",
       "days_from_start          542.0  759.0     821.0  "
      ]
     },
     "execution_count": 46,
     "metadata": {},
     "output_type": "execute_result"
    }
   ],
   "source": [
    "test_features.describe().transpose()"
   ]
  },
  {
   "cell_type": "markdown",
   "metadata": {},
   "source": [
    "### Does churn depend on number of days from the first transaction?\n",
    "- Churning user have a bit lower number of days that passed from the first transaction."
   ]
  },
  {
   "cell_type": "code",
   "execution_count": 20,
   "metadata": {},
   "outputs": [
    {
     "data": {
      "image/png": "[encoded data removed]",
      "text/plain": [
       "<Figure size 432x288 with 1 Axes>"
      ]
     },
     "metadata": {},
     "output_type": "display_data"
    }
   ],
   "source": [
    "ax = sns.boxplot(x=\"is_churn\", y=\"days_from_start\", data=train_with_features_deduplicated)"
   ]
  },
  {
   "cell_type": "markdown",
   "metadata": {},
   "source": [
    "### Does churn depend on length of the current subscription?\n",
    "- This variable needs deeper inversigation."
   ]
  },
  {
   "cell_type": "code",
   "execution_count": 26,
   "metadata": {},
   "outputs": [
    {
     "data": {
      "image/png": "[encoded data removed]",
      "text/plain": [
       "<Figure size 432x288 with 1 Axes>"
      ]
     },
     "metadata": {},
     "output_type": "display_data"
    }
   ],
   "source": [
    "ax = sns.boxplot(x=\"is_churn\", y=\"subscription_length\", \n",
    "                 data=train_with_features_deduplicated) #.loc[train_with_features_deduplicated.subscription_length >= 0])"
   ]
  },
  {
   "cell_type": "markdown",
   "metadata": {},
   "source": [
    "### Does churn depend on number of all transactions that user made?\n",
    "- Yes, users who churn made a bit less transactions (this is correlated with the first variable)"
   ]
  },
  {
   "cell_type": "code",
   "execution_count": 28,
   "metadata": {},
   "outputs": [
    {
     "data": {
      "image/png": "[encoded data removed]",
      "text/plain": [
       "<Figure size 432x288 with 1 Axes>"
      ]
     },
     "metadata": {},
     "output_type": "display_data"
    }
   ],
   "source": [
    "ax = sns.boxplot(x=\"is_churn\", y=\"transactions_num\", data=train_with_features_deduplicated)"
   ]
  },
  {
   "cell_type": "markdown",
   "metadata": {},
   "source": [
    "### Does churn depend on number of all cancelations that user made?\n",
    "- Yes, users who churn made more cancelations."
   ]
  },
  {
   "cell_type": "code",
   "execution_count": 29,
   "metadata": {},
   "outputs": [
    {
     "data": {
      "image/png": "[encoded data removed]",
      "text/plain": [
       "<Figure size 432x288 with 1 Axes>"
      ]
     },
     "metadata": {},
     "output_type": "display_data"
    }
   ],
   "source": [
    "ax = sns.boxplot(x=\"is_churn\", y=\"cancelations_num\", data=train_with_features_deduplicated)"
   ]
  },
  {
   "cell_type": "markdown",
   "metadata": {},
   "source": [
    "### Does churn depend on the fact if the current subscription is automaticaly renewed?\n",
    "- Yes, users whose subscripton is automatically renewed churn much less often."
   ]
  },
  {
   "cell_type": "code",
   "execution_count": 44,
   "metadata": {},
   "outputs": [
    {
     "data": {
      "image/png": "[encoded data removed]",
      "text/plain": [
       "<Figure size 432x288 with 1 Axes>"
      ]
     },
     "metadata": {},
     "output_type": "display_data"
    }
   ],
   "source": [
    "ax = sns.countplot(x=\"last_is_auto_renew\", hue=\"is_churn\", data=train_with_features_deduplicated)\n",
    "total=train_with_features_deduplicated.shape[0]\n",
    "for p in ax.patches:\n",
    "    height = p.get_height()\n",
    "    ax.text(p.get_x()+p.get_width()/2.,\n",
    "            height + 3,\n",
    "            '{:1.2f}'.format(height/total),\n",
    "            ha=\"center\") "
   ]
  },
  {
   "cell_type": "code",
   "execution_count": 48,
   "metadata": {},
   "outputs": [
    {
     "name": "stdout",
     "output_type": "stream",
     "text": [
      " 3.37% of users whose subscription is automatically renewed churn\n",
      " 36.36% of users whose subscription is NOT automatically renewed churn\n"
     ]
    }
   ],
   "source": [
    "print(f\"{0.03/0.89: 0.2%} of users whose subscription is automatically renewed churn\")\n",
    "print(f\"{0.04/0.11: 0.2%} of users whose subscription is NOT automatically renewed churn\")"
   ]
  },
  {
   "cell_type": "markdown",
   "metadata": {},
   "source": [
    "### Members data\n",
    "Not all users are members and using the data will create a lot of missing valus\n",
    "<br>But we can at least add boolean feature if the user is a member"
   ]
  },
  {
   "cell_type": "code",
   "execution_count": 112,
   "metadata": {},
   "outputs": [],
   "source": [
    "members = pd.read_csv(members_v3_path)\n",
    "members[\"is_member\"] = 1"
   ]
  },
  {
   "cell_type": "code",
   "execution_count": null,
   "metadata": {},
   "outputs": [],
   "source": [
    "members_feb = members.loc[members.registration_init_time <= 20170228]\n",
    "all_my_train_features_feb = all_my_train_features_feb.merge(members_feb[[\"msno\", \"is_member\"]], \n",
    "                                                            on=\"msno\", how=\"left\")\n",
    "all_my_train_features_feb[\"is_member\"] = all_my_train_features_feb[\"is_member\"].fillna(0)"
   ]
  },
  {
   "cell_type": "code",
   "execution_count": null,
   "metadata": {},
   "outputs": [],
   "source": [
    "members_jan = members.loc[members.registration_init_time <= 20170131]\n",
    "all_my_train_features_jan = all_my_train_features_jan.merge(members_jan[[\"msno\", \"is_member\"]], \n",
    "                                                            on=\"msno\", how=\"left\")\n",
    "all_my_train_features_jan[\"is_member\"] = all_my_train_features_jan[\"is_member\"].fillna(0)"
   ]
  },
  {
   "cell_type": "code",
   "execution_count": null,
   "metadata": {},
   "outputs": [],
   "source": [
    "members_mar = members.loc[members.registration_init_time <= 20170331]\n",
    "all_my_test_features = all_my_test_features.merge(members_mar[[\"msno\", \"is_member\"]], \n",
    "                                                            on=\"msno\", how=\"left\")\n",
    "all_my_test_features[\"is_member\"] = all_my_test_features[\"is_member\"].fillna(0)"
   ]
  },
  {
   "cell_type": "markdown",
   "metadata": {},
   "source": [
    "### Modeling with XGboost\n",
    "Based on tutorial: <br>\n",
    "[\"Using XGBoost in Python\"](https://www.datacamp.com/community/tutorials/xgboost-in-python?utm_source=adwords_ppc&utm_campaignid=9942305733&utm_adgroupid=100189364546&utm_device=c&utm_keyword=&utm_matchtype=b&utm_network=g&utm_adpostion=&utm_creative=332602034352&utm_targetid=aud-299261629574:dsa-929501846124&utm_loc_interest_ms=&utm_loc_physical_ms=9060640&gclid=Cj0KCQjw0YD4BRD2ARIsAHwmKVkoOKq4tg0ihd-a5jx70ZIDySVNt1e8bTrBYOOQkPIaLb5aElQY3FgaApotEALw_wcB)"
   ]
  },
  {
   "cell_type": "code",
   "execution_count": 196,
   "metadata": {},
   "outputs": [],
   "source": [
    "# Without logs features (only transactional)\n",
    "train_set = train_with_features_jan\n",
    "validation_set = train_with_features_feb\n",
    "test_set = test_with_features_mar\n",
    "validation_set[\"p_25\"] = 0"
   ]
  },
  {
   "cell_type": "code",
   "execution_count": 63,
   "metadata": {},
   "outputs": [],
   "source": [
    "# With logs features\n",
    "train_set = all_my_train_features_jan\n",
    "validation_set = all_my_train_features_feb\n",
    "test_set = all_my_test_features\n",
    "validation_set[\"p_25\"] = 0\n",
    "\n",
    "train_set = train_set.drop(columns=\"is_churn\").merge(scala_labels_january)\n",
    "validation_set = validation_set.drop(columns=\"is_churn\").merge(scala_labels_february)"
   ]
  },
  {
   "cell_type": "code",
   "execution_count": 130,
   "metadata": {},
   "outputs": [],
   "source": [
    "# Using available lables from \"train.csv\"\n",
    "# Trainign on february\n",
    "# Validating on January (to use train.csv in model)\n",
    "train = pd.read_csv(\"train.csv\")\n",
    "train_set = all_my_train_features_feb\n",
    "validation_set = all_my_train_features_jan\n",
    "test_set = all_my_test_features\n",
    "train_set[\"p_25\"] = 0\n",
    "\n",
    "train_set = train_set.drop(columns=\"is_churn\").merge(train)\n",
    "validation_set = validation_set.drop(columns=\"is_churn\").merge(scala_labels_february)"
   ]
  },
  {
   "cell_type": "code",
   "execution_count": 152,
   "metadata": {},
   "outputs": [],
   "source": [
    "train_set[\"price_diff\"] = train_set[\"last_plan_list_price\"] - train_set[\"last_actual_amount_paid\"]\n",
    "validation_set[\"price_diff\"]  = validation_set[\"last_plan_list_price\"] - validation_set[\"last_actual_amount_paid\"]\n",
    "test_set[\"price_diff\"]  = test_set[\"last_plan_list_price\"] - test_set[\"last_actual_amount_paid\"]"
   ]
  },
  {
   "cell_type": "code",
   "execution_count": 185,
   "metadata": {},
   "outputs": [],
   "source": [
    "# from sklearn.model_selection import train_test_split\n",
    "# random.seed(1)\n",
    "# train_set, test_set = train_test_split(all_my_train_features, test_size=0.2)"
   ]
  },
  {
   "cell_type": "code",
   "execution_count": 155,
   "metadata": {},
   "outputs": [
    {
     "name": "stdout",
     "output_type": "stream",
     "text": [
      "Accuracy of XGB classifier on training set: 0.96\n",
      "Accuracy of XGB classifier on validation set: 0.98\n"
     ]
    }
   ],
   "source": [
    "#XGBoost Model\n",
    "\n",
    "random.seed(1)\n",
    "features = [\n",
    "#     \"is_member\",\n",
    "    \"transactions_num\", \n",
    "    \"is_cancel\", \n",
    "    \"days_from_start\", \n",
    "    \"last_is_auto_renew\", \n",
    "    \"last_payment_plan_days\",\n",
    "    \"price_diff\",\n",
    "    \"last_plan_list_price\",\n",
    "    \"last_actual_amount_paid\",\n",
    "    \"last_transactions_num\", # +\n",
    "    \"p_3\",\n",
    "    \"p_6\",\n",
    "    \"p_8\",\n",
    "    \"p_10\",\n",
    "    \"p_11\",\n",
    "    \"p_12\",\n",
    "    \"p_13\",\n",
    "    \"p_14\",\n",
    "    \"p_15\",\n",
    "    \"p_16\",\n",
    "    \"p_17\",\n",
    "    \"p_18\",\n",
    "    \"p_19\",\n",
    "    \"p_20\",\n",
    "    \"p_21\",\n",
    "    \"p_22\",\n",
    "    \"p_23\",\n",
    "    \"p_25\",\n",
    "    \"p_26\",\n",
    "    \"p_27\",\n",
    "    \"p_28\",  \n",
    "    \"p_29\",\n",
    "    \"p_30\",\n",
    "    \"p_31\",\n",
    "    \"p_32\",\n",
    "    \"p_33\",\n",
    "    \"p_34\",\n",
    "    \"p_35\",\n",
    "    \"p_36\",\n",
    "    \"p_37\",\n",
    "    \"p_38\",\n",
    "    \"p_39\",\n",
    "    \"p_40\",\n",
    "    \"p_41\",\n",
    "#     \"days_from_last_log\", # -\n",
    "    \"last_month_logs_num\", # +\n",
    "#     \"total_secs_sum\", # -\n",
    "#     \"total_secs_mean\",\n",
    "#     \"num_unq_sum\",\n",
    "#     \"num_unq_mean\",\n",
    "    \"num_100_sum\", # +\n",
    "    \"num_25_sum\", # +\n",
    "#     \"num_100_mean\" # -\n",
    "    \n",
    "# worse result with all of them!\n",
    "#     \"num_25_mean\",\n",
    "#     \"num_50_sum\",\n",
    "#     \"num_50_mean\",\n",
    "#     \"num_75_sum\",\n",
    "#     \"num_75_mean\",\n",
    "#     \"num_985_sum\",\n",
    "#     \"num_985_mean\",\n",
    "#     \"num_100_mean\"\n",
    "    ]\n",
    "X_train, y_train = train_set[features], train_set[\"is_churn\"]\n",
    "X_validation, y_validation = validation_set[features], validation_set[\"is_churn\"]\n",
    "\n",
    "xgb_model = xgb.XGBClassifier(verbosity=1,\n",
    "                              max_depth=4, \n",
    "                              learning_rate=0.1,\n",
    "                              objective= \"binary:logistic\",\n",
    "                              n_jobs=-1).fit(X_train, y_train)\n",
    "\n",
    "print(\"Accuracy of XGB classifier on training set: {:.2f}\"\n",
    "       .format(xgb_model.score(X_train, y_train)))\n",
    "print(\"Accuracy of XGB classifier on validation set: {:.2f}\"\n",
    "       .format(xgb_model.score(X_validation[X_train.columns], y_validation)))"
   ]
  },
  {
   "cell_type": "markdown",
   "metadata": {},
   "source": [
    "### Log loss for train and test set"
   ]
  },
  {
   "cell_type": "code",
   "execution_count": 156,
   "metadata": {},
   "outputs": [
    {
     "name": "stdout",
     "output_type": "stream",
     "text": [
      "The lower log loss the better\n",
      "Validation set log loss: 0.10658114589873867\n",
      "Train set log loss: 0.10209953870478108\n"
     ]
    }
   ],
   "source": [
    "from sklearn.metrics import log_loss\n",
    "# log_loss(y_true, y_pred)\n",
    "\n",
    "prediction_validation = xgb_model.predict_proba(X_validation[features])\n",
    "prediction_train = xgb_model.predict_proba(X_train[features])\n",
    "y_pred_validation = pd.DataFrame(prediction_validation).loc[:,1]\n",
    "y_pred_train = pd.DataFrame(prediction_train).loc[:,1]\n",
    "y_true_validation = y_validation\n",
    "y_true_train = y_train\n",
    "\n",
    "print(\"The lower log loss the better\")\n",
    "print(f\"Validation set log loss: {log_loss(y_true_validation, y_pred_validation, normalize=True)}\")\n",
    "print(f\"Train set log loss: {log_loss(y_true_train, y_pred_train, normalize=True)}\")"
   ]
  },
  {
   "cell_type": "code",
   "execution_count": null,
   "metadata": {},
   "outputs": [],
   "source": [
    "transactiona_features = [   \n",
    "    \"transactions_num\", \n",
    "    \"is_cancel\", \n",
    "    \"days_from_start\", \n",
    "    \"last_is_auto_renew\", \n",
    "    \"last_payment_plan_days\",\n",
    "    \"last_plan_list_price\",\n",
    "    \"last_actual_amount_paid\",\n",
    "    \"last_transactions_num\"\n",
    "]\n",
    "\n",
    "The lower log loss the better\n",
    "\n",
    "# All transactional features\n",
    "Validation set log loss: 0.08987856495235082\n",
    "Train set log loss: 0.06600082780591267\n",
    "\n",
    "# All transactional features (but only payement: p_ 28,31,32,33,34,35,38,39,41)\n",
    "Validation set log loss: 0.09049935917952993\n",
    "Train set log loss: 0.06564811247769056\n",
    "    \n",
    "# All transactional features (but only payement: p_ 28,31,32,33,34,35,38,39,41)\n",
    "# without \"last_transactions_num\"\n",
    "Validation set log loss: 0.09174819306929823\n",
    "Train set log loss: 0.06621224000395727\n",
    "\n",
    "# All transactional features (but without payements)\n",
    "Validation set log loss: 0.09308671642720492\n",
    "Train set log loss: 0.06726382501786995\n",
    "# Kaggle - Public Score: 0.14073\n",
    "    \n",
    "# All transactional features and some logs features\n",
    "Validation set log loss: 0.06717202937332989\n",
    "Train set log loss: 0.049447254019830376\n",
    "# Kaggle - Public Score: 0.15425 \n",
    "    \n",
    "# ------- Scala script labels ------ #\n",
    "# All transactional features and some logs features\n",
    "Validation set log loss: 0.05747874824669723\n",
    "Train set log loss: 0.04295457049418308\n",
    "# Kaggle - Public Score: 0.14808\n",
    "\n",
    "# All transactional features and some logs features \n",
    "# scala lables based with last month history cutoff\n",
    "# As suggested in original scala file\n",
    "Validation set log loss: 0.05255267561716552\n",
    "Train set log loss: 0.03794085620411787\n",
    "# Kaggle - Public Score: 0.15269\n",
    "\n",
    "\n",
    "# All transactional features\n",
    "# Without logs\n",
    "# Scala labels - not one month - one year history cutoff\n",
    "Validation set log loss: 0.08625422304018238\n",
    "Train set log loss: 0.07125698383262877\n",
    "# Kaggle - Public Score: 0.13366\n",
    "\n",
    "# All transactional features\n",
    "# With \"days_from_last_log\" - new definition: 99 if more than max\n",
    "# Scala labels - not one month - one year history cutoff\n",
    "Validation set log loss: 0.057690872125019096\n",
    "Train set log loss: 0.04355883115983883\n",
    "# Kaggle - Public Score: 0.14931\n",
    "\n",
    "# All transactional features\n",
    "# With last_month_logs_num\n",
    "# Scala labels - not one month - one year history cutoff\n",
    "The lower log loss the better\n",
    "Validation set log loss: 0.06929316659167535\n",
    "Train set log loss: 0.05568723277924711\n",
    "# Kaggle - Public Score: 0.13187\n",
    "\n",
    "# All transactional features\n",
    "# With last_month_logs_num + num_unq_sum\n",
    "# Scala labels - not one month - one year history cutoff\n",
    "Validation set log loss: 0.06946175270529986\n",
    "Train set log loss: 0.05572308866457669\n",
    "# Kaggle - Public Score: 0.13232\n",
    "\n",
    "\n",
    "\n",
    "\n",
    "# -----: train.csv ------ #\n",
    "# All transactional features\n",
    "# With last_month_logs_num\n",
    "Training: february\n",
    "Validating: January\n",
    "Validation set log loss: 0.10747140400553815\n",
    "Train set log loss: 0.10226178727181985\n",
    "# Kaggle - Public Score: 0.12412  # 87th /574 \n",
    "\n",
    "# train.csv\n",
    "# All transactional features\n",
    "# With: last_month_logs_num + num_100_sum\n",
    "Training: february\n",
    "Validating: January\n",
    "Validation set log loss: 0.1073091199877406\n",
    "Train set log loss: 0.10222664729931981\n",
    "# Kaggle - Public Score: 0.12375 # 78th /574 \n",
    "\n",
    "\n",
    "#### -------  !! WINNER !! ------ #######\n",
    "# train.csv\n",
    "# All transactional features\n",
    "# With: last_month_logs_num + num_100_sum + num_25_sum\n",
    "Training: february\n",
    "Validating: January\n",
    "Validation set log loss: 0.1067291828208083\n",
    "Train set log loss: 0.101972377573934\n",
    "# Kaggle - Public Score: 0.12343 # 75th\n",
    "\n",
    "\n",
    "# train.csv\n",
    "# All transactional features\n",
    "# With: last_month_logs_num + num_100_sum + num_25_sum + is_member\n",
    "Training: february\n",
    "Validating: January\n",
    "Validation set log loss: 0.10722052232246496\n",
    "Train set log loss: 0.1021666782706119\n",
    "# Kaggle - Public Score: 0.12357\n",
    "\n",
    "\n",
    "# train.csv\n",
    "# All transactional features\n",
    "# With: last_month_logs_num + num_100_sum + num_25_sum + total_secs_sum \n",
    "Training: february\n",
    "Validating: January\n",
    "Validation set log loss: 0.10718066865746934\n",
    "Train set log loss: 0.1021210024684198\n",
    "# Kaggle - Public Score: - (total_secs_sum  not improving\n",
    "\n",
    "\n",
    "# train.csv\n",
    "# All transactional features\n",
    "# With: last_month_logs_num + num_100_sum + num_25_sum + num_100_mean \n",
    "Training: february\n",
    "Validating: January\n",
    "Validation set log loss: 0.10643713119846124\n",
    "Train set log loss: 0.1022159036170292\n",
    "# Kaggle - Public Score: - (num_100_mean  not improving)\n",
    "\n",
    "\n",
    "# train.csv\n",
    "# All transactional features\n",
    "# With: last_month_logs_num + num_100_sum + num_25_sum  \n",
    "# without: last_transactions_num\n",
    "Training: february\n",
    "Validating: January\n",
    "Validation set log loss: 0.10661088164779728\n",
    "Train set log loss: 0.10291233635956142\n",
    "# Kaggle - Public Score: 0.12380\n",
    "\n",
    "\n",
    "# train.csv\n",
    "# All transactional features\n",
    "# With: last_month_logs_num + num_100_sum + num_25_sum  \n",
    "# \"price_diff\" instead of list price and actual price\n",
    "Training: february\n",
    "Validating: January\n",
    "Validation set log loss: 0.1090252290640523\n",
    "Train set log loss: 0.10466540764110334\n",
    "# Kaggle - Public Score: - (not improving!)\n",
    "\n",
    "# train.csv\n",
    "# All transactional features\n",
    "# With: last_month_logs_num + num_100_sum + num_25_sum  \n",
    "# \"price_diff\" additionally\n",
    "Training: february\n",
    "Validating: January\n",
    "Validation set log loss: 0.10658114589873867\n",
    "Train set log loss: 0.10209953870478108\n",
    "# Kaggle - Public Score: 0.12382"
   ]
  },
  {
   "cell_type": "markdown",
   "metadata": {},
   "source": [
    "##### !! Changing just lables in training set (using those from train.csv) increase the score on the Leader Board a lot !!\n",
    "Looks like they are correct one.\n",
    "<br>But we cannot produce more for different time periods with scala script (or some other way.\n",
    "<br>So we have to use only users with subscription expiring in February. "
   ]
  },
  {
   "cell_type": "markdown",
   "metadata": {},
   "source": [
    "### Features importance\n",
    "- We need to remember that there are many types of feature importance: 'weight', 'gain', 'cover',\n",
    "- Default: ‘weight’: the number of times a feature is used to split the data across all trees. It may be lower for features with lower cardinality (like True/False features, so our \"last_is_auto_renew\"),\n",
    "- ‘gain’: the average gain across all splits the feature is used in."
   ]
  },
  {
   "cell_type": "code",
   "execution_count": 157,
   "metadata": {},
   "outputs": [
    {
     "data": {
      "image/png": "[encoded data removed]",
      "text/plain": [
       "<Figure size 864x504 with 1 Axes>"
      ]
     },
     "metadata": {},
     "output_type": "display_data"
    }
   ],
   "source": [
    "xgb.plot_importance(xgb_model, importance_type=\"gain\")\n",
    "plt.rcParams['figure.figsize'] = [12, 7]\n",
    "plt.show()"
   ]
  },
  {
   "cell_type": "code",
   "execution_count": 158,
   "metadata": {},
   "outputs": [],
   "source": [
    "submission = xgb_model.predict_proba(test_set[features])"
   ]
  },
  {
   "cell_type": "code",
   "execution_count": 159,
   "metadata": {},
   "outputs": [],
   "source": [
    "submission_int = xgb_model.predict(test_set[features])"
   ]
  },
  {
   "cell_type": "code",
   "execution_count": 160,
   "metadata": {},
   "outputs": [],
   "source": [
    "final_submission = pd.DataFrame({\"msno\": test_set.msno.reset_index(drop=True), \n",
    "                                 \"is_churn\": pd.DataFrame(submission).loc[:,1]})"
   ]
  },
  {
   "cell_type": "code",
   "execution_count": 161,
   "metadata": {},
   "outputs": [],
   "source": [
    "final_submission.to_csv(\"submission_31.csv\", index=False)"
   ]
  },
  {
   "cell_type": "markdown",
   "metadata": {},
   "source": [
    "###### Train set log loss < Test set log loss  => Overfitting"
   ]
  },
  {
   "cell_type": "markdown",
   "metadata": {},
   "source": [
    "#### Ideas to improve:\n",
    "  - for overfitting: decrease max_depth or change other parameters,\n",
    "  - create more features,\n",
    "  - add different periods - maybe there is seasonality?"
   ]
  },
  {
   "cell_type": "code",
   "execution_count": null,
   "metadata": {},
   "outputs": [],
   "source": []
  }
 ],
 "metadata": {
  "kernelspec": {
   "display_name": "Python 3",
   "language": "python",
   "name": "python3"
  },
  "language_info": {
   "codemirror_mode": {
    "name": "ipython",
    "version": 3
   },
   "file_extension": ".py",
   "mimetype": "text/x-python",
   "name": "python",
   "nbconvert_exporter": "python",
   "pygments_lexer": "ipython3",
   "version": "3.6.10"
  }
 },
 "nbformat": 4,
 "nbformat_minor": 4
}
