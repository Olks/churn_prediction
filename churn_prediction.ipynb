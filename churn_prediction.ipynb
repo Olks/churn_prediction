{
 "cells": [
  {
   "cell_type": "markdown",
   "metadata": {},
   "source": [
    "## Churn prediction - Kaggle competition\n",
    "\n",
    "- Even when a Kaggle competition is over we can still download the data, read notebooks of participants and learn!\n",
    "<br>And then submit our own prediction to see how well our model perform. "
   ]
  },
  {
   "cell_type": "markdown",
   "metadata": {},
   "source": [
    "##### This a an exploratory analysis and prediction with XGBoost for Kaggle competition:\n",
    "\n",
    "[\"WSDM - KKBox's Churn Prediction Challenge\n",
    "Can you predict when subscribers will churn?\"](https://www.kaggle.com/c/kkbox-churn-prediction-challenge/)\n"
   ]
  },
  {
   "cell_type": "markdown",
   "metadata": {},
   "source": [
    "**Churn definition (in data description on Kaggle)** \n",
    ">The criteria of \"churn\" is no new valid service subscription within 30 days after the current membership expires."
   ]
  },
  {
   "cell_type": "code",
   "execution_count": 1,
   "metadata": {},
   "outputs": [],
   "source": [
    "import random\n",
    "import pandas as pd\n",
    "import xgboost as xgb\n",
    "from os.path import join\n",
    "\n",
    "import seaborn as sns\n",
    "sns.set(style=\"whitegrid\")\n",
    "import matplotlib.pyplot as plt"
   ]
  },
  {
   "cell_type": "markdown",
   "metadata": {},
   "source": [
    "## Loading the data"
   ]
  },
  {
   "cell_type": "markdown",
   "metadata": {},
   "source": [
    "The files set provided contains bigger files with data till the end of February 2017 and additional files (\"v2\" suffix) with update of March 2017.\n",
    "<br>They are too big to load them all into python but we can concatenate some of them in GNU terminal (Git Bash):\n",
    "><code>cat transactions.csv > transactions_v3.csv; tail -n +2 transactions_v2.csv >> transactions_v3.csv </code>"
   ]
  },
  {
   "cell_type": "code",
   "execution_count": 2,
   "metadata": {},
   "outputs": [],
   "source": [
    "PROJECT_DIR = r\"C:\\Users\\Olks\\Desktop\\churn_prediction\""
   ]
  },
  {
   "cell_type": "code",
   "execution_count": 3,
   "metadata": {},
   "outputs": [],
   "source": [
    "train_path = join(PROJECT_DIR, \"train.csv\")\n",
    "train_v2_path = join(PROJECT_DIR, \"train_v2.csv\")\n",
    "user_logs_path = join(PROJECT_DIR, \"user_logs.csv\")\n",
    "user_logs_v2_path = join(PROJECT_DIR, \"user_logs_v2.csv\")\n",
    "sample_submission_zero_path = join(PROJECT_DIR, \"sample_submission_zero.csv\")\n",
    "sample_submission_v2_path = join(PROJECT_DIR, \"sample_submission_v2.csv\")\n",
    "transactions_path = join(PROJECT_DIR, \"transactions.csv\")\n",
    "transactions_v2_path = join(PROJECT_DIR, \"transactions_v2.csv\")\n",
    "transactions_v3_path = join(PROJECT_DIR, \"transactions_v3.csv\")\n",
    "members_v3_path = join(PROJECT_DIR, \"members_v3.csv\")"
   ]
  },
  {
   "cell_type": "markdown",
   "metadata": {},
   "source": [
    "#### Some files are to big to load them so we will use spark to query them"
   ]
  },
  {
   "cell_type": "code",
   "execution_count": 2,
   "metadata": {},
   "outputs": [],
   "source": [
    "from pyspark import SparkContext\n",
    "sc = SparkContext(\"local\", \"First App\")\n",
    "print(sc)\n",
    "print(sc.version)"
   ]
  },
  {
   "cell_type": "code",
   "execution_count": 5,
   "metadata": {},
   "outputs": [
    {
     "name": "stdout",
     "output_type": "stream",
     "text": [
      "<pyspark.sql.session.SparkSession object at 0x0000021EB4D7C7F0>\n"
     ]
    }
   ],
   "source": [
    "# Import SparkSession from pyspark.sql\n",
    "from pyspark.sql import SparkSession\n",
    "\n",
    "# Create my_spark\n",
    "# getOrCreate() returns an existing if there is one already\n",
    "my_spark = SparkSession.builder.getOrCreate()\n",
    "\n",
    "# Print my_spark\n",
    "print(my_spark)\n",
    "\n",
    "print(my_spark.catalog.listTables())"
   ]
  },
  {
   "cell_type": "code",
   "execution_count": null,
   "metadata": {},
   "outputs": [],
   "source": [
    "file_path = user_logs_path\n",
    "\n",
    "# Read in the airports data\n",
    "user_logs = my_spark.read.csv(file_path, header=True)\n",
    "\n",
    "# Show the data\n",
    "user_logs.show()"
   ]
  },
  {
   "cell_type": "code",
   "execution_count": 16,
   "metadata": {},
   "outputs": [],
   "source": [
    "from pyspark.sql import functions as f"
   ]
  },
  {
   "cell_type": "code",
   "execution_count": null,
   "metadata": {},
   "outputs": [],
   "source": [
    "user_logs.select(\"date\").show()"
   ]
  },
  {
   "cell_type": "code",
   "execution_count": 18,
   "metadata": {},
   "outputs": [],
   "source": [
    "user_logs.createOrReplaceTempView(\"user_logs\")"
   ]
  },
  {
   "cell_type": "code",
   "execution_count": 18,
   "metadata": {},
   "outputs": [],
   "source": [
    "# max_date = my_spark.sql(\"SELECT MAX(date) FROM user_logs\")\n",
    "# max_date.show()"
   ]
  },
  {
   "cell_type": "markdown",
   "metadata": {},
   "source": [
    "Maximum date in user_logs file: 20170228"
   ]
  },
  {
   "cell_type": "code",
   "execution_count": null,
   "metadata": {},
   "outputs": [],
   "source": [
    "# start: 22:38\n",
    "# java.lang.OutOfMemoryError\n",
    "# query = \"SELECT msno, MAX(date) FROM user_logs GROUP BY msno\"\n",
    "# last_log = my_spark.sql(query)\n",
    "# last_log_df = last_log.toPandas()\n",
    "# last_log_df.to_csv(\"last_log.csv\")\n",
    "# last_log_df"
   ]
  },
  {
   "cell_type": "code",
   "execution_count": null,
   "metadata": {},
   "outputs": [],
   "source": [
    "# filter only logs from february and save them to csv\n",
    "query = \"SELECT* FROM user_logs WHERE date >= 20170201\"\n",
    "february = my_spark.sql(query)\n",
    "# df=february.toPandas()\n",
    "february.show()\n",
    "february.coalesce(1).write.format('csv').save(\"february_logs.csv\", header='true')"
   ]
  },
  {
   "cell_type": "code",
   "execution_count": null,
   "metadata": {},
   "outputs": [],
   "source": [
    "my_spark.stop()"
   ]
  },
  {
   "cell_type": "markdown",
   "metadata": {},
   "source": [
    "### Exploration of the data"
   ]
  },
  {
   "cell_type": "markdown",
   "metadata": {},
   "source": [
    "#### First data check: reading 1000 lines per file because they are too big read them all at once\n",
    "- Later we can read selected columns or whole files by chunks"
   ]
  },
  {
   "cell_type": "code",
   "execution_count": 4,
   "metadata": {},
   "outputs": [],
   "source": [
    "train = pd.read_csv(train_path, nrows=1000)\n",
    "train_v2 = pd.read_csv(train_v2_path, nrows=1000)\n",
    "user_logs = pd.read_csv(user_logs_path, nrows=1000) \n",
    "user_logs_v2 = pd.read_csv(user_logs_v2_path, nrows=1000)\n",
    "sample_submission_zero = pd.read_csv(sample_submission_zero_path, nrows=1000)\n",
    "sample_submission_v2 = pd.read_csv(sample_submission_v2_path, nrows=1000)\n",
    "transactions = pd.read_csv(transactions_path, nrows=1000)\n",
    "transactions_v2 = pd.read_csv(transactions_v2_path, nrows=1000)\n",
    "transactions_v3 = pd.read_csv(transactions_v3_path, nrows=1000) \n",
    "members_v3 = pd.read_csv(members_v3_path, nrows=1000)"
   ]
  },
  {
   "cell_type": "code",
   "execution_count": 5,
   "metadata": {},
   "outputs": [],
   "source": [
    "tables = {\n",
    "    \"train\": train, \n",
    "    \"train_v2\": train_v2, \n",
    "    \"user_logs\": user_logs,\n",
    "    \"user_logs_v2\": user_logs_v2, \n",
    "    \"sample_submission_zero\": sample_submission_zero, \n",
    "    \"sample_submission_v2\": sample_submission_v2,\n",
    "    \"transactions\": transactions,\n",
    "    \"transactions_v2\": transactions_v2,\n",
    "    \"transactions_v3\": transactions_v3,\n",
    "    \"members_v3\": members_v3\n",
    "}"
   ]
  },
  {
   "cell_type": "code",
   "execution_count": 6,
   "metadata": {},
   "outputs": [
    {
     "data": {
      "application/javascript": [
       "IPython.OutputArea.prototype._should_scroll = function(lines) {\n",
       "    return false;\n",
       "}\n"
      ],
      "text/plain": [
       "<IPython.core.display.Javascript object>"
      ]
     },
     "metadata": {},
     "output_type": "display_data"
    }
   ],
   "source": [
    "%%javascript\n",
    "IPython.OutputArea.prototype._should_scroll = function(lines) {\n",
    "    return false;\n",
    "}"
   ]
  },
  {
   "cell_type": "code",
   "execution_count": null,
   "metadata": {},
   "outputs": [],
   "source": [
    "for table_name, table in tables.items():\n",
    "    print(\"\\n------------------------------------------------------\")\n",
    "    print(f\"Table name: \\\"{table_name}\\\"\")\n",
    "    display(table.describe().transpose())\n",
    "    display(table.dtypes.transpose())"
   ]
  },
  {
   "cell_type": "markdown",
   "metadata": {},
   "source": [
    "### Basic Trasactional Features"
   ]
  },
  {
   "cell_type": "markdown",
   "metadata": {},
   "source": [
    "The challenge winner, Bryian Gregory, gives a few tips in his article, <br>\n",
    "**\"Predicting Customer Churn: Extreme Gradient Boosting with Temporal Data\"**\n",
    "<br>\n",
    "https://medium.com/@bryan.gregory1/predicting-customer-churn-extreme-gradient-boosting-with-temporal-data-332c0d9f32bf\n",
    "\n",
    "He gives a hint that the features should be relative to a cutoff day. He calls it \"Relative Refactoring Method\".\n",
    "<br> So we should transform the day of first transaction into the number of days from the first transaction.\n",
    "<br> Only if days are \"special\" like holidays we could live them as exact days. We should not mix those approaches.\n",
    "<br> Here, only relative features will be calaculated."
   ]
  },
  {
   "cell_type": "markdown",
   "metadata": {},
   "source": [
    "1. **days_from_start** = Number of days from first transaction\n",
    "2. **transactions_num** = Number or transactions\n",
    "3. **cancelations_num** = Number of cancelations\n",
    "4. **last_is_auto_renew** = If last subscription is renewed automatically\n",
    "5. **subscription_length** = Length of last subscription"
   ]
  },
  {
   "cell_type": "markdown",
   "metadata": {},
   "source": [
    "Now we need to load whole files or columns.\n",
    "To create our first 3 features we need 4 columns from \"transactions\" files:\n",
    "<br>\n",
    "\"msno\", \"transaction_date\", \"membership_expire_date\", \"is_cancel\".\n",
    "<br> UPDATE: Tocalculate 5 features we need 5 columns (same as previously plus \"is_auto_renew\")"
   ]
  },
  {
   "cell_type": "code",
   "execution_count": 4,
   "metadata": {},
   "outputs": [],
   "source": [
    "columns_needed = [\"msno\", \"transaction_date\", \"membership_expire_date\", \"is_cancel\", \"is_auto_renew\"]\n",
    "\n",
    "transactions = pd.read_csv(transactions_path, usecols=columns_needed)\n",
    "transactions_v2 = pd.read_csv(transactions_v2_path, usecols=columns_needed)\n",
    "transactions_v3 = pd.read_csv(transactions_v3_path, usecols=columns_needed)"
   ]
  },
  {
   "cell_type": "code",
   "execution_count": 5,
   "metadata": {},
   "outputs": [],
   "source": [
    "# labels provided\n",
    "train_v2 = pd.read_csv(train_v2_path)\n",
    "train = pd.read_csv(train_path)\n",
    "\n",
    "# test set for Kaggle submission\n",
    "sample_submission_v2 = pd.read_csv(sample_submission_v2_path)"
   ]
  },
  {
   "cell_type": "code",
   "execution_count": 6,
   "metadata": {},
   "outputs": [],
   "source": [
    "def calculate_last_subsciption_features(transactions_table):\n",
    "    \n",
    "    # change date format from int to pandas datetime\n",
    "    transactions_table[\"transaction_date\"] = pd.to_datetime(transactions_table[\"transaction_date\"], format='%Y%m%d')\n",
    "    transactions_table[\"membership_expire_date\"] = pd.to_datetime(transactions_table[\"membership_expire_date\"], format='%Y%m%d')\n",
    "    \n",
    "    # find which transaction is the last one and merge with transactional data\n",
    "    last_transaction = transactions_table.groupby(\"msno\")[\"transaction_date\"].max().reset_index()\n",
    "    last_subscription = transactions_table.merge(last_transaction)\n",
    "    \n",
    "    # calculate subscriptions length\n",
    "    last_subscription[\"subscription_length\"] = (last_subscription[\"membership_expire_date\"] - \n",
    "                                                 last_subscription[\"transaction_date\"]).dt.days\n",
    "    \n",
    "    return last_subscription.rename(columns={\"is_auto_renew\": \"last_is_auto_renew\"})"
   ]
  },
  {
   "cell_type": "code",
   "execution_count": 7,
   "metadata": {},
   "outputs": [],
   "source": [
    "def calculate_transactional_features(transactions_table, cutoff_day):\n",
    "    \n",
    "    # find the fist transaction per user and number of calncelations per user\n",
    "    users_transactions_features = transactions_table.groupby(\"msno\").agg({\"transaction_date\": [\"min\", \"count\"], \n",
    "                                                                           \"is_cancel\": \"sum\"})\n",
    "    \n",
    "    # flatten columns' names\n",
    "    users_transactions_features.columns = [a + \"_\" + b for a,b in users_transactions_features.columns]\n",
    "    \n",
    "    # change date format from int to pandas datetime\n",
    "    users_transactions_features[\"first_transaction\"] = pd.to_datetime(users_transactions_features.transaction_date_min, \n",
    "                                                                  format='%Y%m%d')\n",
    "    \n",
    "    # set cutoff day\n",
    "    train_cutoff_day = pd.to_datetime(cutoff_day, format='%Y%m%d') \n",
    "    \n",
    "    # calculate number of days passed from the first user transaction\n",
    "    users_transactions_features[\"days_from_start\"] = (train_cutoff_day - users_transactions_features[\"first_transaction\"]).dt.days\n",
    "    \n",
    "    # change columns names\n",
    "    columns_names_mapping = {\n",
    "                            \"transaction_date_count\": \"transactions_num\",\n",
    "                            \"is_cancel_sum\": \"cancelations_num\"\n",
    "                            }\n",
    "    \n",
    "    return users_transactions_features.rename(columns=columns_names_mapping).reset_index()"
   ]
  },
  {
   "cell_type": "code",
   "execution_count": 8,
   "metadata": {},
   "outputs": [],
   "source": [
    "train_transactional_features = calculate_transactional_features(transactions, '20170301')\n",
    "train_last_subsciption_features = calculate_last_subsciption_features(transactions)"
   ]
  },
  {
   "cell_type": "code",
   "execution_count": 9,
   "metadata": {},
   "outputs": [],
   "source": [
    "# train or train_v2? With train_v2 results of prediction are much worse so it has to be \"train\".\n",
    "train_with_features = train.merge(train_transactional_features, on=\"msno\")\n",
    "train_with_features = train_with_features.merge(train_last_subsciption_features, on=\"msno\")"
   ]
  },
  {
   "cell_type": "markdown",
   "metadata": {},
   "source": [
    "##### We have duplicates - some users have multiple trasactions during one day\n",
    "Let's sort the data by is_cancel (ascending) and keep only the first occurance (possibly not canceled)"
   ]
  },
  {
   "cell_type": "code",
   "execution_count": 10,
   "metadata": {},
   "outputs": [],
   "source": [
    "def show_duplicates(table):\n",
    "    x = table.groupby([\"msno\", \"transaction_date\"]).membership_expire_date.count()\n",
    "    display(x.loc[x > 1])"
   ]
  },
  {
   "cell_type": "code",
   "execution_count": 11,
   "metadata": {},
   "outputs": [
    {
     "data": {
      "text/plain": [
       "msno                                          transaction_date\n",
       "++FPL1dXZBXC3Cf6gE0HQiIHg1Pd+DBdK7w52xcUmX0=  2016-02-25          2\n",
       "++GVWCJ/8c4RVSUmn5mrt3VFGLUfmYIGVJ/SHLWPACw=  2017-01-14          2\n",
       "++wDR2uEVD8Ep2jLNXD6PDDMbmQZXfL97TJiSqMsvH0=  2017-02-15          2\n",
       "+/RjVdeSXQWgQMcA6aPvreFvQVE2yVp4mVRzFeFTu0I=  2017-02-18          2\n",
       "+/o1K0v6t2cGYPuuCviNu+EZaTBn/HKt69lpnSCvmKU=  2017-01-27          2\n",
       "                                                                 ..\n",
       "zxHlA8YQGHxupPs5Mr2xVrMYslpfOl+tywYwXTExBDI=  2017-02-17          2\n",
       "zxLejeaspEwIavG8xIDcBgGn/tHzDOmz5ib8f07NpfY=  2017-02-22          2\n",
       "zxUau+DyACCZJFZS6/0HNhmyFKpWSukEM7egAAW5bpQ=  2015-12-29          2\n",
       "zzO1S/aU/Bo46GF1MOh5qvttxRdvo87TJZI8Zhpq4AM=  2017-02-17          2\n",
       "zzm2UvJnzuTRkXaiaZHtbJwPG9jZQZkZxG0n4PYDTvw=  2017-02-03          2\n",
       "Name: membership_expire_date, Length: 11739, dtype: int64"
      ]
     },
     "metadata": {},
     "output_type": "display_data"
    }
   ],
   "source": [
    "show_duplicates(train_with_features)"
   ]
  },
  {
   "cell_type": "code",
   "execution_count": 12,
   "metadata": {},
   "outputs": [],
   "source": [
    "train_with_features_deduplicated = train_with_features.sort_values([\"msno\", \"transaction_date\", \"is_cancel\"], \n",
    "                                                                   ascending=True).drop_duplicates([\"msno\", \"transaction_date\"])"
   ]
  },
  {
   "cell_type": "code",
   "execution_count": 13,
   "metadata": {},
   "outputs": [
    {
     "data": {
      "text/plain": [
       "Series([], Name: membership_expire_date, dtype: int64)"
      ]
     },
     "metadata": {},
     "output_type": "display_data"
    }
   ],
   "source": [
    "show_duplicates(train_with_features_deduplicated)"
   ]
  },
  {
   "cell_type": "code",
   "execution_count": 14,
   "metadata": {},
   "outputs": [],
   "source": [
    "test_transactional_features = calculate_transactional_features(transactions_v3, '20170401')\n",
    "test_last_subsciption_features = calculate_last_subsciption_features(transactions_v3)"
   ]
  },
  {
   "cell_type": "code",
   "execution_count": 15,
   "metadata": {},
   "outputs": [],
   "source": [
    "test_with_features = sample_submission_v2.merge(test_transactional_features, on=\"msno\")\n",
    "test_with_features = test_with_features.merge(test_last_subsciption_features, on=\"msno\")"
   ]
  },
  {
   "cell_type": "code",
   "execution_count": 16,
   "metadata": {},
   "outputs": [
    {
     "data": {
      "text/plain": [
       "msno                                          transaction_date\n",
       "++kosgi4V03jOxcBKjM/9tPignUOxcc7jBVnZLJ+lX0=  2017-03-24          2\n",
       "++r9mKptLWw8f5X2H/AsUYwzQgYtAVJQNEp5qrLEhQ8=  2017-03-12          2\n",
       "+/o1K0v6t2cGYPuuCviNu+EZaTBn/HKt69lpnSCvmKU=  2017-01-27          3\n",
       "+0hXEuyLuw+Kgfa4BUz8v3R27ZmWPWKSktfe9twCVhA=  2017-03-08          2\n",
       "+2HveYKigu7TMYpBnnPwoc59qecTdxSk3qhahIgUgDk=  2017-02-14          2\n",
       "                                                                 ..\n",
       "zvhRQYR6+BNRa2rRm/JNAkxMnpn47IcuimAQ9DqYi6A=  2017-02-07          2\n",
       "zweunppNP0S0az203k5bDf6O6zt5FTBoPuHH5/glssc=  2017-03-16          2\n",
       "zxE7eCE2QFnkNI4e6mhcvNmZMjdFqkC0yPP6w95uMZ0=  2017-03-03          2\n",
       "zz58DhHXMpGS0reh+g3F/m67RRSScr4B1CY7TG6CaCs=  2017-03-10          2\n",
       "zz6FVyCbt/cowrJOn8x/OB4aowRrQFLzDrlo/ULtB+U=  2017-03-24          2\n",
       "Name: membership_expire_date, Length: 6892, dtype: int64"
      ]
     },
     "metadata": {},
     "output_type": "display_data"
    }
   ],
   "source": [
    "show_duplicates(test_with_features)"
   ]
  },
  {
   "cell_type": "code",
   "execution_count": 17,
   "metadata": {},
   "outputs": [],
   "source": [
    "test_with_features_deduplicated = test_with_features.sort_values([\"msno\", \"transaction_date\", \"is_cancel\"], \n",
    "                                                                ascending=True).drop_duplicates([\"msno\", \"transaction_date\"])"
   ]
  },
  {
   "cell_type": "code",
   "execution_count": 18,
   "metadata": {},
   "outputs": [
    {
     "data": {
      "text/plain": [
       "Series([], Name: membership_expire_date, dtype: int64)"
      ]
     },
     "metadata": {},
     "output_type": "display_data"
    }
   ],
   "source": [
    "show_duplicates(test_with_features_deduplicated)"
   ]
  },
  {
   "cell_type": "markdown",
   "metadata": {},
   "source": [
    "### Logs features"
   ]
  },
  {
   "cell_type": "code",
   "execution_count": 19,
   "metadata": {},
   "outputs": [],
   "source": [
    "february_logs_path = join(PROJECT_DIR, \"february_logs.csv\\part-00000-39a5836e-2bfe-4668-aa2c-ef8ead1dd4f0-c000.csv\")\n",
    "february_logs = pd.read_csv(february_logs_path)"
   ]
  },
  {
   "cell_type": "code",
   "execution_count": 21,
   "metadata": {},
   "outputs": [],
   "source": [
    "march_logs_path = join(PROJECT_DIR, \"user_logs_v2.csv\")\n",
    "march_logs = pd.read_csv(march_logs_path)"
   ]
  },
  {
   "cell_type": "code",
   "execution_count": 60,
   "metadata": {},
   "outputs": [
    {
     "data": {
      "text/html": [
       "<div>\n",
       "<style scoped>\n",
       "    .dataframe tbody tr th:only-of-type {\n",
       "        vertical-align: middle;\n",
       "    }\n",
       "\n",
       "    .dataframe tbody tr th {\n",
       "        vertical-align: top;\n",
       "    }\n",
       "\n",
       "    .dataframe thead th {\n",
       "        text-align: right;\n",
       "    }\n",
       "</style>\n",
       "<table border=\"1\" class=\"dataframe\">\n",
       "  <thead>\n",
       "    <tr style=\"text-align: right;\">\n",
       "      <th></th>\n",
       "      <th>msno</th>\n",
       "      <th>date</th>\n",
       "      <th>num_25</th>\n",
       "      <th>num_50</th>\n",
       "      <th>num_75</th>\n",
       "      <th>num_985</th>\n",
       "      <th>num_100</th>\n",
       "      <th>num_unq</th>\n",
       "      <th>total_secs</th>\n",
       "    </tr>\n",
       "  </thead>\n",
       "  <tbody>\n",
       "    <tr>\n",
       "      <th>0</th>\n",
       "      <td>u9E91QDTvHLq6NXjEaWv8u4QIqhrHk72kE+w31Gnhdg=</td>\n",
       "      <td>20170331</td>\n",
       "      <td>8</td>\n",
       "      <td>4</td>\n",
       "      <td>0</td>\n",
       "      <td>1</td>\n",
       "      <td>21</td>\n",
       "      <td>18</td>\n",
       "      <td>6309.273</td>\n",
       "    </tr>\n",
       "    <tr>\n",
       "      <th>1</th>\n",
       "      <td>nTeWW/eOZA/UHKdD5L7DEqKKFTjaAj3ALLPoAWsU8n0=</td>\n",
       "      <td>20170330</td>\n",
       "      <td>2</td>\n",
       "      <td>2</td>\n",
       "      <td>1</td>\n",
       "      <td>0</td>\n",
       "      <td>9</td>\n",
       "      <td>11</td>\n",
       "      <td>2390.699</td>\n",
       "    </tr>\n",
       "    <tr>\n",
       "      <th>2</th>\n",
       "      <td>2UqkWXwZbIjs03dHLU9KHJNNEvEkZVzm69f3jCS+uLI=</td>\n",
       "      <td>20170331</td>\n",
       "      <td>52</td>\n",
       "      <td>3</td>\n",
       "      <td>5</td>\n",
       "      <td>3</td>\n",
       "      <td>84</td>\n",
       "      <td>110</td>\n",
       "      <td>23203.337</td>\n",
       "    </tr>\n",
       "    <tr>\n",
       "      <th>3</th>\n",
       "      <td>ycwLc+m2O0a85jSLALtr941AaZt9ai8Qwlg9n0Nql5U=</td>\n",
       "      <td>20170331</td>\n",
       "      <td>176</td>\n",
       "      <td>4</td>\n",
       "      <td>2</td>\n",
       "      <td>2</td>\n",
       "      <td>19</td>\n",
       "      <td>191</td>\n",
       "      <td>7100.454</td>\n",
       "    </tr>\n",
       "    <tr>\n",
       "      <th>4</th>\n",
       "      <td>EGcbTofOSOkMmQyN1NMLxHEXJ1yV3t/JdhGwQ9wXjnI=</td>\n",
       "      <td>20170331</td>\n",
       "      <td>2</td>\n",
       "      <td>1</td>\n",
       "      <td>0</td>\n",
       "      <td>1</td>\n",
       "      <td>112</td>\n",
       "      <td>93</td>\n",
       "      <td>28401.558</td>\n",
       "    </tr>\n",
       "    <tr>\n",
       "      <th>...</th>\n",
       "      <td>...</td>\n",
       "      <td>...</td>\n",
       "      <td>...</td>\n",
       "      <td>...</td>\n",
       "      <td>...</td>\n",
       "      <td>...</td>\n",
       "      <td>...</td>\n",
       "      <td>...</td>\n",
       "      <td>...</td>\n",
       "    </tr>\n",
       "    <tr>\n",
       "      <th>18396357</th>\n",
       "      <td>FGpiy2mB+vXLKziYRcY/xJcJEFJfRDfUqlU+p760f7E=</td>\n",
       "      <td>20170314</td>\n",
       "      <td>0</td>\n",
       "      <td>0</td>\n",
       "      <td>0</td>\n",
       "      <td>0</td>\n",
       "      <td>1</td>\n",
       "      <td>1</td>\n",
       "      <td>248.058</td>\n",
       "    </tr>\n",
       "    <tr>\n",
       "      <th>18396358</th>\n",
       "      <td>iZRjKNMrw5ffEbfXODLhV/0tJLPbOH3am1WYDgqBf8Q=</td>\n",
       "      <td>20170306</td>\n",
       "      <td>0</td>\n",
       "      <td>0</td>\n",
       "      <td>0</td>\n",
       "      <td>0</td>\n",
       "      <td>1</td>\n",
       "      <td>1</td>\n",
       "      <td>311.000</td>\n",
       "    </tr>\n",
       "    <tr>\n",
       "      <th>18396359</th>\n",
       "      <td>yztw4Y0EggG0w2wPkbMZx7ke7saSx7dLSfMheHZG/DQ=</td>\n",
       "      <td>20170331</td>\n",
       "      <td>0</td>\n",
       "      <td>0</td>\n",
       "      <td>0</td>\n",
       "      <td>0</td>\n",
       "      <td>17</td>\n",
       "      <td>1</td>\n",
       "      <td>3973.189</td>\n",
       "    </tr>\n",
       "    <tr>\n",
       "      <th>18396360</th>\n",
       "      <td>swCHwkNx30/aENjq30qqaLlm7bUUytbMXdz1bH7g0Jk=</td>\n",
       "      <td>20170307</td>\n",
       "      <td>0</td>\n",
       "      <td>0</td>\n",
       "      <td>0</td>\n",
       "      <td>1</td>\n",
       "      <td>0</td>\n",
       "      <td>1</td>\n",
       "      <td>179.278</td>\n",
       "    </tr>\n",
       "    <tr>\n",
       "      <th>18396361</th>\n",
       "      <td>pDQSIFZchNPmOproRzaNzy51/8yRXzLK3vvDXKzzGLQ=</td>\n",
       "      <td>20170329</td>\n",
       "      <td>0</td>\n",
       "      <td>0</td>\n",
       "      <td>0</td>\n",
       "      <td>0</td>\n",
       "      <td>1</td>\n",
       "      <td>1</td>\n",
       "      <td>264.288</td>\n",
       "    </tr>\n",
       "  </tbody>\n",
       "</table>\n",
       "<p>18396362 rows × 9 columns</p>\n",
       "</div>"
      ],
      "text/plain": [
       "                                                  msno      date  num_25  \\\n",
       "0         u9E91QDTvHLq6NXjEaWv8u4QIqhrHk72kE+w31Gnhdg=  20170331       8   \n",
       "1         nTeWW/eOZA/UHKdD5L7DEqKKFTjaAj3ALLPoAWsU8n0=  20170330       2   \n",
       "2         2UqkWXwZbIjs03dHLU9KHJNNEvEkZVzm69f3jCS+uLI=  20170331      52   \n",
       "3         ycwLc+m2O0a85jSLALtr941AaZt9ai8Qwlg9n0Nql5U=  20170331     176   \n",
       "4         EGcbTofOSOkMmQyN1NMLxHEXJ1yV3t/JdhGwQ9wXjnI=  20170331       2   \n",
       "...                                                ...       ...     ...   \n",
       "18396357  FGpiy2mB+vXLKziYRcY/xJcJEFJfRDfUqlU+p760f7E=  20170314       0   \n",
       "18396358  iZRjKNMrw5ffEbfXODLhV/0tJLPbOH3am1WYDgqBf8Q=  20170306       0   \n",
       "18396359  yztw4Y0EggG0w2wPkbMZx7ke7saSx7dLSfMheHZG/DQ=  20170331       0   \n",
       "18396360  swCHwkNx30/aENjq30qqaLlm7bUUytbMXdz1bH7g0Jk=  20170307       0   \n",
       "18396361  pDQSIFZchNPmOproRzaNzy51/8yRXzLK3vvDXKzzGLQ=  20170329       0   \n",
       "\n",
       "          num_50  num_75  num_985  num_100  num_unq  total_secs  \n",
       "0              4       0        1       21       18    6309.273  \n",
       "1              2       1        0        9       11    2390.699  \n",
       "2              3       5        3       84      110   23203.337  \n",
       "3              4       2        2       19      191    7100.454  \n",
       "4              1       0        1      112       93   28401.558  \n",
       "...          ...     ...      ...      ...      ...         ...  \n",
       "18396357       0       0        0        1        1     248.058  \n",
       "18396358       0       0        0        1        1     311.000  \n",
       "18396359       0       0        0       17        1    3973.189  \n",
       "18396360       0       0        1        0        1     179.278  \n",
       "18396361       0       0        0        1        1     264.288  \n",
       "\n",
       "[18396362 rows x 9 columns]"
      ]
     },
     "execution_count": 60,
     "metadata": {},
     "output_type": "execute_result"
    }
   ],
   "source": [
    "march_logs"
   ]
  },
  {
   "cell_type": "code",
   "execution_count": 65,
   "metadata": {},
   "outputs": [],
   "source": [
    "def calculate_logs_features(logs_data, cutoff_day):\n",
    "    last_user_log = logs_data.groupby(\"msno\").agg({\"date\": [\"max\", \"count\"],\n",
    "                                                  \"total_secs\": [\"sum\", \"mean\"],\n",
    "                                                  \"num_unq\": [\"sum\", \"mean\"],\n",
    "                                                  \"num_25\": [\"sum\", \"mean\"],\n",
    "                                                   \"num_50\": [\"sum\", \"mean\"],\n",
    "                                                   \"num_75\": [\"sum\", \"mean\"],\n",
    "                                                    \"num_985\": [\"sum\", \"mean\"],\n",
    "                                                   \"num_100\": [\"sum\", \"mean\"],\n",
    "                                                  })\n",
    "    \n",
    "    \n",
    "    # flatten columns' names\n",
    "    last_user_log.columns = [a + \"_\" + b for a,b in last_user_log.columns]\n",
    "    \n",
    "    # set cutoff day\n",
    "    train_cutoff_day = pd.to_datetime(cutoff_day, format='%Y%m%d') \n",
    "    last_user_log[\"date_max\"] = pd.to_datetime(last_user_log[\"date_max\"],  format='%Y%m%d')\n",
    "    last_user_log[\"days_from_last_log\"] =  (train_cutoff_day - last_user_log[\"date_max\"]).dt.days\n",
    "    \n",
    "    return last_user_log.rename(columns={\"date_count\": \"last_month_logs_num\"}).reset_index()"
   ]
  },
  {
   "cell_type": "code",
   "execution_count": 66,
   "metadata": {},
   "outputs": [],
   "source": [
    "february_last_user_log = calculate_logs_features(february_logs, \"20170301\")\n",
    "march_last_user_log = calculate_logs_features(march_logs, \"20170401\")"
   ]
  },
  {
   "cell_type": "code",
   "execution_count": 68,
   "metadata": {},
   "outputs": [],
   "source": [
    "all_my_train_features = train_with_features_deduplicated.merge(february_last_user_log, how=\"left\", on=\"msno\")\n",
    "\n",
    "# assing a value 1 higher for users who did not logged in the last month\n",
    "max_value = all_my_train_features[\"days_from_last_log\"].max()\n",
    "all_my_train_features[\"days_from_last_log\"] = all_my_train_features[\"days_from_last_log\"].fillna(max_value+1)\n",
    "all_my_train_features = all_my_train_features.fillna(0)"
   ]
  },
  {
   "cell_type": "code",
   "execution_count": 69,
   "metadata": {},
   "outputs": [
    {
     "data": {
      "text/html": [
       "<div>\n",
       "<style scoped>\n",
       "    .dataframe tbody tr th:only-of-type {\n",
       "        vertical-align: middle;\n",
       "    }\n",
       "\n",
       "    .dataframe tbody tr th {\n",
       "        vertical-align: top;\n",
       "    }\n",
       "\n",
       "    .dataframe thead th {\n",
       "        text-align: right;\n",
       "    }\n",
       "</style>\n",
       "<table border=\"1\" class=\"dataframe\">\n",
       "  <thead>\n",
       "    <tr style=\"text-align: right;\">\n",
       "      <th></th>\n",
       "      <th>is_churn</th>\n",
       "      <th>transaction_date_min</th>\n",
       "      <th>transactions_num</th>\n",
       "      <th>cancelations_num</th>\n",
       "      <th>days_from_start</th>\n",
       "      <th>last_is_auto_renew</th>\n",
       "      <th>is_cancel</th>\n",
       "      <th>subscription_length</th>\n",
       "      <th>last_month_logs_num</th>\n",
       "      <th>total_secs_sum</th>\n",
       "      <th>...</th>\n",
       "      <th>num_25_mean</th>\n",
       "      <th>num_50_sum</th>\n",
       "      <th>num_50_mean</th>\n",
       "      <th>num_75_sum</th>\n",
       "      <th>num_75_mean</th>\n",
       "      <th>num_985_sum</th>\n",
       "      <th>num_985_mean</th>\n",
       "      <th>num_100_sum</th>\n",
       "      <th>num_100_mean</th>\n",
       "      <th>days_from_last_log</th>\n",
       "    </tr>\n",
       "  </thead>\n",
       "  <tbody>\n",
       "    <tr>\n",
       "      <th>count</th>\n",
       "      <td>992931.000000</td>\n",
       "      <td>9.929310e+05</td>\n",
       "      <td>992931.000000</td>\n",
       "      <td>992931.000000</td>\n",
       "      <td>992931.000000</td>\n",
       "      <td>992931.000000</td>\n",
       "      <td>992931.000000</td>\n",
       "      <td>992931.000000</td>\n",
       "      <td>992931.000000</td>\n",
       "      <td>9.929310e+05</td>\n",
       "      <td>...</td>\n",
       "      <td>992931.000000</td>\n",
       "      <td>992931.00000</td>\n",
       "      <td>992931.000000</td>\n",
       "      <td>992931.000000</td>\n",
       "      <td>992931.000000</td>\n",
       "      <td>992931.000000</td>\n",
       "      <td>992931.000000</td>\n",
       "      <td>992931.000000</td>\n",
       "      <td>992931.000000</td>\n",
       "      <td>992931.000000</td>\n",
       "    </tr>\n",
       "    <tr>\n",
       "      <th>mean</th>\n",
       "      <td>0.063923</td>\n",
       "      <td>2.015454e+07</td>\n",
       "      <td>15.996225</td>\n",
       "      <td>0.277970</td>\n",
       "      <td>512.690415</td>\n",
       "      <td>0.888231</td>\n",
       "      <td>0.027288</td>\n",
       "      <td>32.705023</td>\n",
       "      <td>12.091257</td>\n",
       "      <td>9.402250e+04</td>\n",
       "      <td>...</td>\n",
       "      <td>4.111292</td>\n",
       "      <td>17.83863</td>\n",
       "      <td>1.017829</td>\n",
       "      <td>11.365041</td>\n",
       "      <td>0.630371</td>\n",
       "      <td>13.017671</td>\n",
       "      <td>0.704363</td>\n",
       "      <td>360.517212</td>\n",
       "      <td>18.916688</td>\n",
       "      <td>9.449249</td>\n",
       "    </tr>\n",
       "    <tr>\n",
       "      <th>std</th>\n",
       "      <td>0.244616</td>\n",
       "      <td>5.572933e+03</td>\n",
       "      <td>8.249285</td>\n",
       "      <td>0.578235</td>\n",
       "      <td>244.246578</td>\n",
       "      <td>0.315082</td>\n",
       "      <td>0.162921</td>\n",
       "      <td>153.293196</td>\n",
       "      <td>10.050426</td>\n",
       "      <td>1.530616e+05</td>\n",
       "      <td>...</td>\n",
       "      <td>6.367549</td>\n",
       "      <td>30.85110</td>\n",
       "      <td>1.596076</td>\n",
       "      <td>18.465044</td>\n",
       "      <td>0.877299</td>\n",
       "      <td>32.264021</td>\n",
       "      <td>1.386042</td>\n",
       "      <td>626.646121</td>\n",
       "      <td>26.203513</td>\n",
       "      <td>11.622453</td>\n",
       "    </tr>\n",
       "    <tr>\n",
       "      <th>min</th>\n",
       "      <td>0.000000</td>\n",
       "      <td>2.015010e+07</td>\n",
       "      <td>1.000000</td>\n",
       "      <td>0.000000</td>\n",
       "      <td>1.000000</td>\n",
       "      <td>0.000000</td>\n",
       "      <td>0.000000</td>\n",
       "      <td>-17207.000000</td>\n",
       "      <td>0.000000</td>\n",
       "      <td>0.000000e+00</td>\n",
       "      <td>...</td>\n",
       "      <td>0.000000</td>\n",
       "      <td>0.00000</td>\n",
       "      <td>0.000000</td>\n",
       "      <td>0.000000</td>\n",
       "      <td>0.000000</td>\n",
       "      <td>0.000000</td>\n",
       "      <td>0.000000</td>\n",
       "      <td>0.000000</td>\n",
       "      <td>0.000000</td>\n",
       "      <td>1.000000</td>\n",
       "    </tr>\n",
       "    <tr>\n",
       "      <th>25%</th>\n",
       "      <td>0.000000</td>\n",
       "      <td>2.015013e+07</td>\n",
       "      <td>9.000000</td>\n",
       "      <td>0.000000</td>\n",
       "      <td>312.000000</td>\n",
       "      <td>1.000000</td>\n",
       "      <td>0.000000</td>\n",
       "      <td>28.000000</td>\n",
       "      <td>1.000000</td>\n",
       "      <td>9.368340e+02</td>\n",
       "      <td>...</td>\n",
       "      <td>0.000000</td>\n",
       "      <td>0.00000</td>\n",
       "      <td>0.000000</td>\n",
       "      <td>0.000000</td>\n",
       "      <td>0.000000</td>\n",
       "      <td>0.000000</td>\n",
       "      <td>0.000000</td>\n",
       "      <td>2.000000</td>\n",
       "      <td>1.000000</td>\n",
       "      <td>1.000000</td>\n",
       "    </tr>\n",
       "    <tr>\n",
       "      <th>50%</th>\n",
       "      <td>0.000000</td>\n",
       "      <td>2.015091e+07</td>\n",
       "      <td>17.000000</td>\n",
       "      <td>0.000000</td>\n",
       "      <td>537.000000</td>\n",
       "      <td>1.000000</td>\n",
       "      <td>0.000000</td>\n",
       "      <td>28.000000</td>\n",
       "      <td>11.000000</td>\n",
       "      <td>4.232169e+04</td>\n",
       "      <td>...</td>\n",
       "      <td>2.357143</td>\n",
       "      <td>7.00000</td>\n",
       "      <td>0.619048</td>\n",
       "      <td>5.000000</td>\n",
       "      <td>0.428571</td>\n",
       "      <td>5.000000</td>\n",
       "      <td>0.444444</td>\n",
       "      <td>154.000000</td>\n",
       "      <td>13.000000</td>\n",
       "      <td>2.000000</td>\n",
       "    </tr>\n",
       "    <tr>\n",
       "      <th>75%</th>\n",
       "      <td>0.000000</td>\n",
       "      <td>2.016042e+07</td>\n",
       "      <td>23.000000</td>\n",
       "      <td>0.000000</td>\n",
       "      <td>760.000000</td>\n",
       "      <td>1.000000</td>\n",
       "      <td>0.000000</td>\n",
       "      <td>31.000000</td>\n",
       "      <td>22.000000</td>\n",
       "      <td>1.211839e+05</td>\n",
       "      <td>...</td>\n",
       "      <td>5.384615</td>\n",
       "      <td>23.00000</td>\n",
       "      <td>1.352941</td>\n",
       "      <td>15.000000</td>\n",
       "      <td>0.909091</td>\n",
       "      <td>16.000000</td>\n",
       "      <td>0.964286</td>\n",
       "      <td>453.000000</td>\n",
       "      <td>24.607143</td>\n",
       "      <td>22.000000</td>\n",
       "    </tr>\n",
       "    <tr>\n",
       "      <th>max</th>\n",
       "      <td>1.000000</td>\n",
       "      <td>2.017023e+07</td>\n",
       "      <td>71.000000</td>\n",
       "      <td>20.000000</td>\n",
       "      <td>790.000000</td>\n",
       "      <td>1.000000</td>\n",
       "      <td>1.000000</td>\n",
       "      <td>771.000000</td>\n",
       "      <td>28.000000</td>\n",
       "      <td>1.067379e+07</td>\n",
       "      <td>...</td>\n",
       "      <td>520.500000</td>\n",
       "      <td>1879.00000</td>\n",
       "      <td>243.000000</td>\n",
       "      <td>1586.000000</td>\n",
       "      <td>92.000000</td>\n",
       "      <td>4870.000000</td>\n",
       "      <td>173.928571</td>\n",
       "      <td>42914.000000</td>\n",
       "      <td>4633.000000</td>\n",
       "      <td>29.000000</td>\n",
       "    </tr>\n",
       "  </tbody>\n",
       "</table>\n",
       "<p>8 rows × 24 columns</p>\n",
       "</div>"
      ],
      "text/plain": [
       "            is_churn  transaction_date_min  transactions_num  \\\n",
       "count  992931.000000          9.929310e+05     992931.000000   \n",
       "mean        0.063923          2.015454e+07         15.996225   \n",
       "std         0.244616          5.572933e+03          8.249285   \n",
       "min         0.000000          2.015010e+07          1.000000   \n",
       "25%         0.000000          2.015013e+07          9.000000   \n",
       "50%         0.000000          2.015091e+07         17.000000   \n",
       "75%         0.000000          2.016042e+07         23.000000   \n",
       "max         1.000000          2.017023e+07         71.000000   \n",
       "\n",
       "       cancelations_num  days_from_start  last_is_auto_renew      is_cancel  \\\n",
       "count     992931.000000    992931.000000       992931.000000  992931.000000   \n",
       "mean           0.277970       512.690415            0.888231       0.027288   \n",
       "std            0.578235       244.246578            0.315082       0.162921   \n",
       "min            0.000000         1.000000            0.000000       0.000000   \n",
       "25%            0.000000       312.000000            1.000000       0.000000   \n",
       "50%            0.000000       537.000000            1.000000       0.000000   \n",
       "75%            0.000000       760.000000            1.000000       0.000000   \n",
       "max           20.000000       790.000000            1.000000       1.000000   \n",
       "\n",
       "       subscription_length  last_month_logs_num  total_secs_sum  ...  \\\n",
       "count        992931.000000        992931.000000    9.929310e+05  ...   \n",
       "mean             32.705023            12.091257    9.402250e+04  ...   \n",
       "std             153.293196            10.050426    1.530616e+05  ...   \n",
       "min          -17207.000000             0.000000    0.000000e+00  ...   \n",
       "25%              28.000000             1.000000    9.368340e+02  ...   \n",
       "50%              28.000000            11.000000    4.232169e+04  ...   \n",
       "75%              31.000000            22.000000    1.211839e+05  ...   \n",
       "max             771.000000            28.000000    1.067379e+07  ...   \n",
       "\n",
       "         num_25_mean    num_50_sum    num_50_mean     num_75_sum  \\\n",
       "count  992931.000000  992931.00000  992931.000000  992931.000000   \n",
       "mean        4.111292      17.83863       1.017829      11.365041   \n",
       "std         6.367549      30.85110       1.596076      18.465044   \n",
       "min         0.000000       0.00000       0.000000       0.000000   \n",
       "25%         0.000000       0.00000       0.000000       0.000000   \n",
       "50%         2.357143       7.00000       0.619048       5.000000   \n",
       "75%         5.384615      23.00000       1.352941      15.000000   \n",
       "max       520.500000    1879.00000     243.000000    1586.000000   \n",
       "\n",
       "         num_75_mean    num_985_sum   num_985_mean    num_100_sum  \\\n",
       "count  992931.000000  992931.000000  992931.000000  992931.000000   \n",
       "mean        0.630371      13.017671       0.704363     360.517212   \n",
       "std         0.877299      32.264021       1.386042     626.646121   \n",
       "min         0.000000       0.000000       0.000000       0.000000   \n",
       "25%         0.000000       0.000000       0.000000       2.000000   \n",
       "50%         0.428571       5.000000       0.444444     154.000000   \n",
       "75%         0.909091      16.000000       0.964286     453.000000   \n",
       "max        92.000000    4870.000000     173.928571   42914.000000   \n",
       "\n",
       "        num_100_mean  days_from_last_log  \n",
       "count  992931.000000       992931.000000  \n",
       "mean       18.916688            9.449249  \n",
       "std        26.203513           11.622453  \n",
       "min         0.000000            1.000000  \n",
       "25%         1.000000            1.000000  \n",
       "50%        13.000000            2.000000  \n",
       "75%        24.607143           22.000000  \n",
       "max      4633.000000           29.000000  \n",
       "\n",
       "[8 rows x 24 columns]"
      ]
     },
     "execution_count": 69,
     "metadata": {},
     "output_type": "execute_result"
    }
   ],
   "source": [
    "all_my_train_features.describe()"
   ]
  },
  {
   "cell_type": "code",
   "execution_count": 70,
   "metadata": {},
   "outputs": [],
   "source": [
    "all_my_test_features = test_with_features_deduplicated.merge(march_last_user_log, how=\"left\", on=\"msno\")\n",
    "\n",
    "# assing a value 1 higher for users who did not logged in the last month\n",
    "max_value = all_my_test_features[\"days_from_last_log\"].max()\n",
    "all_my_test_features[\"days_from_last_log\"] = all_my_test_features[\"days_from_last_log\"].fillna(max_value+1)\n",
    "all_my_test_features = all_my_test_features.fillna(0)"
   ]
  },
  {
   "cell_type": "markdown",
   "metadata": {},
   "source": [
    "### Features exploration"
   ]
  },
  {
   "cell_type": "code",
   "execution_count": 45,
   "metadata": {},
   "outputs": [
    {
     "data": {
      "text/html": [
       "<div>\n",
       "<style scoped>\n",
       "    .dataframe tbody tr th:only-of-type {\n",
       "        vertical-align: middle;\n",
       "    }\n",
       "\n",
       "    .dataframe tbody tr th {\n",
       "        vertical-align: top;\n",
       "    }\n",
       "\n",
       "    .dataframe thead th {\n",
       "        text-align: right;\n",
       "    }\n",
       "</style>\n",
       "<table border=\"1\" class=\"dataframe\">\n",
       "  <thead>\n",
       "    <tr style=\"text-align: right;\">\n",
       "      <th></th>\n",
       "      <th>count</th>\n",
       "      <th>mean</th>\n",
       "      <th>std</th>\n",
       "      <th>min</th>\n",
       "      <th>25%</th>\n",
       "      <th>50%</th>\n",
       "      <th>75%</th>\n",
       "      <th>max</th>\n",
       "    </tr>\n",
       "  </thead>\n",
       "  <tbody>\n",
       "    <tr>\n",
       "      <th>transaction_date_count</th>\n",
       "      <td>2363626.0</td>\n",
       "      <td>9.116394</td>\n",
       "      <td>8.887318</td>\n",
       "      <td>1.0</td>\n",
       "      <td>1.0</td>\n",
       "      <td>5.0</td>\n",
       "      <td>16.0</td>\n",
       "      <td>71.0</td>\n",
       "    </tr>\n",
       "    <tr>\n",
       "      <th>is_cancel_sum</th>\n",
       "      <td>2363626.0</td>\n",
       "      <td>0.362515</td>\n",
       "      <td>0.569036</td>\n",
       "      <td>0.0</td>\n",
       "      <td>0.0</td>\n",
       "      <td>0.0</td>\n",
       "      <td>1.0</td>\n",
       "      <td>20.0</td>\n",
       "    </tr>\n",
       "    <tr>\n",
       "      <th>subscription_length_sum</th>\n",
       "      <td>2363626.0</td>\n",
       "      <td>322.885609</td>\n",
       "      <td>711.648321</td>\n",
       "      <td>-48770.0</td>\n",
       "      <td>30.0</td>\n",
       "      <td>218.0</td>\n",
       "      <td>518.0</td>\n",
       "      <td>14855.0</td>\n",
       "    </tr>\n",
       "    <tr>\n",
       "      <th>days_from_start</th>\n",
       "      <td>2363626.0</td>\n",
       "      <td>491.734499</td>\n",
       "      <td>243.820651</td>\n",
       "      <td>1.0</td>\n",
       "      <td>275.0</td>\n",
       "      <td>525.0</td>\n",
       "      <td>736.0</td>\n",
       "      <td>790.0</td>\n",
       "    </tr>\n",
       "  </tbody>\n",
       "</table>\n",
       "</div>"
      ],
      "text/plain": [
       "                             count        mean         std      min    25%  \\\n",
       "transaction_date_count   2363626.0    9.116394    8.887318      1.0    1.0   \n",
       "is_cancel_sum            2363626.0    0.362515    0.569036      0.0    0.0   \n",
       "subscription_length_sum  2363626.0  322.885609  711.648321 -48770.0   30.0   \n",
       "days_from_start          2363626.0  491.734499  243.820651      1.0  275.0   \n",
       "\n",
       "                           50%    75%      max  \n",
       "transaction_date_count     5.0   16.0     71.0  \n",
       "is_cancel_sum              0.0    1.0     20.0  \n",
       "subscription_length_sum  218.0  518.0  14855.0  \n",
       "days_from_start          525.0  736.0    790.0  "
      ]
     },
     "execution_count": 45,
     "metadata": {},
     "output_type": "execute_result"
    }
   ],
   "source": [
    "train_with_features_deduplicated.describe().transpose()"
   ]
  },
  {
   "cell_type": "code",
   "execution_count": 46,
   "metadata": {},
   "outputs": [
    {
     "data": {
      "text/html": [
       "<div>\n",
       "<style scoped>\n",
       "    .dataframe tbody tr th:only-of-type {\n",
       "        vertical-align: middle;\n",
       "    }\n",
       "\n",
       "    .dataframe tbody tr th {\n",
       "        vertical-align: top;\n",
       "    }\n",
       "\n",
       "    .dataframe thead th {\n",
       "        text-align: right;\n",
       "    }\n",
       "</style>\n",
       "<table border=\"1\" class=\"dataframe\">\n",
       "  <thead>\n",
       "    <tr style=\"text-align: right;\">\n",
       "      <th></th>\n",
       "      <th>count</th>\n",
       "      <th>mean</th>\n",
       "      <th>std</th>\n",
       "      <th>min</th>\n",
       "      <th>25%</th>\n",
       "      <th>50%</th>\n",
       "      <th>75%</th>\n",
       "      <th>max</th>\n",
       "    </tr>\n",
       "  </thead>\n",
       "  <tbody>\n",
       "    <tr>\n",
       "      <th>transaction_date_count</th>\n",
       "      <td>2426143.0</td>\n",
       "      <td>9.471311</td>\n",
       "      <td>9.294885</td>\n",
       "      <td>1.0</td>\n",
       "      <td>2.0</td>\n",
       "      <td>5.0</td>\n",
       "      <td>16.0</td>\n",
       "      <td>244.0</td>\n",
       "    </tr>\n",
       "    <tr>\n",
       "      <th>is_cancel_sum</th>\n",
       "      <td>2426143.0</td>\n",
       "      <td>0.367655</td>\n",
       "      <td>0.577234</td>\n",
       "      <td>0.0</td>\n",
       "      <td>0.0</td>\n",
       "      <td>0.0</td>\n",
       "      <td>1.0</td>\n",
       "      <td>21.0</td>\n",
       "    </tr>\n",
       "    <tr>\n",
       "      <th>subscription_length_sum</th>\n",
       "      <td>2426143.0</td>\n",
       "      <td>384.497706</td>\n",
       "      <td>1185.711344</td>\n",
       "      <td>-48740.0</td>\n",
       "      <td>31.0</td>\n",
       "      <td>244.0</td>\n",
       "      <td>591.0</td>\n",
       "      <td>232521.0</td>\n",
       "    </tr>\n",
       "    <tr>\n",
       "      <th>days_from_start</th>\n",
       "      <td>2426143.0</td>\n",
       "      <td>511.735603</td>\n",
       "      <td>250.845944</td>\n",
       "      <td>1.0</td>\n",
       "      <td>280.0</td>\n",
       "      <td>542.0</td>\n",
       "      <td>759.0</td>\n",
       "      <td>821.0</td>\n",
       "    </tr>\n",
       "  </tbody>\n",
       "</table>\n",
       "</div>"
      ],
      "text/plain": [
       "                             count        mean          std      min    25%  \\\n",
       "transaction_date_count   2426143.0    9.471311     9.294885      1.0    2.0   \n",
       "is_cancel_sum            2426143.0    0.367655     0.577234      0.0    0.0   \n",
       "subscription_length_sum  2426143.0  384.497706  1185.711344 -48740.0   31.0   \n",
       "days_from_start          2426143.0  511.735603   250.845944      1.0  280.0   \n",
       "\n",
       "                           50%    75%       max  \n",
       "transaction_date_count     5.0   16.0     244.0  \n",
       "is_cancel_sum              0.0    1.0      21.0  \n",
       "subscription_length_sum  244.0  591.0  232521.0  \n",
       "days_from_start          542.0  759.0     821.0  "
      ]
     },
     "execution_count": 46,
     "metadata": {},
     "output_type": "execute_result"
    }
   ],
   "source": [
    "test_features.describe().transpose()"
   ]
  },
  {
   "cell_type": "markdown",
   "metadata": {},
   "source": [
    "### Does churn depend on number of days from the first transaction?\n",
    "- Churning user have a bit lower number of days that passed from the first transaction."
   ]
  },
  {
   "cell_type": "code",
   "execution_count": 20,
   "metadata": {},
   "outputs": [
    {
     "data": {
      "image/png": "[encoded data removed]",
      "text/plain": [
       "<Figure size 432x288 with 1 Axes>"
      ]
     },
     "metadata": {},
     "output_type": "display_data"
    }
   ],
   "source": [
    "ax = sns.boxplot(x=\"is_churn\", y=\"days_from_start\", data=train_with_features_deduplicated)"
   ]
  },
  {
   "cell_type": "markdown",
   "metadata": {},
   "source": [
    "### Does churn depend on length of the current subscription?\n",
    "- This variable needs deeper inversigation."
   ]
  },
  {
   "cell_type": "code",
   "execution_count": 26,
   "metadata": {},
   "outputs": [
    {
     "data": {
      "image/png": "[encoded data removed]",
      "text/plain": [
       "<Figure size 432x288 with 1 Axes>"
      ]
     },
     "metadata": {},
     "output_type": "display_data"
    }
   ],
   "source": [
    "ax = sns.boxplot(x=\"is_churn\", y=\"subscription_length\", \n",
    "                 data=train_with_features_deduplicated) #.loc[train_with_features_deduplicated.subscription_length >= 0])"
   ]
  },
  {
   "cell_type": "markdown",
   "metadata": {},
   "source": [
    "### Does churn depend on number of all transactions that user made?\n",
    "- Yes, users who churn made a bit less transactions (this is correlated with the first variable)"
   ]
  },
  {
   "cell_type": "code",
   "execution_count": 28,
   "metadata": {},
   "outputs": [
    {
     "data": {
      "image/png": "[encoded data removed]",
      "text/plain": [
       "<Figure size 432x288 with 1 Axes>"
      ]
     },
     "metadata": {},
     "output_type": "display_data"
    }
   ],
   "source": [
    "ax = sns.boxplot(x=\"is_churn\", y=\"transactions_num\", data=train_with_features_deduplicated)"
   ]
  },
  {
   "cell_type": "markdown",
   "metadata": {},
   "source": [
    "### Does churn depend on number of all cancelations that user made?\n",
    "- Yes, users who churn made more cancelations."
   ]
  },
  {
   "cell_type": "code",
   "execution_count": 29,
   "metadata": {},
   "outputs": [
    {
     "data": {
      "image/png": "[encoded data removed]",
      "text/plain": [
       "<Figure size 432x288 with 1 Axes>"
      ]
     },
     "metadata": {},
     "output_type": "display_data"
    }
   ],
   "source": [
    "ax = sns.boxplot(x=\"is_churn\", y=\"cancelations_num\", data=train_with_features_deduplicated)"
   ]
  },
  {
   "cell_type": "markdown",
   "metadata": {},
   "source": [
    "### Does churn depend on the fact if the current subscription is automaticaly renewed?\n",
    "- Yes, users whose subscripton is automatically renewed churn much less often."
   ]
  },
  {
   "cell_type": "code",
   "execution_count": 44,
   "metadata": {},
   "outputs": [
    {
     "data": {
      "image/png": "[encoded data removed]",
      "text/plain": [
       "<Figure size 432x288 with 1 Axes>"
      ]
     },
     "metadata": {},
     "output_type": "display_data"
    }
   ],
   "source": [
    "ax = sns.countplot(x=\"last_is_auto_renew\", hue=\"is_churn\", data=train_with_features_deduplicated)\n",
    "total=train_with_features_deduplicated.shape[0]\n",
    "for p in ax.patches:\n",
    "    height = p.get_height()\n",
    "    ax.text(p.get_x()+p.get_width()/2.,\n",
    "            height + 3,\n",
    "            '{:1.2f}'.format(height/total),\n",
    "            ha=\"center\") "
   ]
  },
  {
   "cell_type": "code",
   "execution_count": 48,
   "metadata": {},
   "outputs": [
    {
     "name": "stdout",
     "output_type": "stream",
     "text": [
      " 3.37% of users whose subscription is automatically renewed churn\n",
      " 36.36% of users whose subscription is NOT automatically renewed churn\n"
     ]
    }
   ],
   "source": [
    "print(f\"{0.03/0.89: 0.2%} of users whose subscription is automatically renewed churn\")\n",
    "print(f\"{0.04/0.11: 0.2%} of users whose subscription is NOT automatically renewed churn\")"
   ]
  },
  {
   "cell_type": "markdown",
   "metadata": {},
   "source": [
    "### Modeling with XGboost\n",
    "Based on tutorial: **\"Using XGBoost in Python\"**\n",
    "<br>\n",
    "https://www.datacamp.com/community/tutorials/xgboost-in-python?utm_source=adwords_ppc&utm_campaignid=9942305733&utm_adgroupid=100189364546&utm_device=c&utm_keyword=&utm_matchtype=b&utm_network=g&utm_adpostion=&utm_creative=332602034352&utm_targetid=aud-299261629574:dsa-929501846124&utm_loc_interest_ms=&utm_loc_physical_ms=9060640&gclid=Cj0KCQjw0YD4BRD2ARIsAHwmKVkoOKq4tg0ihd-a5jx70ZIDySVNt1e8bTrBYOOQkPIaLb5aElQY3FgaApotEALw_wcB"
   ]
  },
  {
   "cell_type": "code",
   "execution_count": 74,
   "metadata": {},
   "outputs": [],
   "source": [
    "from sklearn.model_selection import train_test_split\n",
    "random.seed(1)\n",
    "train_set, test_set = train_test_split(all_my_train_features, test_size=0.2)"
   ]
  },
  {
   "cell_type": "code",
   "execution_count": 84,
   "metadata": {},
   "outputs": [
    {
     "name": "stdout",
     "output_type": "stream",
     "text": [
      "Accuracy of XGB classifier on training set: 0.98\n",
      "Accuracy of XGB classifier on test set: 0.97\n"
     ]
    }
   ],
   "source": [
    "#XGBoost Model\n",
    "\n",
    "random.seed(1)\n",
    "features = [\n",
    "    \"transactions_num\", \n",
    "    \"cancelations_num\", \n",
    "    \"days_from_start\", \n",
    "    \"last_is_auto_renew\", \n",
    "    \"subscription_length\",\n",
    "    \"days_from_last_log\",\n",
    "    \"last_month_logs_num\",\n",
    "    \"total_secs_sum\",\n",
    "    \"total_secs_mean\",\n",
    "    \"num_unq_sum\",\n",
    "    \"num_unq_mean\",\n",
    "    \"num_100_sum\"\n",
    "    \n",
    "# worse result with all of them!\n",
    "#     \"num_25_sum\",\n",
    "#     \"num_25_mean\",\n",
    "#     \"num_50_sum\",\n",
    "#     \"num_50_mean\",\n",
    "#     \"num_75_sum\",\n",
    "#     \"num_75_mean\",\n",
    "#     \"num_985_sum\",\n",
    "#     \"num_985_mean\",\n",
    "#     \"num_100_mean\"\n",
    "    ]\n",
    "X_train, y_train = train_set[features], train_set[\"is_churn\"]\n",
    "X_test, y_test = test_set[features], test_set[\"is_churn\"]\n",
    "\n",
    "xgb_model = xgb.XGBClassifier(verbosity=1,\n",
    "                              max_depth=6, \n",
    "                              learning_rate=0.4,\n",
    "                              objective= \"binary:logistic\",\n",
    "                              n_jobs=-1).fit(X_train, y_train)\n",
    "\n",
    "print(\"Accuracy of XGB classifier on training set: {:.2f}\"\n",
    "       .format(xgb_model.score(X_train, y_train)))\n",
    "print(\"Accuracy of XGB classifier on test set: {:.2f}\"\n",
    "       .format(xgb_model.score(X_test[X_train.columns], y_test)))"
   ]
  },
  {
   "cell_type": "markdown",
   "metadata": {},
   "source": [
    "### Features importance\n",
    "- We need to remember that there are many types of feature importance: 'weight', 'gain', 'cover',\n",
    "- Default: ‘weight’: the number of times a feature is used to split the data across all trees. It may be lower for features with lower cardinality (like True/False features, so our \"last_is_auto_renew\"),\n",
    "- ‘gain’: the average gain across all splits the feature is used in."
   ]
  },
  {
   "cell_type": "code",
   "execution_count": 85,
   "metadata": {},
   "outputs": [
    {
     "data": {
      "image/png": "[encoded data removed]",
      "text/plain": [
       "<Figure size 720x360 with 1 Axes>"
      ]
     },
     "metadata": {},
     "output_type": "display_data"
    }
   ],
   "source": [
    "xgb.plot_importance(xgb_model, importance_type=\"gain\")\n",
    "plt.rcParams['figure.figsize'] = [10, 5]\n",
    "plt.show()"
   ]
  },
  {
   "cell_type": "code",
   "execution_count": 86,
   "metadata": {},
   "outputs": [],
   "source": [
    "submission = xgb_model.predict_proba(all_my_test_features[features])"
   ]
  },
  {
   "cell_type": "code",
   "execution_count": 87,
   "metadata": {},
   "outputs": [],
   "source": [
    "submission_int = xgb_model.predict(all_my_test_features[features])"
   ]
  },
  {
   "cell_type": "code",
   "execution_count": 88,
   "metadata": {},
   "outputs": [
    {
     "data": {
      "text/html": [
       "<div>\n",
       "<style scoped>\n",
       "    .dataframe tbody tr th:only-of-type {\n",
       "        vertical-align: middle;\n",
       "    }\n",
       "\n",
       "    .dataframe tbody tr th {\n",
       "        vertical-align: top;\n",
       "    }\n",
       "\n",
       "    .dataframe thead th {\n",
       "        text-align: right;\n",
       "    }\n",
       "</style>\n",
       "<table border=\"1\" class=\"dataframe\">\n",
       "  <thead>\n",
       "    <tr style=\"text-align: right;\">\n",
       "      <th></th>\n",
       "      <th>0</th>\n",
       "      <th>1</th>\n",
       "    </tr>\n",
       "  </thead>\n",
       "  <tbody>\n",
       "    <tr>\n",
       "      <th>0</th>\n",
       "      <td>0.993798</td>\n",
       "      <td>0.006202</td>\n",
       "    </tr>\n",
       "    <tr>\n",
       "      <th>1</th>\n",
       "      <td>0.997374</td>\n",
       "      <td>0.002626</td>\n",
       "    </tr>\n",
       "    <tr>\n",
       "      <th>2</th>\n",
       "      <td>0.998001</td>\n",
       "      <td>0.001999</td>\n",
       "    </tr>\n",
       "    <tr>\n",
       "      <th>3</th>\n",
       "      <td>0.996600</td>\n",
       "      <td>0.003400</td>\n",
       "    </tr>\n",
       "    <tr>\n",
       "      <th>4</th>\n",
       "      <td>0.890516</td>\n",
       "      <td>0.109484</td>\n",
       "    </tr>\n",
       "    <tr>\n",
       "      <th>...</th>\n",
       "      <td>...</td>\n",
       "      <td>...</td>\n",
       "    </tr>\n",
       "    <tr>\n",
       "      <th>907466</th>\n",
       "      <td>0.986514</td>\n",
       "      <td>0.013486</td>\n",
       "    </tr>\n",
       "    <tr>\n",
       "      <th>907467</th>\n",
       "      <td>0.997308</td>\n",
       "      <td>0.002692</td>\n",
       "    </tr>\n",
       "    <tr>\n",
       "      <th>907468</th>\n",
       "      <td>0.545683</td>\n",
       "      <td>0.454317</td>\n",
       "    </tr>\n",
       "    <tr>\n",
       "      <th>907469</th>\n",
       "      <td>0.964191</td>\n",
       "      <td>0.035809</td>\n",
       "    </tr>\n",
       "    <tr>\n",
       "      <th>907470</th>\n",
       "      <td>0.968317</td>\n",
       "      <td>0.031683</td>\n",
       "    </tr>\n",
       "  </tbody>\n",
       "</table>\n",
       "<p>907471 rows × 2 columns</p>\n",
       "</div>"
      ],
      "text/plain": [
       "               0         1\n",
       "0       0.993798  0.006202\n",
       "1       0.997374  0.002626\n",
       "2       0.998001  0.001999\n",
       "3       0.996600  0.003400\n",
       "4       0.890516  0.109484\n",
       "...          ...       ...\n",
       "907466  0.986514  0.013486\n",
       "907467  0.997308  0.002692\n",
       "907468  0.545683  0.454317\n",
       "907469  0.964191  0.035809\n",
       "907470  0.968317  0.031683\n",
       "\n",
       "[907471 rows x 2 columns]"
      ]
     },
     "execution_count": 88,
     "metadata": {},
     "output_type": "execute_result"
    }
   ],
   "source": [
    "pd.DataFrame(submission)"
   ]
  },
  {
   "cell_type": "code",
   "execution_count": 89,
   "metadata": {},
   "outputs": [],
   "source": [
    "final_submission = pd.DataFrame({\"msno\": test_with_features_deduplicated.msno.reset_index(drop=True), \n",
    "                                 \"is_churn\": pd.DataFrame(submission).loc[:,1]})"
   ]
  },
  {
   "cell_type": "code",
   "execution_count": 90,
   "metadata": {},
   "outputs": [
    {
     "data": {
      "text/html": [
       "<div>\n",
       "<style scoped>\n",
       "    .dataframe tbody tr th:only-of-type {\n",
       "        vertical-align: middle;\n",
       "    }\n",
       "\n",
       "    .dataframe tbody tr th {\n",
       "        vertical-align: top;\n",
       "    }\n",
       "\n",
       "    .dataframe thead th {\n",
       "        text-align: right;\n",
       "    }\n",
       "</style>\n",
       "<table border=\"1\" class=\"dataframe\">\n",
       "  <thead>\n",
       "    <tr style=\"text-align: right;\">\n",
       "      <th></th>\n",
       "      <th>msno</th>\n",
       "      <th>is_churn</th>\n",
       "    </tr>\n",
       "  </thead>\n",
       "  <tbody>\n",
       "    <tr>\n",
       "      <th>0</th>\n",
       "      <td>+++hVY1rZox/33YtvDgmKA2Frg/2qhkz12B9ylCvh8o=</td>\n",
       "      <td>0.006202</td>\n",
       "    </tr>\n",
       "    <tr>\n",
       "      <th>1</th>\n",
       "      <td>+++snpr7pmobhLKUgSHTv/mpkqgBT0tQJ0zQj6qKrqc=</td>\n",
       "      <td>0.002626</td>\n",
       "    </tr>\n",
       "    <tr>\n",
       "      <th>2</th>\n",
       "      <td>++/9R3sX37CjxbY/AaGvbwr3QkwElKBCtSvVzhCBDOk=</td>\n",
       "      <td>0.001999</td>\n",
       "    </tr>\n",
       "    <tr>\n",
       "      <th>3</th>\n",
       "      <td>++0/NopttBsaAn6qHZA2AWWrDg7Me7UOMs1vsyo4tSI=</td>\n",
       "      <td>0.003400</td>\n",
       "    </tr>\n",
       "    <tr>\n",
       "      <th>4</th>\n",
       "      <td>++0BJXY8tpirgIhJR14LDM1pnaRosjD1mdO1mIKxlJA=</td>\n",
       "      <td>0.109484</td>\n",
       "    </tr>\n",
       "    <tr>\n",
       "      <th>...</th>\n",
       "      <td>...</td>\n",
       "      <td>...</td>\n",
       "    </tr>\n",
       "    <tr>\n",
       "      <th>907466</th>\n",
       "      <td>zzxZeMFx2fjfKZigMnJa2w0EmloDbm8+8nTf/o/00GY=</td>\n",
       "      <td>0.013486</td>\n",
       "    </tr>\n",
       "    <tr>\n",
       "      <th>907467</th>\n",
       "      <td>zzxi7n5xoTYo9Q3VTygLWvl/rBDcexwaeAry0yK7Q0E=</td>\n",
       "      <td>0.002692</td>\n",
       "    </tr>\n",
       "    <tr>\n",
       "      <th>907468</th>\n",
       "      <td>zzy7iqSpfcRq7R4hmKKuhI+CJRs79a6pteqEggpiNO0=</td>\n",
       "      <td>0.454317</td>\n",
       "    </tr>\n",
       "    <tr>\n",
       "      <th>907469</th>\n",
       "      <td>zzyHq6TK2+cBkeGFUHvh12Z7UxFZiSM7dOOSllSBPDw=</td>\n",
       "      <td>0.035809</td>\n",
       "    </tr>\n",
       "    <tr>\n",
       "      <th>907470</th>\n",
       "      <td>zzzF1KsGfHH3qI6qiSNSXC35UXmVKMVFdxkp7xmDMc0=</td>\n",
       "      <td>0.031683</td>\n",
       "    </tr>\n",
       "  </tbody>\n",
       "</table>\n",
       "<p>907471 rows × 2 columns</p>\n",
       "</div>"
      ],
      "text/plain": [
       "                                                msno  is_churn\n",
       "0       +++hVY1rZox/33YtvDgmKA2Frg/2qhkz12B9ylCvh8o=  0.006202\n",
       "1       +++snpr7pmobhLKUgSHTv/mpkqgBT0tQJ0zQj6qKrqc=  0.002626\n",
       "2       ++/9R3sX37CjxbY/AaGvbwr3QkwElKBCtSvVzhCBDOk=  0.001999\n",
       "3       ++0/NopttBsaAn6qHZA2AWWrDg7Me7UOMs1vsyo4tSI=  0.003400\n",
       "4       ++0BJXY8tpirgIhJR14LDM1pnaRosjD1mdO1mIKxlJA=  0.109484\n",
       "...                                              ...       ...\n",
       "907466  zzxZeMFx2fjfKZigMnJa2w0EmloDbm8+8nTf/o/00GY=  0.013486\n",
       "907467  zzxi7n5xoTYo9Q3VTygLWvl/rBDcexwaeAry0yK7Q0E=  0.002692\n",
       "907468  zzy7iqSpfcRq7R4hmKKuhI+CJRs79a6pteqEggpiNO0=  0.454317\n",
       "907469  zzyHq6TK2+cBkeGFUHvh12Z7UxFZiSM7dOOSllSBPDw=  0.035809\n",
       "907470  zzzF1KsGfHH3qI6qiSNSXC35UXmVKMVFdxkp7xmDMc0=  0.031683\n",
       "\n",
       "[907471 rows x 2 columns]"
      ]
     },
     "execution_count": 90,
     "metadata": {},
     "output_type": "execute_result"
    }
   ],
   "source": [
    "final_submission"
   ]
  },
  {
   "cell_type": "code",
   "execution_count": 91,
   "metadata": {},
   "outputs": [],
   "source": [
    "final_submission.to_csv(\"submission_9.csv\", index=False)"
   ]
  },
  {
   "cell_type": "code",
   "execution_count": 93,
   "metadata": {},
   "outputs": [
    {
     "data": {
      "text/html": [
       "<div>\n",
       "<style scoped>\n",
       "    .dataframe tbody tr th:only-of-type {\n",
       "        vertical-align: middle;\n",
       "    }\n",
       "\n",
       "    .dataframe tbody tr th {\n",
       "        vertical-align: top;\n",
       "    }\n",
       "\n",
       "    .dataframe thead th {\n",
       "        text-align: right;\n",
       "    }\n",
       "</style>\n",
       "<table border=\"1\" class=\"dataframe\">\n",
       "  <thead>\n",
       "    <tr style=\"text-align: right;\">\n",
       "      <th></th>\n",
       "      <th>transactions_num</th>\n",
       "      <th>cancelations_num</th>\n",
       "      <th>days_from_start</th>\n",
       "      <th>last_is_auto_renew</th>\n",
       "      <th>subscription_length</th>\n",
       "      <th>days_from_last_log</th>\n",
       "      <th>last_month_logs_num</th>\n",
       "      <th>total_secs_sum</th>\n",
       "      <th>total_secs_mean</th>\n",
       "      <th>num_unq_sum</th>\n",
       "      <th>num_unq_mean</th>\n",
       "      <th>num_100_sum</th>\n",
       "    </tr>\n",
       "  </thead>\n",
       "  <tbody>\n",
       "    <tr>\n",
       "      <th>0</th>\n",
       "      <td>4</td>\n",
       "      <td>0</td>\n",
       "      <td>105</td>\n",
       "      <td>1</td>\n",
       "      <td>28</td>\n",
       "      <td>1.0</td>\n",
       "      <td>27.0</td>\n",
       "      <td>156533.957</td>\n",
       "      <td>5797.553963</td>\n",
       "      <td>642.0</td>\n",
       "      <td>23.777778</td>\n",
       "      <td>468.0</td>\n",
       "    </tr>\n",
       "    <tr>\n",
       "      <th>1</th>\n",
       "      <td>19</td>\n",
       "      <td>0</td>\n",
       "      <td>760</td>\n",
       "      <td>1</td>\n",
       "      <td>47</td>\n",
       "      <td>1.0</td>\n",
       "      <td>28.0</td>\n",
       "      <td>189007.847</td>\n",
       "      <td>6750.280250</td>\n",
       "      <td>722.0</td>\n",
       "      <td>25.785714</td>\n",
       "      <td>762.0</td>\n",
       "    </tr>\n",
       "    <tr>\n",
       "      <th>2</th>\n",
       "      <td>26</td>\n",
       "      <td>0</td>\n",
       "      <td>765</td>\n",
       "      <td>1</td>\n",
       "      <td>28</td>\n",
       "      <td>1.0</td>\n",
       "      <td>20.0</td>\n",
       "      <td>123768.839</td>\n",
       "      <td>6188.441950</td>\n",
       "      <td>551.0</td>\n",
       "      <td>27.550000</td>\n",
       "      <td>383.0</td>\n",
       "    </tr>\n",
       "    <tr>\n",
       "      <th>3</th>\n",
       "      <td>12</td>\n",
       "      <td>0</td>\n",
       "      <td>351</td>\n",
       "      <td>1</td>\n",
       "      <td>28</td>\n",
       "      <td>1.0</td>\n",
       "      <td>25.0</td>\n",
       "      <td>78863.188</td>\n",
       "      <td>3154.527520</td>\n",
       "      <td>194.0</td>\n",
       "      <td>7.760000</td>\n",
       "      <td>258.0</td>\n",
       "    </tr>\n",
       "    <tr>\n",
       "      <th>4</th>\n",
       "      <td>19</td>\n",
       "      <td>0</td>\n",
       "      <td>760</td>\n",
       "      <td>1</td>\n",
       "      <td>51</td>\n",
       "      <td>1.0</td>\n",
       "      <td>18.0</td>\n",
       "      <td>49219.147</td>\n",
       "      <td>2734.397056</td>\n",
       "      <td>261.0</td>\n",
       "      <td>14.500000</td>\n",
       "      <td>172.0</td>\n",
       "    </tr>\n",
       "    <tr>\n",
       "      <th>...</th>\n",
       "      <td>...</td>\n",
       "      <td>...</td>\n",
       "      <td>...</td>\n",
       "      <td>...</td>\n",
       "      <td>...</td>\n",
       "      <td>...</td>\n",
       "      <td>...</td>\n",
       "      <td>...</td>\n",
       "      <td>...</td>\n",
       "      <td>...</td>\n",
       "      <td>...</td>\n",
       "      <td>...</td>\n",
       "    </tr>\n",
       "    <tr>\n",
       "      <th>992926</th>\n",
       "      <td>26</td>\n",
       "      <td>1</td>\n",
       "      <td>721</td>\n",
       "      <td>1</td>\n",
       "      <td>28</td>\n",
       "      <td>2.0</td>\n",
       "      <td>11.0</td>\n",
       "      <td>115615.729</td>\n",
       "      <td>10510.520818</td>\n",
       "      <td>363.0</td>\n",
       "      <td>33.000000</td>\n",
       "      <td>426.0</td>\n",
       "    </tr>\n",
       "    <tr>\n",
       "      <th>992927</th>\n",
       "      <td>4</td>\n",
       "      <td>0</td>\n",
       "      <td>102</td>\n",
       "      <td>1</td>\n",
       "      <td>28</td>\n",
       "      <td>29.0</td>\n",
       "      <td>0.0</td>\n",
       "      <td>0.000</td>\n",
       "      <td>0.000000</td>\n",
       "      <td>0.0</td>\n",
       "      <td>0.000000</td>\n",
       "      <td>0.0</td>\n",
       "    </tr>\n",
       "    <tr>\n",
       "      <th>992928</th>\n",
       "      <td>16</td>\n",
       "      <td>1</td>\n",
       "      <td>747</td>\n",
       "      <td>1</td>\n",
       "      <td>52</td>\n",
       "      <td>1.0</td>\n",
       "      <td>17.0</td>\n",
       "      <td>68186.595</td>\n",
       "      <td>4010.976176</td>\n",
       "      <td>281.0</td>\n",
       "      <td>16.529412</td>\n",
       "      <td>222.0</td>\n",
       "    </tr>\n",
       "    <tr>\n",
       "      <th>992929</th>\n",
       "      <td>26</td>\n",
       "      <td>1</td>\n",
       "      <td>787</td>\n",
       "      <td>1</td>\n",
       "      <td>1</td>\n",
       "      <td>29.0</td>\n",
       "      <td>0.0</td>\n",
       "      <td>0.000</td>\n",
       "      <td>0.000000</td>\n",
       "      <td>0.0</td>\n",
       "      <td>0.000000</td>\n",
       "      <td>0.0</td>\n",
       "    </tr>\n",
       "    <tr>\n",
       "      <th>992930</th>\n",
       "      <td>12</td>\n",
       "      <td>1</td>\n",
       "      <td>362</td>\n",
       "      <td>1</td>\n",
       "      <td>0</td>\n",
       "      <td>29.0</td>\n",
       "      <td>0.0</td>\n",
       "      <td>0.000</td>\n",
       "      <td>0.000000</td>\n",
       "      <td>0.0</td>\n",
       "      <td>0.000000</td>\n",
       "      <td>0.0</td>\n",
       "    </tr>\n",
       "  </tbody>\n",
       "</table>\n",
       "<p>992931 rows × 12 columns</p>\n",
       "</div>"
      ],
      "text/plain": [
       "        transactions_num  cancelations_num  days_from_start  \\\n",
       "0                      4                 0              105   \n",
       "1                     19                 0              760   \n",
       "2                     26                 0              765   \n",
       "3                     12                 0              351   \n",
       "4                     19                 0              760   \n",
       "...                  ...               ...              ...   \n",
       "992926                26                 1              721   \n",
       "992927                 4                 0              102   \n",
       "992928                16                 1              747   \n",
       "992929                26                 1              787   \n",
       "992930                12                 1              362   \n",
       "\n",
       "        last_is_auto_renew  subscription_length  days_from_last_log  \\\n",
       "0                        1                   28                 1.0   \n",
       "1                        1                   47                 1.0   \n",
       "2                        1                   28                 1.0   \n",
       "3                        1                   28                 1.0   \n",
       "4                        1                   51                 1.0   \n",
       "...                    ...                  ...                 ...   \n",
       "992926                   1                   28                 2.0   \n",
       "992927                   1                   28                29.0   \n",
       "992928                   1                   52                 1.0   \n",
       "992929                   1                    1                29.0   \n",
       "992930                   1                    0                29.0   \n",
       "\n",
       "        last_month_logs_num  total_secs_sum  total_secs_mean  num_unq_sum  \\\n",
       "0                      27.0      156533.957      5797.553963        642.0   \n",
       "1                      28.0      189007.847      6750.280250        722.0   \n",
       "2                      20.0      123768.839      6188.441950        551.0   \n",
       "3                      25.0       78863.188      3154.527520        194.0   \n",
       "4                      18.0       49219.147      2734.397056        261.0   \n",
       "...                     ...             ...              ...          ...   \n",
       "992926                 11.0      115615.729     10510.520818        363.0   \n",
       "992927                  0.0           0.000         0.000000          0.0   \n",
       "992928                 17.0       68186.595      4010.976176        281.0   \n",
       "992929                  0.0           0.000         0.000000          0.0   \n",
       "992930                  0.0           0.000         0.000000          0.0   \n",
       "\n",
       "        num_unq_mean  num_100_sum  \n",
       "0          23.777778        468.0  \n",
       "1          25.785714        762.0  \n",
       "2          27.550000        383.0  \n",
       "3           7.760000        258.0  \n",
       "4          14.500000        172.0  \n",
       "...              ...          ...  \n",
       "992926     33.000000        426.0  \n",
       "992927      0.000000          0.0  \n",
       "992928     16.529412        222.0  \n",
       "992929      0.000000          0.0  \n",
       "992930      0.000000          0.0  \n",
       "\n",
       "[992931 rows x 12 columns]"
      ]
     },
     "execution_count": 93,
     "metadata": {},
     "output_type": "execute_result"
    }
   ],
   "source": [
    "all_my_train_features[features]"
   ]
  },
  {
   "cell_type": "markdown",
   "metadata": {},
   "source": [
    "### Log loss for train and test set"
   ]
  },
  {
   "cell_type": "code",
   "execution_count": 101,
   "metadata": {},
   "outputs": [
    {
     "name": "stdout",
     "output_type": "stream",
     "text": [
      "The lower log loss the better\n",
      "Test set log loss: 0.06608614517393854\n",
      "Train set log loss: 0.05733226934329139\n"
     ]
    }
   ],
   "source": [
    "from sklearn.metrics import log_loss\n",
    "# log_loss(y_true, y_pred)\n",
    "\n",
    "prediction_test = xgb_model.predict_proba(X_test[features])\n",
    "prediction_train = xgb_model.predict_proba(X_train[features])\n",
    "y_pred_test = pd.DataFrame(prediction_test).loc[:,1]\n",
    "y_pred_train = pd.DataFrame(prediction_train).loc[:,1]\n",
    "y_true_test = y_test\n",
    "y_true_train = y_train\n",
    "\n",
    "print(\"The lower log loss the better\")\n",
    "print(f\"Test set log loss: {log_loss(y_true_test, y_pred_test, normalize=True)}\")\n",
    "print(f\"Train set log loss: {log_loss(y_true_train, y_pred_train, normalize=True)}\")"
   ]
  },
  {
   "cell_type": "markdown",
   "metadata": {},
   "source": [
    "###### Train set log loss < Test set log loss  => Overfitting"
   ]
  },
  {
   "cell_type": "markdown",
   "metadata": {},
   "source": [
    "#### Ideas to improve:\n",
    "  - for overfitting: decrease max_depth or change other parameters,\n",
    "  - create more features,\n",
    "  - add different periods - maybe there is seasonality?"
   ]
  },
  {
   "cell_type": "code",
   "execution_count": null,
   "metadata": {},
   "outputs": [],
   "source": []
  }
 ],
 "metadata": {
  "kernelspec": {
   "display_name": "Python 3",
   "language": "python",
   "name": "python3"
  },
  "language_info": {
   "codemirror_mode": {
    "name": "ipython",
    "version": 3
   },
   "file_extension": ".py",
   "mimetype": "text/x-python",
   "name": "python",
   "nbconvert_exporter": "python",
   "pygments_lexer": "ipython3",
   "version": "3.6.10"
  }
 },
 "nbformat": 4,
 "nbformat_minor": 4
}
