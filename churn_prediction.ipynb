{
 "cells": [
  {
   "cell_type": "markdown",
   "metadata": {},
   "source": [
    "## Churn prediction - Kaggle competition\n",
    "\n",
    "- Even when a Kaggle competition is over we can still download the data, read notebooks of participants and learn!\n",
    "<br>And then submit our own prediction to see how well our model perform. "
   ]
  },
  {
   "cell_type": "markdown",
   "metadata": {},
   "source": [
    "##### This a an exploratory analysis and prediction with XGBoost for Kaggle competition:\n",
    "\n",
    "[\"WSDM - KKBox's Churn Prediction Challenge\n",
    "Can you predict when subscribers will churn?\"](https://www.kaggle.com/c/kkbox-churn-prediction-challenge/)\n"
   ]
  },
  {
   "cell_type": "markdown",
   "metadata": {},
   "source": [
    "**Churn definition (in data description on Kaggle)** \n",
    ">The criteria of \"churn\" is no new valid service subscription within 30 days after the current membership expires."
   ]
  },
  {
   "cell_type": "code",
   "execution_count": 1,
   "metadata": {},
   "outputs": [],
   "source": [
    "import random\n",
    "import pandas as pd\n",
    "import xgboost as xgb\n",
    "from os.path import join\n",
    "\n",
    "import seaborn as sns\n",
    "sns.set(style=\"whitegrid\")\n",
    "import matplotlib.pyplot as plt"
   ]
  },
  {
   "cell_type": "markdown",
   "metadata": {},
   "source": [
    "## Loading the data"
   ]
  },
  {
   "cell_type": "markdown",
   "metadata": {},
   "source": [
    "The files set provided contains bigger files with data till the end of February 2017 and additional files (\"v2\" suffix) with update of March 2017.\n",
    "<br>They are too big to load them all into python but we can concatenate some of them in GNU terminal (Git Bash):\n",
    "><code>cat transactions.csv > transactions_v3.csv; tail -n +2 transactions_v2.csv >> transactions_v3.csv </code>"
   ]
  },
  {
   "cell_type": "code",
   "execution_count": 13,
   "metadata": {},
   "outputs": [],
   "source": [
    "PROJECT_DIR = r\"C:\\Users\\Olks\\Desktop\\churn_prediction\""
   ]
  },
  {
   "cell_type": "code",
   "execution_count": 14,
   "metadata": {},
   "outputs": [],
   "source": [
    "train_path = join(PROJECT_DIR, \"train.csv\")\n",
    "train_v2_path = join(PROJECT_DIR, \"train_v2.csv\")\n",
    "user_logs_path = join(PROJECT_DIR, \"user_logs.csv\")\n",
    "user_logs_v2_path = join(PROJECT_DIR, \"user_logs_v2.csv\")\n",
    "sample_submission_zero_path = join(PROJECT_DIR, \"sample_submission_zero.csv\")\n",
    "sample_submission_v2_path = join(PROJECT_DIR, \"sample_submission_v2.csv\")\n",
    "transactions_path = join(PROJECT_DIR, \"transactions.csv\")\n",
    "transactions_v2_path = join(PROJECT_DIR, \"transactions_v2.csv\")\n",
    "transactions_v3_path = join(PROJECT_DIR, \"transactions_v3.csv\")\n",
    "members_v3_path = join(PROJECT_DIR, \"members_v3.csv\")"
   ]
  },
  {
   "cell_type": "markdown",
   "metadata": {},
   "source": [
    "#### Some files are to big to load them so we will use spark to query them"
   ]
  },
  {
   "cell_type": "code",
   "execution_count": 2,
   "metadata": {},
   "outputs": [],
   "source": [
    "from pyspark import SparkContext\n",
    "sc = SparkContext(\"local\", \"First App\")\n",
    "print(sc)\n",
    "print(sc.version)"
   ]
  },
  {
   "cell_type": "code",
   "execution_count": 5,
   "metadata": {},
   "outputs": [
    {
     "name": "stdout",
     "output_type": "stream",
     "text": [
      "<pyspark.sql.session.SparkSession object at 0x0000021EB4D7C7F0>\n"
     ]
    }
   ],
   "source": [
    "# Import SparkSession from pyspark.sql\n",
    "from pyspark.sql import SparkSession\n",
    "\n",
    "# Create my_spark\n",
    "# getOrCreate() returns an existing if there is one already\n",
    "my_spark = SparkSession.builder.getOrCreate()\n",
    "\n",
    "# Print my_spark\n",
    "print(my_spark)\n",
    "\n",
    "print(my_spark.catalog.listTables())"
   ]
  },
  {
   "cell_type": "code",
   "execution_count": 15,
   "metadata": {},
   "outputs": [
    {
     "name": "stdout",
     "output_type": "stream",
     "text": [
      "+--------------------+--------+------+------+------+-------+-------+-------+----------+\n",
      "|                msno|    date|num_25|num_50|num_75|num_985|num_100|num_unq|total_secs|\n",
      "+--------------------+--------+------+------+------+-------+-------+-------+----------+\n",
      "|rxIP2f2aN0rYNp+to...|20150513|     0|     0|     0|      0|      1|      1|  280.3350|\n",
      "|rxIP2f2aN0rYNp+to...|20150709|     9|     1|     0|      0|      7|     11| 1658.9480|\n",
      "|yxiEWwE9VR5utpUec...|20150105|     3|     3|     0|      0|     68|     36|17364.9560|\n",
      "|yxiEWwE9VR5utpUec...|20150306|     1|     0|     1|      1|     97|     27|24667.3170|\n",
      "|yxiEWwE9VR5utpUec...|20150501|     3|     0|     0|      0|     38|     38| 9649.0290|\n",
      "|yxiEWwE9VR5utpUec...|20150702|     4|     0|     1|      1|     33|     10|10021.5200|\n",
      "|yxiEWwE9VR5utpUec...|20150830|     3|     1|     0|      0|      4|      7| 1119.5550|\n",
      "|yxiEWwE9VR5utpUec...|20151107|     1|     0|     0|      0|      4|      5|  938.0220|\n",
      "|yxiEWwE9VR5utpUec...|20160110|     2|     0|     1|      0|     11|      6| 3004.0680|\n",
      "|yxiEWwE9VR5utpUec...|20160316|     9|     3|     4|      1|     67|     50|18257.6610|\n",
      "|yxiEWwE9VR5utpUec...|20160510|     5|     3|     2|      1|     67|     66|16764.2060|\n",
      "|yxiEWwE9VR5utpUec...|20160804|     1|     4|     5|      0|     36|     43|11359.5650|\n",
      "|yxiEWwE9VR5utpUec...|20160926|     7|     1|     0|      1|     38|     20|10201.9790|\n",
      "|yxiEWwE9VR5utpUec...|20161115|     0|     1|     4|      1|     38|     40| 9288.9480|\n",
      "|yxiEWwE9VR5utpUec...|20170106|     0|     0|     0|      1|     39|     38|10123.2280|\n",
      "|PNxIsSLWOJDCm7pNP...|20151201|     3|     3|     2|      0|      8|     11| 2293.2500|\n",
      "|PNxIsSLWOJDCm7pNP...|20160628|     0|     0|     1|      1|      1|      3|  639.0300|\n",
      "|PNxIsSLWOJDCm7pNP...|20170106|     2|     1|     0|      0|     35|     34| 7563.9360|\n",
      "|KXF9c/T66LZIzFq+x...|20150803|     0|     0|     0|      0|     16|     11| 3585.9400|\n",
      "|KXF9c/T66LZIzFq+x...|20160527|     4|     3|     0|      2|      2|     11| 1267.5630|\n",
      "+--------------------+--------+------+------+------+-------+-------+-------+----------+\n",
      "only showing top 20 rows\n",
      "\n"
     ]
    }
   ],
   "source": [
    "file_path = user_logs_path\n",
    "\n",
    "# Read in the airports data\n",
    "user_logs = my_spark.read.csv(file_path, header=True)\n",
    "\n",
    "# Show the data\n",
    "user_logs.show()"
   ]
  },
  {
   "cell_type": "code",
   "execution_count": 16,
   "metadata": {},
   "outputs": [],
   "source": [
    "from pyspark.sql import functions as f"
   ]
  },
  {
   "cell_type": "code",
   "execution_count": null,
   "metadata": {},
   "outputs": [],
   "source": [
    "user_logs.select(\"date\").show()"
   ]
  },
  {
   "cell_type": "code",
   "execution_count": 18,
   "metadata": {},
   "outputs": [],
   "source": [
    "user_logs.createOrReplaceTempView(\"user_logs\")"
   ]
  },
  {
   "cell_type": "code",
   "execution_count": 18,
   "metadata": {},
   "outputs": [],
   "source": [
    "# max_date = my_spark.sql(\"SELECT MAX(date) FROM user_logs\")\n",
    "# max_date.show()"
   ]
  },
  {
   "cell_type": "markdown",
   "metadata": {},
   "source": [
    "Maximum date in user_logs file: 20170228"
   ]
  },
  {
   "cell_type": "code",
   "execution_count": null,
   "metadata": {},
   "outputs": [],
   "source": [
    "# start: 22:38\n",
    "# java.lang.OutOfMemoryError\n",
    "# query = \"SELECT msno, MAX(date) FROM user_logs GROUP BY msno\"\n",
    "# last_log = my_spark.sql(query)\n",
    "# last_log_df = last_log.toPandas()\n",
    "# last_log_df.to_csv(\"last_log.csv\")\n",
    "# last_log_df"
   ]
  },
  {
   "cell_type": "code",
   "execution_count": null,
   "metadata": {},
   "outputs": [
    {
     "name": "stdout",
     "output_type": "stream",
     "text": [
      "+--------------------+--------+------+------+------+-------+-------+-------+----------+\n",
      "|                msno|    date|num_25|num_50|num_75|num_985|num_100|num_unq|total_secs|\n",
      "+--------------------+--------+------+------+------+-------+-------+-------+----------+\n",
      "|mSM/P4XpWcuQUGnhL...|20170225|     0|     0|     1|      0|      5|      6| 1526.6610|\n",
      "|q3MXOPoaa2SCN4bnP...|20170222|     1|     0|     0|      0|      9|      3| 2326.3920|\n",
      "|GI65XroKbX7GEywRn...|20170219|     0|     0|     0|      1|     68|     55|16841.7550|\n",
      "|9IzdFLkXN+UUsGLLC...|20170220|     3|     1|     0|      1|      6|      9| 2040.4290|\n",
      "|yL5Zpo+LChf06dj8z...|20170204|     3|     1|     3|      2|     32|     32| 9349.6000|\n",
      "|diUgkttaptgINCHKM...|20170224|     0|     0|     0|      0|      8|      8| 1739.7280|\n",
      "|hSDvKV9HEpWnNlnGs...|20170217|     0|     0|     0|      0|      2|      2|  443.8720|\n",
      "|S2T6jI9T0Co0vOUpz...|20170219|     2|     0|     1|      0|     44|     40|10051.0740|\n",
      "|rE5wSmHEF1Dhu55zh...|20170218|     0|     0|     0|      0|     16|      9| 3822.1210|\n",
      "|Jgys/AsreAeCWb8Lv...|20170207|    15|     1|     3|      3|     15|     33| 5099.8020|\n",
      "|+aKwc2QIqADu07y87...|20170206|    16|     1|     2|      0|     11|     14| 3053.2390|\n",
      "|FCDxhMDn2TEHbtv1O...|20170222|     2|     0|     0|      1|     58|     30|13610.4130|\n",
      "|d+cRMhKc/aZvMDC2X...|20170213|     5|     1|     1|      1|     23|     13| 5128.9690|\n",
      "|smUCRXP1KI/21kb8W...|20170201|    12|     3|     3|      6|     43|     31|13153.4280|\n",
      "|qrgYmmXw12oGp+tLp...|20170202|     7|     2|     0|      1|     23|     30| 6995.7020|\n",
      "|/TwQtLKPQtNgjrNHy...|20170218|     0|     0|     0|      0|     32|     32| 6973.2140|\n",
      "|pvukPXhrJRbAGUyTg...|20170208|     6|     2|     1|      1|     40|     35| 8776.5890|\n",
      "|WSBuhS6iMKbgJwkhO...|20170205|     6|     1|     0|      0|     13|     15| 3581.9700|\n",
      "|ZeaLzkOsOF88VW4ee...|20170221|     0|     0|     0|      0|    103|    103|27871.0000|\n",
      "|9uvw/I//rXHN1yAHB...|20170227|     0|     1|     1|      1|      3|      5| 1222.0950|\n",
      "+--------------------+--------+------+------+------+-------+-------+-------+----------+\n",
      "only showing top 20 rows\n",
      "\n"
     ]
    }
   ],
   "source": [
    "# filter only logs from february and save them to csv\n",
    "query = \"SELECT* FROM user_logs WHERE date >= 20170201\"\n",
    "february = my_spark.sql(query)\n",
    "# df=february.toPandas()\n",
    "february.show()\n",
    "february.coalesce(1).write.format('csv').save(\"february_logs.csv\", header='true')"
   ]
  },
  {
   "cell_type": "code",
   "execution_count": null,
   "metadata": {},
   "outputs": [],
   "source": [
    "my_spark.stop()"
   ]
  },
  {
   "cell_type": "markdown",
   "metadata": {},
   "source": [
    "### Exploration of the data"
   ]
  },
  {
   "cell_type": "markdown",
   "metadata": {},
   "source": [
    "#### First data check: reading 1000 lines per file because they are too big read them all at once\n",
    "- Later we can read selected columns or whole files by chunks"
   ]
  },
  {
   "cell_type": "code",
   "execution_count": 4,
   "metadata": {},
   "outputs": [],
   "source": [
    "train = pd.read_csv(train_path, nrows=1000)\n",
    "train_v2 = pd.read_csv(train_v2_path, nrows=1000)\n",
    "user_logs = pd.read_csv(user_logs_path, nrows=1000) \n",
    "user_logs_v2 = pd.read_csv(user_logs_v2_path, nrows=1000)\n",
    "sample_submission_zero = pd.read_csv(sample_submission_zero_path, nrows=1000)\n",
    "sample_submission_v2 = pd.read_csv(sample_submission_v2_path, nrows=1000)\n",
    "transactions = pd.read_csv(transactions_path, nrows=1000)\n",
    "transactions_v2 = pd.read_csv(transactions_v2_path, nrows=1000)\n",
    "transactions_v3 = pd.read_csv(transactions_v3_path, nrows=1000) \n",
    "members_v3 = pd.read_csv(members_v3_path, nrows=1000)"
   ]
  },
  {
   "cell_type": "code",
   "execution_count": 5,
   "metadata": {},
   "outputs": [],
   "source": [
    "tables = {\n",
    "    \"train\": train, \n",
    "    \"train_v2\": train_v2, \n",
    "    \"user_logs\": user_logs,\n",
    "    \"user_logs_v2\": user_logs_v2, \n",
    "    \"sample_submission_zero\": sample_submission_zero, \n",
    "    \"sample_submission_v2\": sample_submission_v2,\n",
    "    \"transactions\": transactions,\n",
    "    \"transactions_v2\": transactions_v2,\n",
    "    \"transactions_v3\": transactions_v3,\n",
    "    \"members_v3\": members_v3\n",
    "}"
   ]
  },
  {
   "cell_type": "code",
   "execution_count": 6,
   "metadata": {},
   "outputs": [
    {
     "data": {
      "application/javascript": [
       "IPython.OutputArea.prototype._should_scroll = function(lines) {\n",
       "    return false;\n",
       "}\n"
      ],
      "text/plain": [
       "<IPython.core.display.Javascript object>"
      ]
     },
     "metadata": {},
     "output_type": "display_data"
    }
   ],
   "source": [
    "%%javascript\n",
    "IPython.OutputArea.prototype._should_scroll = function(lines) {\n",
    "    return false;\n",
    "}"
   ]
  },
  {
   "cell_type": "code",
   "execution_count": 7,
   "metadata": {},
   "outputs": [
    {
     "name": "stdout",
     "output_type": "stream",
     "text": [
      "\n",
      "------------------------------------------------------\n",
      "Table name: \"train\"\n"
     ]
    },
    {
     "data": {
      "text/html": [
       "<div>\n",
       "<style scoped>\n",
       "    .dataframe tbody tr th:only-of-type {\n",
       "        vertical-align: middle;\n",
       "    }\n",
       "\n",
       "    .dataframe tbody tr th {\n",
       "        vertical-align: top;\n",
       "    }\n",
       "\n",
       "    .dataframe thead th {\n",
       "        text-align: right;\n",
       "    }\n",
       "</style>\n",
       "<table border=\"1\" class=\"dataframe\">\n",
       "  <thead>\n",
       "    <tr style=\"text-align: right;\">\n",
       "      <th></th>\n",
       "      <th>count</th>\n",
       "      <th>mean</th>\n",
       "      <th>std</th>\n",
       "      <th>min</th>\n",
       "      <th>25%</th>\n",
       "      <th>50%</th>\n",
       "      <th>75%</th>\n",
       "      <th>max</th>\n",
       "    </tr>\n",
       "  </thead>\n",
       "  <tbody>\n",
       "    <tr>\n",
       "      <th>is_churn</th>\n",
       "      <td>1000.0</td>\n",
       "      <td>1.0</td>\n",
       "      <td>0.0</td>\n",
       "      <td>1.0</td>\n",
       "      <td>1.0</td>\n",
       "      <td>1.0</td>\n",
       "      <td>1.0</td>\n",
       "      <td>1.0</td>\n",
       "    </tr>\n",
       "  </tbody>\n",
       "</table>\n",
       "</div>"
      ],
      "text/plain": [
       "           count  mean  std  min  25%  50%  75%  max\n",
       "is_churn  1000.0   1.0  0.0  1.0  1.0  1.0  1.0  1.0"
      ]
     },
     "metadata": {},
     "output_type": "display_data"
    },
    {
     "data": {
      "text/plain": [
       "msno        object\n",
       "is_churn     int64\n",
       "dtype: object"
      ]
     },
     "metadata": {},
     "output_type": "display_data"
    },
    {
     "name": "stdout",
     "output_type": "stream",
     "text": [
      "\n",
      "------------------------------------------------------\n",
      "Table name: \"train_v2\"\n"
     ]
    },
    {
     "data": {
      "text/html": [
       "<div>\n",
       "<style scoped>\n",
       "    .dataframe tbody tr th:only-of-type {\n",
       "        vertical-align: middle;\n",
       "    }\n",
       "\n",
       "    .dataframe tbody tr th {\n",
       "        vertical-align: top;\n",
       "    }\n",
       "\n",
       "    .dataframe thead th {\n",
       "        text-align: right;\n",
       "    }\n",
       "</style>\n",
       "<table border=\"1\" class=\"dataframe\">\n",
       "  <thead>\n",
       "    <tr style=\"text-align: right;\">\n",
       "      <th></th>\n",
       "      <th>count</th>\n",
       "      <th>mean</th>\n",
       "      <th>std</th>\n",
       "      <th>min</th>\n",
       "      <th>25%</th>\n",
       "      <th>50%</th>\n",
       "      <th>75%</th>\n",
       "      <th>max</th>\n",
       "    </tr>\n",
       "  </thead>\n",
       "  <tbody>\n",
       "    <tr>\n",
       "      <th>is_churn</th>\n",
       "      <td>1000.0</td>\n",
       "      <td>1.0</td>\n",
       "      <td>0.0</td>\n",
       "      <td>1.0</td>\n",
       "      <td>1.0</td>\n",
       "      <td>1.0</td>\n",
       "      <td>1.0</td>\n",
       "      <td>1.0</td>\n",
       "    </tr>\n",
       "  </tbody>\n",
       "</table>\n",
       "</div>"
      ],
      "text/plain": [
       "           count  mean  std  min  25%  50%  75%  max\n",
       "is_churn  1000.0   1.0  0.0  1.0  1.0  1.0  1.0  1.0"
      ]
     },
     "metadata": {},
     "output_type": "display_data"
    },
    {
     "data": {
      "text/plain": [
       "msno        object\n",
       "is_churn     int64\n",
       "dtype: object"
      ]
     },
     "metadata": {},
     "output_type": "display_data"
    },
    {
     "name": "stdout",
     "output_type": "stream",
     "text": [
      "\n",
      "------------------------------------------------------\n",
      "Table name: \"user_logs\"\n"
     ]
    },
    {
     "data": {
      "text/html": [
       "<div>\n",
       "<style scoped>\n",
       "    .dataframe tbody tr th:only-of-type {\n",
       "        vertical-align: middle;\n",
       "    }\n",
       "\n",
       "    .dataframe tbody tr th {\n",
       "        vertical-align: top;\n",
       "    }\n",
       "\n",
       "    .dataframe thead th {\n",
       "        text-align: right;\n",
       "    }\n",
       "</style>\n",
       "<table border=\"1\" class=\"dataframe\">\n",
       "  <thead>\n",
       "    <tr style=\"text-align: right;\">\n",
       "      <th></th>\n",
       "      <th>count</th>\n",
       "      <th>mean</th>\n",
       "      <th>std</th>\n",
       "      <th>min</th>\n",
       "      <th>25%</th>\n",
       "      <th>50%</th>\n",
       "      <th>75%</th>\n",
       "      <th>max</th>\n",
       "    </tr>\n",
       "  </thead>\n",
       "  <tbody>\n",
       "    <tr>\n",
       "      <th>date</th>\n",
       "      <td>1000.0</td>\n",
       "      <td>2.015659e+07</td>\n",
       "      <td>6166.804303</td>\n",
       "      <td>2.015010e+07</td>\n",
       "      <td>2.015070e+07</td>\n",
       "      <td>2.016012e+07</td>\n",
       "      <td>2.016081e+07</td>\n",
       "      <td>2.017023e+07</td>\n",
       "    </tr>\n",
       "    <tr>\n",
       "      <th>num_25</th>\n",
       "      <td>1000.0</td>\n",
       "      <td>6.085000e+00</td>\n",
       "      <td>11.711231</td>\n",
       "      <td>0.000000e+00</td>\n",
       "      <td>0.000000e+00</td>\n",
       "      <td>2.000000e+00</td>\n",
       "      <td>7.000000e+00</td>\n",
       "      <td>1.300000e+02</td>\n",
       "    </tr>\n",
       "    <tr>\n",
       "      <th>num_50</th>\n",
       "      <td>1000.0</td>\n",
       "      <td>1.257000e+00</td>\n",
       "      <td>2.487396</td>\n",
       "      <td>0.000000e+00</td>\n",
       "      <td>0.000000e+00</td>\n",
       "      <td>0.000000e+00</td>\n",
       "      <td>1.000000e+00</td>\n",
       "      <td>3.100000e+01</td>\n",
       "    </tr>\n",
       "    <tr>\n",
       "      <th>num_75</th>\n",
       "      <td>1000.0</td>\n",
       "      <td>8.840000e-01</td>\n",
       "      <td>1.691569</td>\n",
       "      <td>0.000000e+00</td>\n",
       "      <td>0.000000e+00</td>\n",
       "      <td>0.000000e+00</td>\n",
       "      <td>1.000000e+00</td>\n",
       "      <td>2.400000e+01</td>\n",
       "    </tr>\n",
       "    <tr>\n",
       "      <th>num_985</th>\n",
       "      <td>1000.0</td>\n",
       "      <td>9.200000e-01</td>\n",
       "      <td>2.323144</td>\n",
       "      <td>0.000000e+00</td>\n",
       "      <td>0.000000e+00</td>\n",
       "      <td>0.000000e+00</td>\n",
       "      <td>1.000000e+00</td>\n",
       "      <td>5.300000e+01</td>\n",
       "    </tr>\n",
       "    <tr>\n",
       "      <th>num_100</th>\n",
       "      <td>1000.0</td>\n",
       "      <td>2.857300e+01</td>\n",
       "      <td>36.085549</td>\n",
       "      <td>0.000000e+00</td>\n",
       "      <td>6.750000e+00</td>\n",
       "      <td>1.600000e+01</td>\n",
       "      <td>3.700000e+01</td>\n",
       "      <td>2.960000e+02</td>\n",
       "    </tr>\n",
       "    <tr>\n",
       "      <th>num_unq</th>\n",
       "      <td>1000.0</td>\n",
       "      <td>2.831400e+01</td>\n",
       "      <td>30.275998</td>\n",
       "      <td>1.000000e+00</td>\n",
       "      <td>7.000000e+00</td>\n",
       "      <td>1.800000e+01</td>\n",
       "      <td>3.800000e+01</td>\n",
       "      <td>2.040000e+02</td>\n",
       "    </tr>\n",
       "    <tr>\n",
       "      <th>total_secs</th>\n",
       "      <td>1000.0</td>\n",
       "      <td>7.356884e+03</td>\n",
       "      <td>8630.169684</td>\n",
       "      <td>1.775000e+00</td>\n",
       "      <td>1.917728e+03</td>\n",
       "      <td>4.430198e+03</td>\n",
       "      <td>9.653272e+03</td>\n",
       "      <td>5.687074e+04</td>\n",
       "    </tr>\n",
       "  </tbody>\n",
       "</table>\n",
       "</div>"
      ],
      "text/plain": [
       "             count          mean          std           min           25%  \\\n",
       "date        1000.0  2.015659e+07  6166.804303  2.015010e+07  2.015070e+07   \n",
       "num_25      1000.0  6.085000e+00    11.711231  0.000000e+00  0.000000e+00   \n",
       "num_50      1000.0  1.257000e+00     2.487396  0.000000e+00  0.000000e+00   \n",
       "num_75      1000.0  8.840000e-01     1.691569  0.000000e+00  0.000000e+00   \n",
       "num_985     1000.0  9.200000e-01     2.323144  0.000000e+00  0.000000e+00   \n",
       "num_100     1000.0  2.857300e+01    36.085549  0.000000e+00  6.750000e+00   \n",
       "num_unq     1000.0  2.831400e+01    30.275998  1.000000e+00  7.000000e+00   \n",
       "total_secs  1000.0  7.356884e+03  8630.169684  1.775000e+00  1.917728e+03   \n",
       "\n",
       "                     50%           75%           max  \n",
       "date        2.016012e+07  2.016081e+07  2.017023e+07  \n",
       "num_25      2.000000e+00  7.000000e+00  1.300000e+02  \n",
       "num_50      0.000000e+00  1.000000e+00  3.100000e+01  \n",
       "num_75      0.000000e+00  1.000000e+00  2.400000e+01  \n",
       "num_985     0.000000e+00  1.000000e+00  5.300000e+01  \n",
       "num_100     1.600000e+01  3.700000e+01  2.960000e+02  \n",
       "num_unq     1.800000e+01  3.800000e+01  2.040000e+02  \n",
       "total_secs  4.430198e+03  9.653272e+03  5.687074e+04  "
      ]
     },
     "metadata": {},
     "output_type": "display_data"
    },
    {
     "data": {
      "text/plain": [
       "msno           object\n",
       "date            int64\n",
       "num_25          int64\n",
       "num_50          int64\n",
       "num_75          int64\n",
       "num_985         int64\n",
       "num_100         int64\n",
       "num_unq         int64\n",
       "total_secs    float64\n",
       "dtype: object"
      ]
     },
     "metadata": {},
     "output_type": "display_data"
    },
    {
     "name": "stdout",
     "output_type": "stream",
     "text": [
      "\n",
      "------------------------------------------------------\n",
      "Table name: \"user_logs_v2\"\n"
     ]
    },
    {
     "data": {
      "text/html": [
       "<div>\n",
       "<style scoped>\n",
       "    .dataframe tbody tr th:only-of-type {\n",
       "        vertical-align: middle;\n",
       "    }\n",
       "\n",
       "    .dataframe tbody tr th {\n",
       "        vertical-align: top;\n",
       "    }\n",
       "\n",
       "    .dataframe thead th {\n",
       "        text-align: right;\n",
       "    }\n",
       "</style>\n",
       "<table border=\"1\" class=\"dataframe\">\n",
       "  <thead>\n",
       "    <tr style=\"text-align: right;\">\n",
       "      <th></th>\n",
       "      <th>count</th>\n",
       "      <th>mean</th>\n",
       "      <th>std</th>\n",
       "      <th>min</th>\n",
       "      <th>25%</th>\n",
       "      <th>50%</th>\n",
       "      <th>75%</th>\n",
       "      <th>max</th>\n",
       "    </tr>\n",
       "  </thead>\n",
       "  <tbody>\n",
       "    <tr>\n",
       "      <th>date</th>\n",
       "      <td>1000.0</td>\n",
       "      <td>2.017032e+07</td>\n",
       "      <td>8.872581</td>\n",
       "      <td>2.017030e+07</td>\n",
       "      <td>2.017031e+07</td>\n",
       "      <td>2.017032e+07</td>\n",
       "      <td>2.017032e+07</td>\n",
       "      <td>2.017033e+07</td>\n",
       "    </tr>\n",
       "    <tr>\n",
       "      <th>num_25</th>\n",
       "      <td>1000.0</td>\n",
       "      <td>1.183600e+01</td>\n",
       "      <td>21.735214</td>\n",
       "      <td>0.000000e+00</td>\n",
       "      <td>1.000000e+00</td>\n",
       "      <td>5.000000e+00</td>\n",
       "      <td>1.300000e+01</td>\n",
       "      <td>2.210000e+02</td>\n",
       "    </tr>\n",
       "    <tr>\n",
       "      <th>num_50</th>\n",
       "      <td>1000.0</td>\n",
       "      <td>2.803000e+00</td>\n",
       "      <td>6.167189</td>\n",
       "      <td>0.000000e+00</td>\n",
       "      <td>0.000000e+00</td>\n",
       "      <td>1.000000e+00</td>\n",
       "      <td>3.000000e+00</td>\n",
       "      <td>7.900000e+01</td>\n",
       "    </tr>\n",
       "    <tr>\n",
       "      <th>num_75</th>\n",
       "      <td>1000.0</td>\n",
       "      <td>1.552000e+00</td>\n",
       "      <td>2.433766</td>\n",
       "      <td>0.000000e+00</td>\n",
       "      <td>0.000000e+00</td>\n",
       "      <td>1.000000e+00</td>\n",
       "      <td>2.000000e+00</td>\n",
       "      <td>2.800000e+01</td>\n",
       "    </tr>\n",
       "    <tr>\n",
       "      <th>num_985</th>\n",
       "      <td>1000.0</td>\n",
       "      <td>1.851000e+00</td>\n",
       "      <td>5.570263</td>\n",
       "      <td>0.000000e+00</td>\n",
       "      <td>0.000000e+00</td>\n",
       "      <td>1.000000e+00</td>\n",
       "      <td>2.000000e+00</td>\n",
       "      <td>1.560000e+02</td>\n",
       "    </tr>\n",
       "    <tr>\n",
       "      <th>num_100</th>\n",
       "      <td>1000.0</td>\n",
       "      <td>6.153200e+01</td>\n",
       "      <td>57.089019</td>\n",
       "      <td>0.000000e+00</td>\n",
       "      <td>2.000000e+01</td>\n",
       "      <td>4.200000e+01</td>\n",
       "      <td>8.525000e+01</td>\n",
       "      <td>5.490000e+02</td>\n",
       "    </tr>\n",
       "    <tr>\n",
       "      <th>num_unq</th>\n",
       "      <td>1000.0</td>\n",
       "      <td>5.963800e+01</td>\n",
       "      <td>45.629344</td>\n",
       "      <td>1.000000e+00</td>\n",
       "      <td>2.600000e+01</td>\n",
       "      <td>4.600000e+01</td>\n",
       "      <td>8.000000e+01</td>\n",
       "      <td>2.910000e+02</td>\n",
       "    </tr>\n",
       "    <tr>\n",
       "      <th>total_secs</th>\n",
       "      <td>1000.0</td>\n",
       "      <td>1.582434e+04</td>\n",
       "      <td>13563.351906</td>\n",
       "      <td>2.475240e+02</td>\n",
       "      <td>5.680570e+03</td>\n",
       "      <td>1.149130e+04</td>\n",
       "      <td>2.243140e+04</td>\n",
       "      <td>1.285867e+05</td>\n",
       "    </tr>\n",
       "  </tbody>\n",
       "</table>\n",
       "</div>"
      ],
      "text/plain": [
       "             count          mean           std           min           25%  \\\n",
       "date        1000.0  2.017032e+07      8.872581  2.017030e+07  2.017031e+07   \n",
       "num_25      1000.0  1.183600e+01     21.735214  0.000000e+00  1.000000e+00   \n",
       "num_50      1000.0  2.803000e+00      6.167189  0.000000e+00  0.000000e+00   \n",
       "num_75      1000.0  1.552000e+00      2.433766  0.000000e+00  0.000000e+00   \n",
       "num_985     1000.0  1.851000e+00      5.570263  0.000000e+00  0.000000e+00   \n",
       "num_100     1000.0  6.153200e+01     57.089019  0.000000e+00  2.000000e+01   \n",
       "num_unq     1000.0  5.963800e+01     45.629344  1.000000e+00  2.600000e+01   \n",
       "total_secs  1000.0  1.582434e+04  13563.351906  2.475240e+02  5.680570e+03   \n",
       "\n",
       "                     50%           75%           max  \n",
       "date        2.017032e+07  2.017032e+07  2.017033e+07  \n",
       "num_25      5.000000e+00  1.300000e+01  2.210000e+02  \n",
       "num_50      1.000000e+00  3.000000e+00  7.900000e+01  \n",
       "num_75      1.000000e+00  2.000000e+00  2.800000e+01  \n",
       "num_985     1.000000e+00  2.000000e+00  1.560000e+02  \n",
       "num_100     4.200000e+01  8.525000e+01  5.490000e+02  \n",
       "num_unq     4.600000e+01  8.000000e+01  2.910000e+02  \n",
       "total_secs  1.149130e+04  2.243140e+04  1.285867e+05  "
      ]
     },
     "metadata": {},
     "output_type": "display_data"
    },
    {
     "data": {
      "text/plain": [
       "msno           object\n",
       "date            int64\n",
       "num_25          int64\n",
       "num_50          int64\n",
       "num_75          int64\n",
       "num_985         int64\n",
       "num_100         int64\n",
       "num_unq         int64\n",
       "total_secs    float64\n",
       "dtype: object"
      ]
     },
     "metadata": {},
     "output_type": "display_data"
    },
    {
     "name": "stdout",
     "output_type": "stream",
     "text": [
      "\n",
      "------------------------------------------------------\n",
      "Table name: \"sample_submission_zero\"\n"
     ]
    },
    {
     "data": {
      "text/html": [
       "<div>\n",
       "<style scoped>\n",
       "    .dataframe tbody tr th:only-of-type {\n",
       "        vertical-align: middle;\n",
       "    }\n",
       "\n",
       "    .dataframe tbody tr th {\n",
       "        vertical-align: top;\n",
       "    }\n",
       "\n",
       "    .dataframe thead th {\n",
       "        text-align: right;\n",
       "    }\n",
       "</style>\n",
       "<table border=\"1\" class=\"dataframe\">\n",
       "  <thead>\n",
       "    <tr style=\"text-align: right;\">\n",
       "      <th></th>\n",
       "      <th>count</th>\n",
       "      <th>mean</th>\n",
       "      <th>std</th>\n",
       "      <th>min</th>\n",
       "      <th>25%</th>\n",
       "      <th>50%</th>\n",
       "      <th>75%</th>\n",
       "      <th>max</th>\n",
       "    </tr>\n",
       "  </thead>\n",
       "  <tbody>\n",
       "    <tr>\n",
       "      <th>is_churn</th>\n",
       "      <td>1000.0</td>\n",
       "      <td>0.0</td>\n",
       "      <td>0.0</td>\n",
       "      <td>0.0</td>\n",
       "      <td>0.0</td>\n",
       "      <td>0.0</td>\n",
       "      <td>0.0</td>\n",
       "      <td>0.0</td>\n",
       "    </tr>\n",
       "  </tbody>\n",
       "</table>\n",
       "</div>"
      ],
      "text/plain": [
       "           count  mean  std  min  25%  50%  75%  max\n",
       "is_churn  1000.0   0.0  0.0  0.0  0.0  0.0  0.0  0.0"
      ]
     },
     "metadata": {},
     "output_type": "display_data"
    },
    {
     "data": {
      "text/plain": [
       "msno        object\n",
       "is_churn     int64\n",
       "dtype: object"
      ]
     },
     "metadata": {},
     "output_type": "display_data"
    },
    {
     "name": "stdout",
     "output_type": "stream",
     "text": [
      "\n",
      "------------------------------------------------------\n",
      "Table name: \"sample_submission_v2\"\n"
     ]
    },
    {
     "data": {
      "text/html": [
       "<div>\n",
       "<style scoped>\n",
       "    .dataframe tbody tr th:only-of-type {\n",
       "        vertical-align: middle;\n",
       "    }\n",
       "\n",
       "    .dataframe tbody tr th {\n",
       "        vertical-align: top;\n",
       "    }\n",
       "\n",
       "    .dataframe thead th {\n",
       "        text-align: right;\n",
       "    }\n",
       "</style>\n",
       "<table border=\"1\" class=\"dataframe\">\n",
       "  <thead>\n",
       "    <tr style=\"text-align: right;\">\n",
       "      <th></th>\n",
       "      <th>count</th>\n",
       "      <th>mean</th>\n",
       "      <th>std</th>\n",
       "      <th>min</th>\n",
       "      <th>25%</th>\n",
       "      <th>50%</th>\n",
       "      <th>75%</th>\n",
       "      <th>max</th>\n",
       "    </tr>\n",
       "  </thead>\n",
       "  <tbody>\n",
       "    <tr>\n",
       "      <th>is_churn</th>\n",
       "      <td>1000.0</td>\n",
       "      <td>0.0</td>\n",
       "      <td>0.0</td>\n",
       "      <td>0.0</td>\n",
       "      <td>0.0</td>\n",
       "      <td>0.0</td>\n",
       "      <td>0.0</td>\n",
       "      <td>0.0</td>\n",
       "    </tr>\n",
       "  </tbody>\n",
       "</table>\n",
       "</div>"
      ],
      "text/plain": [
       "           count  mean  std  min  25%  50%  75%  max\n",
       "is_churn  1000.0   0.0  0.0  0.0  0.0  0.0  0.0  0.0"
      ]
     },
     "metadata": {},
     "output_type": "display_data"
    },
    {
     "data": {
      "text/plain": [
       "msno        object\n",
       "is_churn     int64\n",
       "dtype: object"
      ]
     },
     "metadata": {},
     "output_type": "display_data"
    },
    {
     "name": "stdout",
     "output_type": "stream",
     "text": [
      "\n",
      "------------------------------------------------------\n",
      "Table name: \"transactions\"\n"
     ]
    },
    {
     "data": {
      "text/html": [
       "<div>\n",
       "<style scoped>\n",
       "    .dataframe tbody tr th:only-of-type {\n",
       "        vertical-align: middle;\n",
       "    }\n",
       "\n",
       "    .dataframe tbody tr th {\n",
       "        vertical-align: top;\n",
       "    }\n",
       "\n",
       "    .dataframe thead th {\n",
       "        text-align: right;\n",
       "    }\n",
       "</style>\n",
       "<table border=\"1\" class=\"dataframe\">\n",
       "  <thead>\n",
       "    <tr style=\"text-align: right;\">\n",
       "      <th></th>\n",
       "      <th>count</th>\n",
       "      <th>mean</th>\n",
       "      <th>std</th>\n",
       "      <th>min</th>\n",
       "      <th>25%</th>\n",
       "      <th>50%</th>\n",
       "      <th>75%</th>\n",
       "      <th>max</th>\n",
       "    </tr>\n",
       "  </thead>\n",
       "  <tbody>\n",
       "    <tr>\n",
       "      <th>payment_method_id</th>\n",
       "      <td>1000.0</td>\n",
       "      <td>3.839200e+01</td>\n",
       "      <td>3.949675</td>\n",
       "      <td>14.0</td>\n",
       "      <td>37.0</td>\n",
       "      <td>40.0</td>\n",
       "      <td>41.0</td>\n",
       "      <td>41.0</td>\n",
       "    </tr>\n",
       "    <tr>\n",
       "      <th>payment_plan_days</th>\n",
       "      <td>1000.0</td>\n",
       "      <td>3.209900e+01</td>\n",
       "      <td>34.274450</td>\n",
       "      <td>0.0</td>\n",
       "      <td>30.0</td>\n",
       "      <td>30.0</td>\n",
       "      <td>30.0</td>\n",
       "      <td>410.0</td>\n",
       "    </tr>\n",
       "    <tr>\n",
       "      <th>plan_list_price</th>\n",
       "      <td>1000.0</td>\n",
       "      <td>1.447780e+02</td>\n",
       "      <td>149.977331</td>\n",
       "      <td>0.0</td>\n",
       "      <td>99.0</td>\n",
       "      <td>149.0</td>\n",
       "      <td>149.0</td>\n",
       "      <td>1788.0</td>\n",
       "    </tr>\n",
       "    <tr>\n",
       "      <th>actual_amount_paid</th>\n",
       "      <td>1000.0</td>\n",
       "      <td>1.477570e+02</td>\n",
       "      <td>148.483377</td>\n",
       "      <td>0.0</td>\n",
       "      <td>119.0</td>\n",
       "      <td>149.0</td>\n",
       "      <td>149.0</td>\n",
       "      <td>1788.0</td>\n",
       "    </tr>\n",
       "    <tr>\n",
       "      <th>is_auto_renew</th>\n",
       "      <td>1000.0</td>\n",
       "      <td>8.910000e-01</td>\n",
       "      <td>0.311795</td>\n",
       "      <td>0.0</td>\n",
       "      <td>1.0</td>\n",
       "      <td>1.0</td>\n",
       "      <td>1.0</td>\n",
       "      <td>1.0</td>\n",
       "    </tr>\n",
       "    <tr>\n",
       "      <th>transaction_date</th>\n",
       "      <td>1000.0</td>\n",
       "      <td>2.015716e+07</td>\n",
       "      <td>5695.284935</td>\n",
       "      <td>20150101.0</td>\n",
       "      <td>20151102.0</td>\n",
       "      <td>20160229.0</td>\n",
       "      <td>20160707.0</td>\n",
       "      <td>20170221.0</td>\n",
       "    </tr>\n",
       "    <tr>\n",
       "      <th>membership_expire_date</th>\n",
       "      <td>1000.0</td>\n",
       "      <td>2.015833e+07</td>\n",
       "      <td>5548.805650</td>\n",
       "      <td>20150101.0</td>\n",
       "      <td>20151208.0</td>\n",
       "      <td>20160401.0</td>\n",
       "      <td>20160819.0</td>\n",
       "      <td>20170322.0</td>\n",
       "    </tr>\n",
       "    <tr>\n",
       "      <th>is_cancel</th>\n",
       "      <td>1000.0</td>\n",
       "      <td>3.200000e-02</td>\n",
       "      <td>0.176088</td>\n",
       "      <td>0.0</td>\n",
       "      <td>0.0</td>\n",
       "      <td>0.0</td>\n",
       "      <td>0.0</td>\n",
       "      <td>1.0</td>\n",
       "    </tr>\n",
       "  </tbody>\n",
       "</table>\n",
       "</div>"
      ],
      "text/plain": [
       "                         count          mean          std         min  \\\n",
       "payment_method_id       1000.0  3.839200e+01     3.949675        14.0   \n",
       "payment_plan_days       1000.0  3.209900e+01    34.274450         0.0   \n",
       "plan_list_price         1000.0  1.447780e+02   149.977331         0.0   \n",
       "actual_amount_paid      1000.0  1.477570e+02   148.483377         0.0   \n",
       "is_auto_renew           1000.0  8.910000e-01     0.311795         0.0   \n",
       "transaction_date        1000.0  2.015716e+07  5695.284935  20150101.0   \n",
       "membership_expire_date  1000.0  2.015833e+07  5548.805650  20150101.0   \n",
       "is_cancel               1000.0  3.200000e-02     0.176088         0.0   \n",
       "\n",
       "                               25%         50%         75%         max  \n",
       "payment_method_id             37.0        40.0        41.0        41.0  \n",
       "payment_plan_days             30.0        30.0        30.0       410.0  \n",
       "plan_list_price               99.0       149.0       149.0      1788.0  \n",
       "actual_amount_paid           119.0       149.0       149.0      1788.0  \n",
       "is_auto_renew                  1.0         1.0         1.0         1.0  \n",
       "transaction_date        20151102.0  20160229.0  20160707.0  20170221.0  \n",
       "membership_expire_date  20151208.0  20160401.0  20160819.0  20170322.0  \n",
       "is_cancel                      0.0         0.0         0.0         1.0  "
      ]
     },
     "metadata": {},
     "output_type": "display_data"
    },
    {
     "data": {
      "text/plain": [
       "msno                      object\n",
       "payment_method_id          int64\n",
       "payment_plan_days          int64\n",
       "plan_list_price            int64\n",
       "actual_amount_paid         int64\n",
       "is_auto_renew              int64\n",
       "transaction_date           int64\n",
       "membership_expire_date     int64\n",
       "is_cancel                  int64\n",
       "dtype: object"
      ]
     },
     "metadata": {},
     "output_type": "display_data"
    },
    {
     "name": "stdout",
     "output_type": "stream",
     "text": [
      "\n",
      "------------------------------------------------------\n",
      "Table name: \"transactions_v2\"\n"
     ]
    },
    {
     "data": {
      "text/html": [
       "<div>\n",
       "<style scoped>\n",
       "    .dataframe tbody tr th:only-of-type {\n",
       "        vertical-align: middle;\n",
       "    }\n",
       "\n",
       "    .dataframe tbody tr th {\n",
       "        vertical-align: top;\n",
       "    }\n",
       "\n",
       "    .dataframe thead th {\n",
       "        text-align: right;\n",
       "    }\n",
       "</style>\n",
       "<table border=\"1\" class=\"dataframe\">\n",
       "  <thead>\n",
       "    <tr style=\"text-align: right;\">\n",
       "      <th></th>\n",
       "      <th>count</th>\n",
       "      <th>mean</th>\n",
       "      <th>std</th>\n",
       "      <th>min</th>\n",
       "      <th>25%</th>\n",
       "      <th>50%</th>\n",
       "      <th>75%</th>\n",
       "      <th>max</th>\n",
       "    </tr>\n",
       "  </thead>\n",
       "  <tbody>\n",
       "    <tr>\n",
       "      <th>payment_method_id</th>\n",
       "      <td>1000.0</td>\n",
       "      <td>3.773000e+01</td>\n",
       "      <td>5.307096</td>\n",
       "      <td>12.0</td>\n",
       "      <td>36.0</td>\n",
       "      <td>40.0</td>\n",
       "      <td>41.0</td>\n",
       "      <td>41.0</td>\n",
       "    </tr>\n",
       "    <tr>\n",
       "      <th>payment_plan_days</th>\n",
       "      <td>1000.0</td>\n",
       "      <td>6.667100e+01</td>\n",
       "      <td>102.036298</td>\n",
       "      <td>0.0</td>\n",
       "      <td>30.0</td>\n",
       "      <td>30.0</td>\n",
       "      <td>30.0</td>\n",
       "      <td>450.0</td>\n",
       "    </tr>\n",
       "    <tr>\n",
       "      <th>plan_list_price</th>\n",
       "      <td>1000.0</td>\n",
       "      <td>2.863350e+02</td>\n",
       "      <td>432.951713</td>\n",
       "      <td>0.0</td>\n",
       "      <td>99.0</td>\n",
       "      <td>149.0</td>\n",
       "      <td>149.0</td>\n",
       "      <td>1788.0</td>\n",
       "    </tr>\n",
       "    <tr>\n",
       "      <th>actual_amount_paid</th>\n",
       "      <td>1000.0</td>\n",
       "      <td>2.853060e+02</td>\n",
       "      <td>433.408721</td>\n",
       "      <td>0.0</td>\n",
       "      <td>99.0</td>\n",
       "      <td>149.0</td>\n",
       "      <td>149.0</td>\n",
       "      <td>1788.0</td>\n",
       "    </tr>\n",
       "    <tr>\n",
       "      <th>is_auto_renew</th>\n",
       "      <td>1000.0</td>\n",
       "      <td>7.900000e-01</td>\n",
       "      <td>0.407512</td>\n",
       "      <td>0.0</td>\n",
       "      <td>1.0</td>\n",
       "      <td>1.0</td>\n",
       "      <td>1.0</td>\n",
       "      <td>1.0</td>\n",
       "    </tr>\n",
       "    <tr>\n",
       "      <th>transaction_date</th>\n",
       "      <td>1000.0</td>\n",
       "      <td>2.016873e+07</td>\n",
       "      <td>4401.076478</td>\n",
       "      <td>20150127.0</td>\n",
       "      <td>20170228.0</td>\n",
       "      <td>20170312.0</td>\n",
       "      <td>20170324.0</td>\n",
       "      <td>20170331.0</td>\n",
       "    </tr>\n",
       "    <tr>\n",
       "      <th>membership_expire_date</th>\n",
       "      <td>1000.0</td>\n",
       "      <td>2.017100e+07</td>\n",
       "      <td>2535.277073</td>\n",
       "      <td>20170301.0</td>\n",
       "      <td>20170410.0</td>\n",
       "      <td>20170421.0</td>\n",
       "      <td>20170501.0</td>\n",
       "      <td>20200625.0</td>\n",
       "    </tr>\n",
       "    <tr>\n",
       "      <th>is_cancel</th>\n",
       "      <td>1000.0</td>\n",
       "      <td>2.000000e-02</td>\n",
       "      <td>0.140070</td>\n",
       "      <td>0.0</td>\n",
       "      <td>0.0</td>\n",
       "      <td>0.0</td>\n",
       "      <td>0.0</td>\n",
       "      <td>1.0</td>\n",
       "    </tr>\n",
       "  </tbody>\n",
       "</table>\n",
       "</div>"
      ],
      "text/plain": [
       "                         count          mean          std         min  \\\n",
       "payment_method_id       1000.0  3.773000e+01     5.307096        12.0   \n",
       "payment_plan_days       1000.0  6.667100e+01   102.036298         0.0   \n",
       "plan_list_price         1000.0  2.863350e+02   432.951713         0.0   \n",
       "actual_amount_paid      1000.0  2.853060e+02   433.408721         0.0   \n",
       "is_auto_renew           1000.0  7.900000e-01     0.407512         0.0   \n",
       "transaction_date        1000.0  2.016873e+07  4401.076478  20150127.0   \n",
       "membership_expire_date  1000.0  2.017100e+07  2535.277073  20170301.0   \n",
       "is_cancel               1000.0  2.000000e-02     0.140070         0.0   \n",
       "\n",
       "                               25%         50%         75%         max  \n",
       "payment_method_id             36.0        40.0        41.0        41.0  \n",
       "payment_plan_days             30.0        30.0        30.0       450.0  \n",
       "plan_list_price               99.0       149.0       149.0      1788.0  \n",
       "actual_amount_paid            99.0       149.0       149.0      1788.0  \n",
       "is_auto_renew                  1.0         1.0         1.0         1.0  \n",
       "transaction_date        20170228.0  20170312.0  20170324.0  20170331.0  \n",
       "membership_expire_date  20170410.0  20170421.0  20170501.0  20200625.0  \n",
       "is_cancel                      0.0         0.0         0.0         1.0  "
      ]
     },
     "metadata": {},
     "output_type": "display_data"
    },
    {
     "data": {
      "text/plain": [
       "msno                      object\n",
       "payment_method_id          int64\n",
       "payment_plan_days          int64\n",
       "plan_list_price            int64\n",
       "actual_amount_paid         int64\n",
       "is_auto_renew              int64\n",
       "transaction_date           int64\n",
       "membership_expire_date     int64\n",
       "is_cancel                  int64\n",
       "dtype: object"
      ]
     },
     "metadata": {},
     "output_type": "display_data"
    },
    {
     "name": "stdout",
     "output_type": "stream",
     "text": [
      "\n",
      "------------------------------------------------------\n",
      "Table name: \"transactions_v3\"\n"
     ]
    },
    {
     "data": {
      "text/html": [
       "<div>\n",
       "<style scoped>\n",
       "    .dataframe tbody tr th:only-of-type {\n",
       "        vertical-align: middle;\n",
       "    }\n",
       "\n",
       "    .dataframe tbody tr th {\n",
       "        vertical-align: top;\n",
       "    }\n",
       "\n",
       "    .dataframe thead th {\n",
       "        text-align: right;\n",
       "    }\n",
       "</style>\n",
       "<table border=\"1\" class=\"dataframe\">\n",
       "  <thead>\n",
       "    <tr style=\"text-align: right;\">\n",
       "      <th></th>\n",
       "      <th>count</th>\n",
       "      <th>mean</th>\n",
       "      <th>std</th>\n",
       "      <th>min</th>\n",
       "      <th>25%</th>\n",
       "      <th>50%</th>\n",
       "      <th>75%</th>\n",
       "      <th>max</th>\n",
       "    </tr>\n",
       "  </thead>\n",
       "  <tbody>\n",
       "    <tr>\n",
       "      <th>payment_method_id</th>\n",
       "      <td>1000.0</td>\n",
       "      <td>3.839200e+01</td>\n",
       "      <td>3.949675</td>\n",
       "      <td>14.0</td>\n",
       "      <td>37.0</td>\n",
       "      <td>40.0</td>\n",
       "      <td>41.0</td>\n",
       "      <td>41.0</td>\n",
       "    </tr>\n",
       "    <tr>\n",
       "      <th>payment_plan_days</th>\n",
       "      <td>1000.0</td>\n",
       "      <td>3.209900e+01</td>\n",
       "      <td>34.274450</td>\n",
       "      <td>0.0</td>\n",
       "      <td>30.0</td>\n",
       "      <td>30.0</td>\n",
       "      <td>30.0</td>\n",
       "      <td>410.0</td>\n",
       "    </tr>\n",
       "    <tr>\n",
       "      <th>plan_list_price</th>\n",
       "      <td>1000.0</td>\n",
       "      <td>1.447780e+02</td>\n",
       "      <td>149.977331</td>\n",
       "      <td>0.0</td>\n",
       "      <td>99.0</td>\n",
       "      <td>149.0</td>\n",
       "      <td>149.0</td>\n",
       "      <td>1788.0</td>\n",
       "    </tr>\n",
       "    <tr>\n",
       "      <th>actual_amount_paid</th>\n",
       "      <td>1000.0</td>\n",
       "      <td>1.477570e+02</td>\n",
       "      <td>148.483377</td>\n",
       "      <td>0.0</td>\n",
       "      <td>119.0</td>\n",
       "      <td>149.0</td>\n",
       "      <td>149.0</td>\n",
       "      <td>1788.0</td>\n",
       "    </tr>\n",
       "    <tr>\n",
       "      <th>is_auto_renew</th>\n",
       "      <td>1000.0</td>\n",
       "      <td>8.910000e-01</td>\n",
       "      <td>0.311795</td>\n",
       "      <td>0.0</td>\n",
       "      <td>1.0</td>\n",
       "      <td>1.0</td>\n",
       "      <td>1.0</td>\n",
       "      <td>1.0</td>\n",
       "    </tr>\n",
       "    <tr>\n",
       "      <th>transaction_date</th>\n",
       "      <td>1000.0</td>\n",
       "      <td>2.015716e+07</td>\n",
       "      <td>5695.284935</td>\n",
       "      <td>20150101.0</td>\n",
       "      <td>20151102.0</td>\n",
       "      <td>20160229.0</td>\n",
       "      <td>20160707.0</td>\n",
       "      <td>20170221.0</td>\n",
       "    </tr>\n",
       "    <tr>\n",
       "      <th>membership_expire_date</th>\n",
       "      <td>1000.0</td>\n",
       "      <td>2.015833e+07</td>\n",
       "      <td>5548.805650</td>\n",
       "      <td>20150101.0</td>\n",
       "      <td>20151208.0</td>\n",
       "      <td>20160401.0</td>\n",
       "      <td>20160819.0</td>\n",
       "      <td>20170322.0</td>\n",
       "    </tr>\n",
       "    <tr>\n",
       "      <th>is_cancel</th>\n",
       "      <td>1000.0</td>\n",
       "      <td>3.200000e-02</td>\n",
       "      <td>0.176088</td>\n",
       "      <td>0.0</td>\n",
       "      <td>0.0</td>\n",
       "      <td>0.0</td>\n",
       "      <td>0.0</td>\n",
       "      <td>1.0</td>\n",
       "    </tr>\n",
       "  </tbody>\n",
       "</table>\n",
       "</div>"
      ],
      "text/plain": [
       "                         count          mean          std         min  \\\n",
       "payment_method_id       1000.0  3.839200e+01     3.949675        14.0   \n",
       "payment_plan_days       1000.0  3.209900e+01    34.274450         0.0   \n",
       "plan_list_price         1000.0  1.447780e+02   149.977331         0.0   \n",
       "actual_amount_paid      1000.0  1.477570e+02   148.483377         0.0   \n",
       "is_auto_renew           1000.0  8.910000e-01     0.311795         0.0   \n",
       "transaction_date        1000.0  2.015716e+07  5695.284935  20150101.0   \n",
       "membership_expire_date  1000.0  2.015833e+07  5548.805650  20150101.0   \n",
       "is_cancel               1000.0  3.200000e-02     0.176088         0.0   \n",
       "\n",
       "                               25%         50%         75%         max  \n",
       "payment_method_id             37.0        40.0        41.0        41.0  \n",
       "payment_plan_days             30.0        30.0        30.0       410.0  \n",
       "plan_list_price               99.0       149.0       149.0      1788.0  \n",
       "actual_amount_paid           119.0       149.0       149.0      1788.0  \n",
       "is_auto_renew                  1.0         1.0         1.0         1.0  \n",
       "transaction_date        20151102.0  20160229.0  20160707.0  20170221.0  \n",
       "membership_expire_date  20151208.0  20160401.0  20160819.0  20170322.0  \n",
       "is_cancel                      0.0         0.0         0.0         1.0  "
      ]
     },
     "metadata": {},
     "output_type": "display_data"
    },
    {
     "data": {
      "text/plain": [
       "msno                      object\n",
       "payment_method_id          int64\n",
       "payment_plan_days          int64\n",
       "plan_list_price            int64\n",
       "actual_amount_paid         int64\n",
       "is_auto_renew              int64\n",
       "transaction_date           int64\n",
       "membership_expire_date     int64\n",
       "is_cancel                  int64\n",
       "dtype: object"
      ]
     },
     "metadata": {},
     "output_type": "display_data"
    },
    {
     "name": "stdout",
     "output_type": "stream",
     "text": [
      "\n",
      "------------------------------------------------------\n",
      "Table name: \"members_v3\"\n"
     ]
    },
    {
     "data": {
      "text/html": [
       "<div>\n",
       "<style scoped>\n",
       "    .dataframe tbody tr th:only-of-type {\n",
       "        vertical-align: middle;\n",
       "    }\n",
       "\n",
       "    .dataframe tbody tr th {\n",
       "        vertical-align: top;\n",
       "    }\n",
       "\n",
       "    .dataframe thead th {\n",
       "        text-align: right;\n",
       "    }\n",
       "</style>\n",
       "<table border=\"1\" class=\"dataframe\">\n",
       "  <thead>\n",
       "    <tr style=\"text-align: right;\">\n",
       "      <th></th>\n",
       "      <th>count</th>\n",
       "      <th>mean</th>\n",
       "      <th>std</th>\n",
       "      <th>min</th>\n",
       "      <th>25%</th>\n",
       "      <th>50%</th>\n",
       "      <th>75%</th>\n",
       "      <th>max</th>\n",
       "    </tr>\n",
       "  </thead>\n",
       "  <tbody>\n",
       "    <tr>\n",
       "      <th>city</th>\n",
       "      <td>1000.0</td>\n",
       "      <td>3.742000e+00</td>\n",
       "      <td>5.427974</td>\n",
       "      <td>1.0</td>\n",
       "      <td>1.00</td>\n",
       "      <td>1.0</td>\n",
       "      <td>4.0</td>\n",
       "      <td>22.0</td>\n",
       "    </tr>\n",
       "    <tr>\n",
       "      <th>bd</th>\n",
       "      <td>1000.0</td>\n",
       "      <td>1.033800e+01</td>\n",
       "      <td>15.390667</td>\n",
       "      <td>0.0</td>\n",
       "      <td>0.00</td>\n",
       "      <td>0.0</td>\n",
       "      <td>22.0</td>\n",
       "      <td>63.0</td>\n",
       "    </tr>\n",
       "    <tr>\n",
       "      <th>registered_via</th>\n",
       "      <td>1000.0</td>\n",
       "      <td>4.974000e+00</td>\n",
       "      <td>2.320498</td>\n",
       "      <td>3.0</td>\n",
       "      <td>3.00</td>\n",
       "      <td>4.0</td>\n",
       "      <td>7.0</td>\n",
       "      <td>17.0</td>\n",
       "    </tr>\n",
       "    <tr>\n",
       "      <th>registration_init_time</th>\n",
       "      <td>1000.0</td>\n",
       "      <td>2.015281e+07</td>\n",
       "      <td>17167.154450</td>\n",
       "      <td>20110911.0</td>\n",
       "      <td>20141030.75</td>\n",
       "      <td>20161224.0</td>\n",
       "      <td>20170104.0</td>\n",
       "      <td>20170119.0</td>\n",
       "    </tr>\n",
       "  </tbody>\n",
       "</table>\n",
       "</div>"
      ],
      "text/plain": [
       "                         count          mean           std         min  \\\n",
       "city                    1000.0  3.742000e+00      5.427974         1.0   \n",
       "bd                      1000.0  1.033800e+01     15.390667         0.0   \n",
       "registered_via          1000.0  4.974000e+00      2.320498         3.0   \n",
       "registration_init_time  1000.0  2.015281e+07  17167.154450  20110911.0   \n",
       "\n",
       "                                25%         50%         75%         max  \n",
       "city                           1.00         1.0         4.0        22.0  \n",
       "bd                             0.00         0.0        22.0        63.0  \n",
       "registered_via                 3.00         4.0         7.0        17.0  \n",
       "registration_init_time  20141030.75  20161224.0  20170104.0  20170119.0  "
      ]
     },
     "metadata": {},
     "output_type": "display_data"
    },
    {
     "data": {
      "text/plain": [
       "msno                      object\n",
       "city                       int64\n",
       "bd                         int64\n",
       "gender                    object\n",
       "registered_via             int64\n",
       "registration_init_time     int64\n",
       "dtype: object"
      ]
     },
     "metadata": {},
     "output_type": "display_data"
    }
   ],
   "source": [
    "for table_name, table in tables.items():\n",
    "    print(\"\\n------------------------------------------------------\")\n",
    "    print(f\"Table name: \\\"{table_name}\\\"\")\n",
    "    display(table.describe().transpose())\n",
    "    display(table.dtypes.transpose())"
   ]
  },
  {
   "cell_type": "markdown",
   "metadata": {},
   "source": [
    "### Basic Trasactional Features"
   ]
  },
  {
   "cell_type": "markdown",
   "metadata": {},
   "source": [
    "The challenge winner, Bryian Gregory, gives a few tips in his article, <br>\n",
    "**\"Predicting Customer Churn: Extreme Gradient Boosting with Temporal Data\"**\n",
    "<br>\n",
    "https://medium.com/@bryan.gregory1/predicting-customer-churn-extreme-gradient-boosting-with-temporal-data-332c0d9f32bf\n",
    "\n",
    "He gives a hint that the features should be relative to a cutoff day. He calls it \"Relative Refactoring Method\".\n",
    "<br> So we should transform the day of first transaction into the number of days from the first transaction.\n",
    "<br> Only if days are \"special\" like holidays we could live them as exact days. We should not mix those approaches.\n",
    "<br> Here, only relative features will be calaculated."
   ]
  },
  {
   "cell_type": "markdown",
   "metadata": {},
   "source": [
    "1. **days_from_start** = Number of days from first transaction\n",
    "2. **transactions_num** = Number or transactions\n",
    "3. **cancelations_num** = Number of cancelations\n",
    "4. **last_is_auto_renew** = If last subscription is renewed automatically\n",
    "5. **subscription_length** = Length of last subscription"
   ]
  },
  {
   "cell_type": "markdown",
   "metadata": {},
   "source": [
    "Now we need to load whole files or columns.\n",
    "To create our first 3 features we need 4 columns from \"transactions\" files:\n",
    "<br>\n",
    "\"msno\", \"transaction_date\", \"membership_expire_date\", \"is_cancel\".\n",
    "<br> UPDATE: Tocalculate 5 features we need 5 columns (same as previously plus \"is_auto_renew\")"
   ]
  },
  {
   "cell_type": "code",
   "execution_count": 4,
   "metadata": {},
   "outputs": [],
   "source": [
    "columns_needed = [\"msno\", \"transaction_date\", \"membership_expire_date\", \"is_cancel\", \"is_auto_renew\"]\n",
    "\n",
    "transactions = pd.read_csv(transactions_path, usecols=columns_needed)\n",
    "transactions_v2 = pd.read_csv(transactions_v2_path, usecols=columns_needed)\n",
    "transactions_v3 = pd.read_csv(transactions_v3_path, usecols=columns_needed)"
   ]
  },
  {
   "cell_type": "code",
   "execution_count": 5,
   "metadata": {},
   "outputs": [],
   "source": [
    "# labels provided\n",
    "train_v2 = pd.read_csv(train_v2_path)\n",
    "train = pd.read_csv(train_path)\n",
    "\n",
    "# test set for Kaggle submission\n",
    "sample_submission_v2 = pd.read_csv(sample_submission_v2_path)"
   ]
  },
  {
   "cell_type": "code",
   "execution_count": 6,
   "metadata": {},
   "outputs": [],
   "source": [
    "def calculate_last_subsciption_features(transactions_table):\n",
    "    \n",
    "    # change date format from int to pandas datetime\n",
    "    transactions_table[\"transaction_date\"] = pd.to_datetime(transactions_table[\"transaction_date\"], format='%Y%m%d')\n",
    "    transactions_table[\"membership_expire_date\"] = pd.to_datetime(transactions_table[\"membership_expire_date\"], format='%Y%m%d')\n",
    "    \n",
    "    # find which transaction is the last one and merge with transactional data\n",
    "    last_transaction = transactions_table.groupby(\"msno\")[\"transaction_date\"].max().reset_index()\n",
    "    last_subscription = transactions_table.merge(last_transaction)\n",
    "    \n",
    "    # calculate subscriptions length\n",
    "    last_subscription[\"subscription_length\"] = (last_subscription[\"membership_expire_date\"] - \n",
    "                                                 last_subscription[\"transaction_date\"]).dt.days\n",
    "    \n",
    "    return last_subscription.rename(columns={\"is_auto_renew\": \"last_is_auto_renew\"})"
   ]
  },
  {
   "cell_type": "code",
   "execution_count": 7,
   "metadata": {},
   "outputs": [],
   "source": [
    "def calculate_transactional_features(transactions_table, cutoff_day):\n",
    "    \n",
    "    # find the fist transaction per user and number of calncelations per user\n",
    "    users_transactions_features = transactions_table.groupby(\"msno\").agg({\"transaction_date\": [\"min\", \"count\"], \n",
    "                                                                           \"is_cancel\": \"sum\"})\n",
    "    \n",
    "    # flatten columns' names\n",
    "    users_transactions_features.columns = [a + \"_\" + b for a,b in users_transactions_features.columns]\n",
    "    \n",
    "    # change date format from int to pandas datetime\n",
    "    users_transactions_features[\"first_transaction\"] = pd.to_datetime(users_transactions_features.transaction_date_min, \n",
    "                                                                  format='%Y%m%d')\n",
    "    \n",
    "    # set cutoff day\n",
    "    train_cutoff_day = pd.to_datetime(cutoff_day, format='%Y%m%d') \n",
    "    \n",
    "    # calculate number of days passed from the first user transaction\n",
    "    users_transactions_features[\"days_from_start\"] = (train_cutoff_day - users_transactions_features[\"first_transaction\"]).dt.days\n",
    "    \n",
    "    # change columns names\n",
    "    columns_names_mapping = {\n",
    "                            \"transaction_date_count\": \"transactions_num\",\n",
    "                            \"is_cancel_sum\": \"cancelations_num\"\n",
    "                            }\n",
    "    \n",
    "    return users_transactions_features.rename(columns=columns_names_mapping).reset_index()"
   ]
  },
  {
   "cell_type": "code",
   "execution_count": 8,
   "metadata": {},
   "outputs": [],
   "source": [
    "train_transactional_features = calculate_transactional_features(transactions, '20170301')\n",
    "train_last_subsciption_features = calculate_last_subsciption_features(transactions)"
   ]
  },
  {
   "cell_type": "code",
   "execution_count": 53,
   "metadata": {},
   "outputs": [],
   "source": [
    "# train or train_v2? With train_v2 results of prediction are much worse so it has to be \"train\".\n",
    "train_with_features = train.merge(train_transactional_features, on=\"msno\")\n",
    "train_with_features = train_with_features.merge(train_last_subsciption_features, on=\"msno\")"
   ]
  },
  {
   "cell_type": "markdown",
   "metadata": {},
   "source": [
    "##### We have duplicates - some users have multiple trasactions during one day\n",
    "Let's sort the data by is_cancel (ascending) and keep only the first occurance (possibly not canceled)"
   ]
  },
  {
   "cell_type": "code",
   "execution_count": 10,
   "metadata": {},
   "outputs": [],
   "source": [
    "def show_duplicates(table):\n",
    "    x = table.groupby([\"msno\", \"transaction_date\"]).membership_expire_date.count()\n",
    "    display(x.loc[x > 1])"
   ]
  },
  {
   "cell_type": "code",
   "execution_count": 11,
   "metadata": {},
   "outputs": [
    {
     "data": {
      "text/plain": [
       "msno                                          transaction_date\n",
       "++FPL1dXZBXC3Cf6gE0HQiIHg1Pd+DBdK7w52xcUmX0=  2016-02-25          2\n",
       "++GVWCJ/8c4RVSUmn5mrt3VFGLUfmYIGVJ/SHLWPACw=  2017-01-14          2\n",
       "++wDR2uEVD8Ep2jLNXD6PDDMbmQZXfL97TJiSqMsvH0=  2017-02-15          2\n",
       "+/RjVdeSXQWgQMcA6aPvreFvQVE2yVp4mVRzFeFTu0I=  2017-02-18          2\n",
       "+/o1K0v6t2cGYPuuCviNu+EZaTBn/HKt69lpnSCvmKU=  2017-01-27          2\n",
       "                                                                 ..\n",
       "zxHlA8YQGHxupPs5Mr2xVrMYslpfOl+tywYwXTExBDI=  2017-02-17          2\n",
       "zxLejeaspEwIavG8xIDcBgGn/tHzDOmz5ib8f07NpfY=  2017-02-22          2\n",
       "zxUau+DyACCZJFZS6/0HNhmyFKpWSukEM7egAAW5bpQ=  2015-12-29          2\n",
       "zzO1S/aU/Bo46GF1MOh5qvttxRdvo87TJZI8Zhpq4AM=  2017-02-17          2\n",
       "zzm2UvJnzuTRkXaiaZHtbJwPG9jZQZkZxG0n4PYDTvw=  2017-02-03          2\n",
       "Name: membership_expire_date, Length: 11739, dtype: int64"
      ]
     },
     "metadata": {},
     "output_type": "display_data"
    }
   ],
   "source": [
    "show_duplicates(train_with_features)"
   ]
  },
  {
   "cell_type": "code",
   "execution_count": 12,
   "metadata": {},
   "outputs": [],
   "source": [
    "train_with_features_deduplicated = train_with_features.sort_values([\"msno\", \"transaction_date\", \"is_cancel\"], \n",
    "                                                                   ascending=True).drop_duplicates([\"msno\", \"transaction_date\"])"
   ]
  },
  {
   "cell_type": "code",
   "execution_count": 13,
   "metadata": {},
   "outputs": [
    {
     "data": {
      "text/plain": [
       "Series([], Name: membership_expire_date, dtype: int64)"
      ]
     },
     "metadata": {},
     "output_type": "display_data"
    }
   ],
   "source": [
    "show_duplicates(train_with_features_deduplicated)"
   ]
  },
  {
   "cell_type": "code",
   "execution_count": 14,
   "metadata": {},
   "outputs": [],
   "source": [
    "test_transactional_features = calculate_transactional_features(transactions_v3, '20170401')\n",
    "test_last_subsciption_features = calculate_last_subsciption_features(transactions_v3)"
   ]
  },
  {
   "cell_type": "code",
   "execution_count": 15,
   "metadata": {},
   "outputs": [],
   "source": [
    "test_with_features = sample_submission_v2.merge(test_transactional_features, on=\"msno\")\n",
    "test_with_features = test_with_features.merge(test_last_subsciption_features, on=\"msno\")"
   ]
  },
  {
   "cell_type": "code",
   "execution_count": 16,
   "metadata": {},
   "outputs": [
    {
     "data": {
      "text/plain": [
       "msno                                          transaction_date\n",
       "++kosgi4V03jOxcBKjM/9tPignUOxcc7jBVnZLJ+lX0=  2017-03-24          2\n",
       "++r9mKptLWw8f5X2H/AsUYwzQgYtAVJQNEp5qrLEhQ8=  2017-03-12          2\n",
       "+/o1K0v6t2cGYPuuCviNu+EZaTBn/HKt69lpnSCvmKU=  2017-01-27          3\n",
       "+0hXEuyLuw+Kgfa4BUz8v3R27ZmWPWKSktfe9twCVhA=  2017-03-08          2\n",
       "+2HveYKigu7TMYpBnnPwoc59qecTdxSk3qhahIgUgDk=  2017-02-14          2\n",
       "                                                                 ..\n",
       "zvhRQYR6+BNRa2rRm/JNAkxMnpn47IcuimAQ9DqYi6A=  2017-02-07          2\n",
       "zweunppNP0S0az203k5bDf6O6zt5FTBoPuHH5/glssc=  2017-03-16          2\n",
       "zxE7eCE2QFnkNI4e6mhcvNmZMjdFqkC0yPP6w95uMZ0=  2017-03-03          2\n",
       "zz58DhHXMpGS0reh+g3F/m67RRSScr4B1CY7TG6CaCs=  2017-03-10          2\n",
       "zz6FVyCbt/cowrJOn8x/OB4aowRrQFLzDrlo/ULtB+U=  2017-03-24          2\n",
       "Name: membership_expire_date, Length: 6892, dtype: int64"
      ]
     },
     "metadata": {},
     "output_type": "display_data"
    }
   ],
   "source": [
    "show_duplicates(test_with_features)"
   ]
  },
  {
   "cell_type": "code",
   "execution_count": 17,
   "metadata": {},
   "outputs": [],
   "source": [
    "test_with_features_deduplicated = test_with_features.sort_values([\"msno\", \"transaction_date\", \"is_cancel\"], \n",
    "                                                                ascending=True).drop_duplicates([\"msno\", \"transaction_date\"])"
   ]
  },
  {
   "cell_type": "code",
   "execution_count": 18,
   "metadata": {},
   "outputs": [
    {
     "data": {
      "text/plain": [
       "Series([], Name: membership_expire_date, dtype: int64)"
      ]
     },
     "metadata": {},
     "output_type": "display_data"
    }
   ],
   "source": [
    "show_duplicates(test_with_features_deduplicated)"
   ]
  },
  {
   "cell_type": "markdown",
   "metadata": {},
   "source": [
    "### Features exploration"
   ]
  },
  {
   "cell_type": "code",
   "execution_count": 45,
   "metadata": {},
   "outputs": [
    {
     "data": {
      "text/html": [
       "<div>\n",
       "<style scoped>\n",
       "    .dataframe tbody tr th:only-of-type {\n",
       "        vertical-align: middle;\n",
       "    }\n",
       "\n",
       "    .dataframe tbody tr th {\n",
       "        vertical-align: top;\n",
       "    }\n",
       "\n",
       "    .dataframe thead th {\n",
       "        text-align: right;\n",
       "    }\n",
       "</style>\n",
       "<table border=\"1\" class=\"dataframe\">\n",
       "  <thead>\n",
       "    <tr style=\"text-align: right;\">\n",
       "      <th></th>\n",
       "      <th>count</th>\n",
       "      <th>mean</th>\n",
       "      <th>std</th>\n",
       "      <th>min</th>\n",
       "      <th>25%</th>\n",
       "      <th>50%</th>\n",
       "      <th>75%</th>\n",
       "      <th>max</th>\n",
       "    </tr>\n",
       "  </thead>\n",
       "  <tbody>\n",
       "    <tr>\n",
       "      <th>transaction_date_count</th>\n",
       "      <td>2363626.0</td>\n",
       "      <td>9.116394</td>\n",
       "      <td>8.887318</td>\n",
       "      <td>1.0</td>\n",
       "      <td>1.0</td>\n",
       "      <td>5.0</td>\n",
       "      <td>16.0</td>\n",
       "      <td>71.0</td>\n",
       "    </tr>\n",
       "    <tr>\n",
       "      <th>is_cancel_sum</th>\n",
       "      <td>2363626.0</td>\n",
       "      <td>0.362515</td>\n",
       "      <td>0.569036</td>\n",
       "      <td>0.0</td>\n",
       "      <td>0.0</td>\n",
       "      <td>0.0</td>\n",
       "      <td>1.0</td>\n",
       "      <td>20.0</td>\n",
       "    </tr>\n",
       "    <tr>\n",
       "      <th>subscription_length_sum</th>\n",
       "      <td>2363626.0</td>\n",
       "      <td>322.885609</td>\n",
       "      <td>711.648321</td>\n",
       "      <td>-48770.0</td>\n",
       "      <td>30.0</td>\n",
       "      <td>218.0</td>\n",
       "      <td>518.0</td>\n",
       "      <td>14855.0</td>\n",
       "    </tr>\n",
       "    <tr>\n",
       "      <th>days_from_start</th>\n",
       "      <td>2363626.0</td>\n",
       "      <td>491.734499</td>\n",
       "      <td>243.820651</td>\n",
       "      <td>1.0</td>\n",
       "      <td>275.0</td>\n",
       "      <td>525.0</td>\n",
       "      <td>736.0</td>\n",
       "      <td>790.0</td>\n",
       "    </tr>\n",
       "  </tbody>\n",
       "</table>\n",
       "</div>"
      ],
      "text/plain": [
       "                             count        mean         std      min    25%  \\\n",
       "transaction_date_count   2363626.0    9.116394    8.887318      1.0    1.0   \n",
       "is_cancel_sum            2363626.0    0.362515    0.569036      0.0    0.0   \n",
       "subscription_length_sum  2363626.0  322.885609  711.648321 -48770.0   30.0   \n",
       "days_from_start          2363626.0  491.734499  243.820651      1.0  275.0   \n",
       "\n",
       "                           50%    75%      max  \n",
       "transaction_date_count     5.0   16.0     71.0  \n",
       "is_cancel_sum              0.0    1.0     20.0  \n",
       "subscription_length_sum  218.0  518.0  14855.0  \n",
       "days_from_start          525.0  736.0    790.0  "
      ]
     },
     "execution_count": 45,
     "metadata": {},
     "output_type": "execute_result"
    }
   ],
   "source": [
    "train_with_features_deduplicated.describe().transpose()"
   ]
  },
  {
   "cell_type": "code",
   "execution_count": 46,
   "metadata": {},
   "outputs": [
    {
     "data": {
      "text/html": [
       "<div>\n",
       "<style scoped>\n",
       "    .dataframe tbody tr th:only-of-type {\n",
       "        vertical-align: middle;\n",
       "    }\n",
       "\n",
       "    .dataframe tbody tr th {\n",
       "        vertical-align: top;\n",
       "    }\n",
       "\n",
       "    .dataframe thead th {\n",
       "        text-align: right;\n",
       "    }\n",
       "</style>\n",
       "<table border=\"1\" class=\"dataframe\">\n",
       "  <thead>\n",
       "    <tr style=\"text-align: right;\">\n",
       "      <th></th>\n",
       "      <th>count</th>\n",
       "      <th>mean</th>\n",
       "      <th>std</th>\n",
       "      <th>min</th>\n",
       "      <th>25%</th>\n",
       "      <th>50%</th>\n",
       "      <th>75%</th>\n",
       "      <th>max</th>\n",
       "    </tr>\n",
       "  </thead>\n",
       "  <tbody>\n",
       "    <tr>\n",
       "      <th>transaction_date_count</th>\n",
       "      <td>2426143.0</td>\n",
       "      <td>9.471311</td>\n",
       "      <td>9.294885</td>\n",
       "      <td>1.0</td>\n",
       "      <td>2.0</td>\n",
       "      <td>5.0</td>\n",
       "      <td>16.0</td>\n",
       "      <td>244.0</td>\n",
       "    </tr>\n",
       "    <tr>\n",
       "      <th>is_cancel_sum</th>\n",
       "      <td>2426143.0</td>\n",
       "      <td>0.367655</td>\n",
       "      <td>0.577234</td>\n",
       "      <td>0.0</td>\n",
       "      <td>0.0</td>\n",
       "      <td>0.0</td>\n",
       "      <td>1.0</td>\n",
       "      <td>21.0</td>\n",
       "    </tr>\n",
       "    <tr>\n",
       "      <th>subscription_length_sum</th>\n",
       "      <td>2426143.0</td>\n",
       "      <td>384.497706</td>\n",
       "      <td>1185.711344</td>\n",
       "      <td>-48740.0</td>\n",
       "      <td>31.0</td>\n",
       "      <td>244.0</td>\n",
       "      <td>591.0</td>\n",
       "      <td>232521.0</td>\n",
       "    </tr>\n",
       "    <tr>\n",
       "      <th>days_from_start</th>\n",
       "      <td>2426143.0</td>\n",
       "      <td>511.735603</td>\n",
       "      <td>250.845944</td>\n",
       "      <td>1.0</td>\n",
       "      <td>280.0</td>\n",
       "      <td>542.0</td>\n",
       "      <td>759.0</td>\n",
       "      <td>821.0</td>\n",
       "    </tr>\n",
       "  </tbody>\n",
       "</table>\n",
       "</div>"
      ],
      "text/plain": [
       "                             count        mean          std      min    25%  \\\n",
       "transaction_date_count   2426143.0    9.471311     9.294885      1.0    2.0   \n",
       "is_cancel_sum            2426143.0    0.367655     0.577234      0.0    0.0   \n",
       "subscription_length_sum  2426143.0  384.497706  1185.711344 -48740.0   31.0   \n",
       "days_from_start          2426143.0  511.735603   250.845944      1.0  280.0   \n",
       "\n",
       "                           50%    75%       max  \n",
       "transaction_date_count     5.0   16.0     244.0  \n",
       "is_cancel_sum              0.0    1.0      21.0  \n",
       "subscription_length_sum  244.0  591.0  232521.0  \n",
       "days_from_start          542.0  759.0     821.0  "
      ]
     },
     "execution_count": 46,
     "metadata": {},
     "output_type": "execute_result"
    }
   ],
   "source": [
    "test_features.describe().transpose()"
   ]
  },
  {
   "cell_type": "markdown",
   "metadata": {},
   "source": [
    "### Does churn depend on number of days from the first transaction?\n",
    "- Churning user have a bit lower number of days that passed from the first transaction."
   ]
  },
  {
   "cell_type": "code",
   "execution_count": 20,
   "metadata": {},
   "outputs": [
    {
     "data": {
      "image/png": "[encoded data removed]",
      "text/plain": [
       "<Figure size 432x288 with 1 Axes>"
      ]
     },
     "metadata": {},
     "output_type": "display_data"
    }
   ],
   "source": [
    "ax = sns.boxplot(x=\"is_churn\", y=\"days_from_start\", data=train_with_features_deduplicated)"
   ]
  },
  {
   "cell_type": "markdown",
   "metadata": {},
   "source": [
    "### Does churn depend on length of the current subscription?\n",
    "- This variable needs deeper inversigation."
   ]
  },
  {
   "cell_type": "code",
   "execution_count": 26,
   "metadata": {},
   "outputs": [
    {
     "data": {
      "image/png": "[encoded data removed]",
      "text/plain": [
       "<Figure size 432x288 with 1 Axes>"
      ]
     },
     "metadata": {},
     "output_type": "display_data"
    }
   ],
   "source": [
    "ax = sns.boxplot(x=\"is_churn\", y=\"subscription_length\", \n",
    "                 data=train_with_features_deduplicated) #.loc[train_with_features_deduplicated.subscription_length >= 0])"
   ]
  },
  {
   "cell_type": "markdown",
   "metadata": {},
   "source": [
    "### Does churn depend on number of all transactions that user made?\n",
    "- Yes, users who churn made a bit less transactions (this is correlated with the first variable)"
   ]
  },
  {
   "cell_type": "code",
   "execution_count": 28,
   "metadata": {},
   "outputs": [
    {
     "data": {
      "image/png": "[encoded data removed]",
      "text/plain": [
       "<Figure size 432x288 with 1 Axes>"
      ]
     },
     "metadata": {},
     "output_type": "display_data"
    }
   ],
   "source": [
    "ax = sns.boxplot(x=\"is_churn\", y=\"transactions_num\", data=train_with_features_deduplicated)"
   ]
  },
  {
   "cell_type": "markdown",
   "metadata": {},
   "source": [
    "### Does churn depend on number of all cancelations that user made?\n",
    "- Yes, users who churn made more cancelations."
   ]
  },
  {
   "cell_type": "code",
   "execution_count": 29,
   "metadata": {},
   "outputs": [
    {
     "data": {
      "image/png": "[encoded data removed]",
      "text/plain": [
       "<Figure size 432x288 with 1 Axes>"
      ]
     },
     "metadata": {},
     "output_type": "display_data"
    }
   ],
   "source": [
    "ax = sns.boxplot(x=\"is_churn\", y=\"cancelations_num\", data=train_with_features_deduplicated)"
   ]
  },
  {
   "cell_type": "markdown",
   "metadata": {},
   "source": [
    "### Does churn depend on the fact if the current subscription is automaticaly renewed?\n",
    "- Yes, users whose subscripton is automatically renewed churn much less often."
   ]
  },
  {
   "cell_type": "code",
   "execution_count": 44,
   "metadata": {},
   "outputs": [
    {
     "data": {
      "image/png": "[encoded data removed]",
      "text/plain": [
       "<Figure size 432x288 with 1 Axes>"
      ]
     },
     "metadata": {},
     "output_type": "display_data"
    }
   ],
   "source": [
    "ax = sns.countplot(x=\"last_is_auto_renew\", hue=\"is_churn\", data=train_with_features_deduplicated)\n",
    "total=train_with_features_deduplicated.shape[0]\n",
    "for p in ax.patches:\n",
    "    height = p.get_height()\n",
    "    ax.text(p.get_x()+p.get_width()/2.,\n",
    "            height + 3,\n",
    "            '{:1.2f}'.format(height/total),\n",
    "            ha=\"center\") "
   ]
  },
  {
   "cell_type": "code",
   "execution_count": 48,
   "metadata": {},
   "outputs": [
    {
     "name": "stdout",
     "output_type": "stream",
     "text": [
      " 3.37% of users whose subscription is automatically renewed churn\n",
      " 36.36% of users whose subscription is NOT automatically renewed churn\n"
     ]
    }
   ],
   "source": [
    "print(f\"{0.03/0.89: 0.2%} of users whose subscription is automatically renewed churn\")\n",
    "print(f\"{0.04/0.11: 0.2%} of users whose subscription is NOT automatically renewed churn\")"
   ]
  },
  {
   "cell_type": "markdown",
   "metadata": {},
   "source": [
    "### User logs \n",
    "- User logs files are too big to load them into computer memory.\n",
    "- Reading 1000 first rows we see that they have same columns with numbers of songs listen till 25%, 50%, 75%, 98,5% and 100% of the song length, number of different songs listened and number of seconds listened daily.\n",
    "- Reading only two columns \"msno\" and \"date\" we see that ..."
   ]
  },
  {
   "cell_type": "code",
   "execution_count": 8,
   "metadata": {},
   "outputs": [],
   "source": [
    "user_logs = pd.read_csv(user_logs_path, nrows=1000) \n",
    "user_logs_v2 = pd.read_csv(user_logs_v2_path, nrows=1000)"
   ]
  },
  {
   "cell_type": "code",
   "execution_count": 9,
   "metadata": {},
   "outputs": [
    {
     "data": {
      "text/html": [
       "<div>\n",
       "<style scoped>\n",
       "    .dataframe tbody tr th:only-of-type {\n",
       "        vertical-align: middle;\n",
       "    }\n",
       "\n",
       "    .dataframe tbody tr th {\n",
       "        vertical-align: top;\n",
       "    }\n",
       "\n",
       "    .dataframe thead th {\n",
       "        text-align: right;\n",
       "    }\n",
       "</style>\n",
       "<table border=\"1\" class=\"dataframe\">\n",
       "  <thead>\n",
       "    <tr style=\"text-align: right;\">\n",
       "      <th></th>\n",
       "      <th>msno</th>\n",
       "      <th>date</th>\n",
       "      <th>num_25</th>\n",
       "      <th>num_50</th>\n",
       "      <th>num_75</th>\n",
       "      <th>num_985</th>\n",
       "      <th>num_100</th>\n",
       "      <th>num_unq</th>\n",
       "      <th>total_secs</th>\n",
       "    </tr>\n",
       "  </thead>\n",
       "  <tbody>\n",
       "    <tr>\n",
       "      <th>0</th>\n",
       "      <td>rxIP2f2aN0rYNp+toI0Obt/N/FYQX8hcO1fTmmy2h34=</td>\n",
       "      <td>20150513</td>\n",
       "      <td>0</td>\n",
       "      <td>0</td>\n",
       "      <td>0</td>\n",
       "      <td>0</td>\n",
       "      <td>1</td>\n",
       "      <td>1</td>\n",
       "      <td>280.335</td>\n",
       "    </tr>\n",
       "    <tr>\n",
       "      <th>1</th>\n",
       "      <td>rxIP2f2aN0rYNp+toI0Obt/N/FYQX8hcO1fTmmy2h34=</td>\n",
       "      <td>20150709</td>\n",
       "      <td>9</td>\n",
       "      <td>1</td>\n",
       "      <td>0</td>\n",
       "      <td>0</td>\n",
       "      <td>7</td>\n",
       "      <td>11</td>\n",
       "      <td>1658.948</td>\n",
       "    </tr>\n",
       "    <tr>\n",
       "      <th>2</th>\n",
       "      <td>yxiEWwE9VR5utpUecLxVdQ5B7NysUPfrNtGINaM2zA8=</td>\n",
       "      <td>20150105</td>\n",
       "      <td>3</td>\n",
       "      <td>3</td>\n",
       "      <td>0</td>\n",
       "      <td>0</td>\n",
       "      <td>68</td>\n",
       "      <td>36</td>\n",
       "      <td>17364.956</td>\n",
       "    </tr>\n",
       "    <tr>\n",
       "      <th>3</th>\n",
       "      <td>yxiEWwE9VR5utpUecLxVdQ5B7NysUPfrNtGINaM2zA8=</td>\n",
       "      <td>20150306</td>\n",
       "      <td>1</td>\n",
       "      <td>0</td>\n",
       "      <td>1</td>\n",
       "      <td>1</td>\n",
       "      <td>97</td>\n",
       "      <td>27</td>\n",
       "      <td>24667.317</td>\n",
       "    </tr>\n",
       "    <tr>\n",
       "      <th>4</th>\n",
       "      <td>yxiEWwE9VR5utpUecLxVdQ5B7NysUPfrNtGINaM2zA8=</td>\n",
       "      <td>20150501</td>\n",
       "      <td>3</td>\n",
       "      <td>0</td>\n",
       "      <td>0</td>\n",
       "      <td>0</td>\n",
       "      <td>38</td>\n",
       "      <td>38</td>\n",
       "      <td>9649.029</td>\n",
       "    </tr>\n",
       "    <tr>\n",
       "      <th>...</th>\n",
       "      <td>...</td>\n",
       "      <td>...</td>\n",
       "      <td>...</td>\n",
       "      <td>...</td>\n",
       "      <td>...</td>\n",
       "      <td>...</td>\n",
       "      <td>...</td>\n",
       "      <td>...</td>\n",
       "      <td>...</td>\n",
       "    </tr>\n",
       "    <tr>\n",
       "      <th>995</th>\n",
       "      <td>GsxqOgdbfqplwVMVVMu/0spt8ysfkSjexZqzyTb5T/E=</td>\n",
       "      <td>20160404</td>\n",
       "      <td>0</td>\n",
       "      <td>0</td>\n",
       "      <td>0</td>\n",
       "      <td>0</td>\n",
       "      <td>4</td>\n",
       "      <td>4</td>\n",
       "      <td>982.000</td>\n",
       "    </tr>\n",
       "    <tr>\n",
       "      <th>996</th>\n",
       "      <td>GsxqOgdbfqplwVMVVMu/0spt8ysfkSjexZqzyTb5T/E=</td>\n",
       "      <td>20160623</td>\n",
       "      <td>1</td>\n",
       "      <td>1</td>\n",
       "      <td>1</td>\n",
       "      <td>2</td>\n",
       "      <td>5</td>\n",
       "      <td>10</td>\n",
       "      <td>1993.350</td>\n",
       "    </tr>\n",
       "    <tr>\n",
       "      <th>997</th>\n",
       "      <td>GsxqOgdbfqplwVMVVMu/0spt8ysfkSjexZqzyTb5T/E=</td>\n",
       "      <td>20160912</td>\n",
       "      <td>10</td>\n",
       "      <td>3</td>\n",
       "      <td>1</td>\n",
       "      <td>2</td>\n",
       "      <td>5</td>\n",
       "      <td>12</td>\n",
       "      <td>2236.254</td>\n",
       "    </tr>\n",
       "    <tr>\n",
       "      <th>998</th>\n",
       "      <td>GsxqOgdbfqplwVMVVMu/0spt8ysfkSjexZqzyTb5T/E=</td>\n",
       "      <td>20161230</td>\n",
       "      <td>5</td>\n",
       "      <td>1</td>\n",
       "      <td>5</td>\n",
       "      <td>0</td>\n",
       "      <td>17</td>\n",
       "      <td>19</td>\n",
       "      <td>5719.019</td>\n",
       "    </tr>\n",
       "    <tr>\n",
       "      <th>999</th>\n",
       "      <td>wyzgGFDQuTiy23ZpvnNuJqD7MfjRtjwyCegyznmOtH8=</td>\n",
       "      <td>20150314</td>\n",
       "      <td>0</td>\n",
       "      <td>0</td>\n",
       "      <td>0</td>\n",
       "      <td>2</td>\n",
       "      <td>71</td>\n",
       "      <td>3</td>\n",
       "      <td>15381.218</td>\n",
       "    </tr>\n",
       "  </tbody>\n",
       "</table>\n",
       "<p>1000 rows × 9 columns</p>\n",
       "</div>"
      ],
      "text/plain": [
       "                                             msno      date  num_25  num_50  \\\n",
       "0    rxIP2f2aN0rYNp+toI0Obt/N/FYQX8hcO1fTmmy2h34=  20150513       0       0   \n",
       "1    rxIP2f2aN0rYNp+toI0Obt/N/FYQX8hcO1fTmmy2h34=  20150709       9       1   \n",
       "2    yxiEWwE9VR5utpUecLxVdQ5B7NysUPfrNtGINaM2zA8=  20150105       3       3   \n",
       "3    yxiEWwE9VR5utpUecLxVdQ5B7NysUPfrNtGINaM2zA8=  20150306       1       0   \n",
       "4    yxiEWwE9VR5utpUecLxVdQ5B7NysUPfrNtGINaM2zA8=  20150501       3       0   \n",
       "..                                            ...       ...     ...     ...   \n",
       "995  GsxqOgdbfqplwVMVVMu/0spt8ysfkSjexZqzyTb5T/E=  20160404       0       0   \n",
       "996  GsxqOgdbfqplwVMVVMu/0spt8ysfkSjexZqzyTb5T/E=  20160623       1       1   \n",
       "997  GsxqOgdbfqplwVMVVMu/0spt8ysfkSjexZqzyTb5T/E=  20160912      10       3   \n",
       "998  GsxqOgdbfqplwVMVVMu/0spt8ysfkSjexZqzyTb5T/E=  20161230       5       1   \n",
       "999  wyzgGFDQuTiy23ZpvnNuJqD7MfjRtjwyCegyznmOtH8=  20150314       0       0   \n",
       "\n",
       "     num_75  num_985  num_100  num_unq  total_secs  \n",
       "0         0        0        1        1     280.335  \n",
       "1         0        0        7       11    1658.948  \n",
       "2         0        0       68       36   17364.956  \n",
       "3         1        1       97       27   24667.317  \n",
       "4         0        0       38       38    9649.029  \n",
       "..      ...      ...      ...      ...         ...  \n",
       "995       0        0        4        4     982.000  \n",
       "996       1        2        5       10    1993.350  \n",
       "997       1        2        5       12    2236.254  \n",
       "998       5        0       17       19    5719.019  \n",
       "999       0        2       71        3   15381.218  \n",
       "\n",
       "[1000 rows x 9 columns]"
      ]
     },
     "execution_count": 9,
     "metadata": {},
     "output_type": "execute_result"
    }
   ],
   "source": [
    "user_logs"
   ]
  },
  {
   "cell_type": "code",
   "execution_count": 10,
   "metadata": {},
   "outputs": [
    {
     "data": {
      "text/html": [
       "<div>\n",
       "<style scoped>\n",
       "    .dataframe tbody tr th:only-of-type {\n",
       "        vertical-align: middle;\n",
       "    }\n",
       "\n",
       "    .dataframe tbody tr th {\n",
       "        vertical-align: top;\n",
       "    }\n",
       "\n",
       "    .dataframe thead th {\n",
       "        text-align: right;\n",
       "    }\n",
       "</style>\n",
       "<table border=\"1\" class=\"dataframe\">\n",
       "  <thead>\n",
       "    <tr style=\"text-align: right;\">\n",
       "      <th></th>\n",
       "      <th>msno</th>\n",
       "      <th>date</th>\n",
       "      <th>num_25</th>\n",
       "      <th>num_50</th>\n",
       "      <th>num_75</th>\n",
       "      <th>num_985</th>\n",
       "      <th>num_100</th>\n",
       "      <th>num_unq</th>\n",
       "      <th>total_secs</th>\n",
       "    </tr>\n",
       "  </thead>\n",
       "  <tbody>\n",
       "    <tr>\n",
       "      <th>0</th>\n",
       "      <td>u9E91QDTvHLq6NXjEaWv8u4QIqhrHk72kE+w31Gnhdg=</td>\n",
       "      <td>20170331</td>\n",
       "      <td>8</td>\n",
       "      <td>4</td>\n",
       "      <td>0</td>\n",
       "      <td>1</td>\n",
       "      <td>21</td>\n",
       "      <td>18</td>\n",
       "      <td>6309.273</td>\n",
       "    </tr>\n",
       "    <tr>\n",
       "      <th>1</th>\n",
       "      <td>nTeWW/eOZA/UHKdD5L7DEqKKFTjaAj3ALLPoAWsU8n0=</td>\n",
       "      <td>20170330</td>\n",
       "      <td>2</td>\n",
       "      <td>2</td>\n",
       "      <td>1</td>\n",
       "      <td>0</td>\n",
       "      <td>9</td>\n",
       "      <td>11</td>\n",
       "      <td>2390.699</td>\n",
       "    </tr>\n",
       "    <tr>\n",
       "      <th>2</th>\n",
       "      <td>2UqkWXwZbIjs03dHLU9KHJNNEvEkZVzm69f3jCS+uLI=</td>\n",
       "      <td>20170331</td>\n",
       "      <td>52</td>\n",
       "      <td>3</td>\n",
       "      <td>5</td>\n",
       "      <td>3</td>\n",
       "      <td>84</td>\n",
       "      <td>110</td>\n",
       "      <td>23203.337</td>\n",
       "    </tr>\n",
       "    <tr>\n",
       "      <th>3</th>\n",
       "      <td>ycwLc+m2O0a85jSLALtr941AaZt9ai8Qwlg9n0Nql5U=</td>\n",
       "      <td>20170331</td>\n",
       "      <td>176</td>\n",
       "      <td>4</td>\n",
       "      <td>2</td>\n",
       "      <td>2</td>\n",
       "      <td>19</td>\n",
       "      <td>191</td>\n",
       "      <td>7100.454</td>\n",
       "    </tr>\n",
       "    <tr>\n",
       "      <th>4</th>\n",
       "      <td>EGcbTofOSOkMmQyN1NMLxHEXJ1yV3t/JdhGwQ9wXjnI=</td>\n",
       "      <td>20170331</td>\n",
       "      <td>2</td>\n",
       "      <td>1</td>\n",
       "      <td>0</td>\n",
       "      <td>1</td>\n",
       "      <td>112</td>\n",
       "      <td>93</td>\n",
       "      <td>28401.558</td>\n",
       "    </tr>\n",
       "    <tr>\n",
       "      <th>...</th>\n",
       "      <td>...</td>\n",
       "      <td>...</td>\n",
       "      <td>...</td>\n",
       "      <td>...</td>\n",
       "      <td>...</td>\n",
       "      <td>...</td>\n",
       "      <td>...</td>\n",
       "      <td>...</td>\n",
       "      <td>...</td>\n",
       "    </tr>\n",
       "    <tr>\n",
       "      <th>995</th>\n",
       "      <td>0wPmoqibk6BFzELAxJ3Q6GcQ1Uwm/iH7jsr/jlWgu7Y=</td>\n",
       "      <td>20170318</td>\n",
       "      <td>0</td>\n",
       "      <td>1</td>\n",
       "      <td>0</td>\n",
       "      <td>0</td>\n",
       "      <td>34</td>\n",
       "      <td>32</td>\n",
       "      <td>8383.520</td>\n",
       "    </tr>\n",
       "    <tr>\n",
       "      <th>996</th>\n",
       "      <td>Tlowf5B4ofb2t/J1tqaUNa86z9ExfFOWmuBa+dONDok=</td>\n",
       "      <td>20170319</td>\n",
       "      <td>117</td>\n",
       "      <td>18</td>\n",
       "      <td>9</td>\n",
       "      <td>5</td>\n",
       "      <td>37</td>\n",
       "      <td>124</td>\n",
       "      <td>14768.685</td>\n",
       "    </tr>\n",
       "    <tr>\n",
       "      <th>997</th>\n",
       "      <td>VWap+kjstcjQLgPFT1HqfSbk/m4TeXuUxj132H1iMrY=</td>\n",
       "      <td>20170319</td>\n",
       "      <td>3</td>\n",
       "      <td>4</td>\n",
       "      <td>1</td>\n",
       "      <td>2</td>\n",
       "      <td>21</td>\n",
       "      <td>27</td>\n",
       "      <td>5680.734</td>\n",
       "    </tr>\n",
       "    <tr>\n",
       "      <th>998</th>\n",
       "      <td>E5vjMhp8WkcWuIzisn49GtTt8J/LKZ3MI0tNhgm8kOw=</td>\n",
       "      <td>20170317</td>\n",
       "      <td>9</td>\n",
       "      <td>5</td>\n",
       "      <td>5</td>\n",
       "      <td>1</td>\n",
       "      <td>13</td>\n",
       "      <td>27</td>\n",
       "      <td>4359.544</td>\n",
       "    </tr>\n",
       "    <tr>\n",
       "      <th>999</th>\n",
       "      <td>SM+0usFUXCjnkQQkxqpr8W/A+AguAA++aITifEubbUM=</td>\n",
       "      <td>20170316</td>\n",
       "      <td>0</td>\n",
       "      <td>0</td>\n",
       "      <td>0</td>\n",
       "      <td>0</td>\n",
       "      <td>280</td>\n",
       "      <td>72</td>\n",
       "      <td>38759.000</td>\n",
       "    </tr>\n",
       "  </tbody>\n",
       "</table>\n",
       "<p>1000 rows × 9 columns</p>\n",
       "</div>"
      ],
      "text/plain": [
       "                                             msno      date  num_25  num_50  \\\n",
       "0    u9E91QDTvHLq6NXjEaWv8u4QIqhrHk72kE+w31Gnhdg=  20170331       8       4   \n",
       "1    nTeWW/eOZA/UHKdD5L7DEqKKFTjaAj3ALLPoAWsU8n0=  20170330       2       2   \n",
       "2    2UqkWXwZbIjs03dHLU9KHJNNEvEkZVzm69f3jCS+uLI=  20170331      52       3   \n",
       "3    ycwLc+m2O0a85jSLALtr941AaZt9ai8Qwlg9n0Nql5U=  20170331     176       4   \n",
       "4    EGcbTofOSOkMmQyN1NMLxHEXJ1yV3t/JdhGwQ9wXjnI=  20170331       2       1   \n",
       "..                                            ...       ...     ...     ...   \n",
       "995  0wPmoqibk6BFzELAxJ3Q6GcQ1Uwm/iH7jsr/jlWgu7Y=  20170318       0       1   \n",
       "996  Tlowf5B4ofb2t/J1tqaUNa86z9ExfFOWmuBa+dONDok=  20170319     117      18   \n",
       "997  VWap+kjstcjQLgPFT1HqfSbk/m4TeXuUxj132H1iMrY=  20170319       3       4   \n",
       "998  E5vjMhp8WkcWuIzisn49GtTt8J/LKZ3MI0tNhgm8kOw=  20170317       9       5   \n",
       "999  SM+0usFUXCjnkQQkxqpr8W/A+AguAA++aITifEubbUM=  20170316       0       0   \n",
       "\n",
       "     num_75  num_985  num_100  num_unq  total_secs  \n",
       "0         0        1       21       18    6309.273  \n",
       "1         1        0        9       11    2390.699  \n",
       "2         5        3       84      110   23203.337  \n",
       "3         2        2       19      191    7100.454  \n",
       "4         0        1      112       93   28401.558  \n",
       "..      ...      ...      ...      ...         ...  \n",
       "995       0        0       34       32    8383.520  \n",
       "996       9        5       37      124   14768.685  \n",
       "997       1        2       21       27    5680.734  \n",
       "998       5        1       13       27    4359.544  \n",
       "999       0        0      280       72   38759.000  \n",
       "\n",
       "[1000 rows x 9 columns]"
      ]
     },
     "execution_count": 10,
     "metadata": {},
     "output_type": "execute_result"
    }
   ],
   "source": [
    "user_logs_v2"
   ]
  },
  {
   "cell_type": "code",
   "execution_count": null,
   "metadata": {},
   "outputs": [],
   "source": [
    "columns_needed = [\"msno\", \"date\"]\n",
    "user_logs = pd.read_csv(user_logs_path,  usecols=columns_needed) \n",
    "user_logs_v2 = pd.read_csv(user_logs_v2_path,  usecols=columns_needed)"
   ]
  },
  {
   "cell_type": "code",
   "execution_count": null,
   "metadata": {},
   "outputs": [],
   "source": [
    "user_logs.date.describe()"
   ]
  },
  {
   "cell_type": "code",
   "execution_count": null,
   "metadata": {},
   "outputs": [],
   "source": [
    "user_logs_v2.date.describe()"
   ]
  },
  {
   "cell_type": "markdown",
   "metadata": {},
   "source": [
    "### Modeling with XGboost\n",
    "Based on tutorial: **\"Using XGBoost in Python\"**\n",
    "<br>\n",
    "https://www.datacamp.com/community/tutorials/xgboost-in-python?utm_source=adwords_ppc&utm_campaignid=9942305733&utm_adgroupid=100189364546&utm_device=c&utm_keyword=&utm_matchtype=b&utm_network=g&utm_adpostion=&utm_creative=332602034352&utm_targetid=aud-299261629574:dsa-929501846124&utm_loc_interest_ms=&utm_loc_physical_ms=9060640&gclid=Cj0KCQjw0YD4BRD2ARIsAHwmKVkoOKq4tg0ihd-a5jx70ZIDySVNt1e8bTrBYOOQkPIaLb5aElQY3FgaApotEALw_wcB"
   ]
  },
  {
   "cell_type": "code",
   "execution_count": 49,
   "metadata": {},
   "outputs": [],
   "source": [
    "from sklearn.model_selection import train_test_split\n",
    "random.seed(1)\n",
    "train_set, test_set = train_test_split(train_with_features_deduplicated, test_size=0.2)"
   ]
  },
  {
   "cell_type": "code",
   "execution_count": 50,
   "metadata": {},
   "outputs": [
    {
     "name": "stdout",
     "output_type": "stream",
     "text": [
      "Accuracy of XGB classifier on training set: 0.97\n",
      "Accuracy of XGB classifier on test set: 0.96\n"
     ]
    }
   ],
   "source": [
    "#XGBoost Model\n",
    "\n",
    "random.seed(1)\n",
    "features = [\"transactions_num\", \"cancelations_num\", \"days_from_start\", \"last_is_auto_renew\", \"subscription_length\"]\n",
    "X_train, y_train = train_set[features], train_set[\"is_churn\"]\n",
    "X_test, y_test = test_set[features], test_set[\"is_churn\"]\n",
    "\n",
    "xgb_model = xgb.XGBClassifier(verbosity=1,\n",
    "                              max_depth=4, \n",
    "                              learning_rate=0.4,\n",
    "                              objective= 'binary:logistic',\n",
    "                              n_jobs=-1).fit(X_train, y_train)\n",
    "\n",
    "print('Accuracy of XGB classifier on training set: {:.2f}'\n",
    "       .format(xgb_model.score(X_train, y_train)))\n",
    "print('Accuracy of XGB classifier on test set: {:.2f}'\n",
    "       .format(xgb_model.score(X_test[X_train.columns], y_test)))"
   ]
  },
  {
   "cell_type": "markdown",
   "metadata": {},
   "source": [
    "### Features importance\n",
    "- We need to remember that there are many types of feature importance: 'weight', 'gain', 'cover',\n",
    "- Default: ‘weight’: the number of times a feature is used to split the data across all trees. It may be lower for features with lower cardinality (like True/False features, so our \"last_is_auto_renew\"),\n",
    "- ‘gain’: the average gain across all splits the feature is used in."
   ]
  },
  {
   "cell_type": "code",
   "execution_count": 51,
   "metadata": {},
   "outputs": [
    {
     "data": {
      "image/png": "[encoded data removed]",
      "text/plain": [
       "<Figure size 432x288 with 1 Axes>"
      ]
     },
     "metadata": {},
     "output_type": "display_data"
    }
   ],
   "source": [
    "xgb.plot_importance(xgb_model, importance_type=\"gain\")\n",
    "plt.rcParams['figure.figsize'] = [10, 5]\n",
    "plt.show()"
   ]
  },
  {
   "cell_type": "code",
   "execution_count": 240,
   "metadata": {},
   "outputs": [],
   "source": [
    "submission = xgb_model.predict_proba(test_with_features_deduplicated[features])"
   ]
  },
  {
   "cell_type": "code",
   "execution_count": 241,
   "metadata": {},
   "outputs": [],
   "source": [
    "submission_int = xgb_model.predict(test_with_features_deduplicated[features])"
   ]
  },
  {
   "cell_type": "code",
   "execution_count": 242,
   "metadata": {},
   "outputs": [
    {
     "data": {
      "text/html": [
       "<div>\n",
       "<style scoped>\n",
       "    .dataframe tbody tr th:only-of-type {\n",
       "        vertical-align: middle;\n",
       "    }\n",
       "\n",
       "    .dataframe tbody tr th {\n",
       "        vertical-align: top;\n",
       "    }\n",
       "\n",
       "    .dataframe thead th {\n",
       "        text-align: right;\n",
       "    }\n",
       "</style>\n",
       "<table border=\"1\" class=\"dataframe\">\n",
       "  <thead>\n",
       "    <tr style=\"text-align: right;\">\n",
       "      <th></th>\n",
       "      <th>0</th>\n",
       "      <th>1</th>\n",
       "    </tr>\n",
       "  </thead>\n",
       "  <tbody>\n",
       "    <tr>\n",
       "      <th>0</th>\n",
       "      <td>0.996449</td>\n",
       "      <td>0.003551</td>\n",
       "    </tr>\n",
       "    <tr>\n",
       "      <th>1</th>\n",
       "      <td>0.996138</td>\n",
       "      <td>0.003862</td>\n",
       "    </tr>\n",
       "    <tr>\n",
       "      <th>2</th>\n",
       "      <td>0.996926</td>\n",
       "      <td>0.003074</td>\n",
       "    </tr>\n",
       "    <tr>\n",
       "      <th>3</th>\n",
       "      <td>0.997263</td>\n",
       "      <td>0.002737</td>\n",
       "    </tr>\n",
       "    <tr>\n",
       "      <th>4</th>\n",
       "      <td>0.916116</td>\n",
       "      <td>0.083884</td>\n",
       "    </tr>\n",
       "    <tr>\n",
       "      <th>...</th>\n",
       "      <td>...</td>\n",
       "      <td>...</td>\n",
       "    </tr>\n",
       "    <tr>\n",
       "      <th>907466</th>\n",
       "      <td>0.995891</td>\n",
       "      <td>0.004109</td>\n",
       "    </tr>\n",
       "    <tr>\n",
       "      <th>907467</th>\n",
       "      <td>0.996449</td>\n",
       "      <td>0.003551</td>\n",
       "    </tr>\n",
       "    <tr>\n",
       "      <th>907468</th>\n",
       "      <td>0.622266</td>\n",
       "      <td>0.377734</td>\n",
       "    </tr>\n",
       "    <tr>\n",
       "      <th>907469</th>\n",
       "      <td>0.870872</td>\n",
       "      <td>0.129128</td>\n",
       "    </tr>\n",
       "    <tr>\n",
       "      <th>907470</th>\n",
       "      <td>0.996128</td>\n",
       "      <td>0.003872</td>\n",
       "    </tr>\n",
       "  </tbody>\n",
       "</table>\n",
       "<p>907471 rows × 2 columns</p>\n",
       "</div>"
      ],
      "text/plain": [
       "               0         1\n",
       "0       0.996449  0.003551\n",
       "1       0.996138  0.003862\n",
       "2       0.996926  0.003074\n",
       "3       0.997263  0.002737\n",
       "4       0.916116  0.083884\n",
       "...          ...       ...\n",
       "907466  0.995891  0.004109\n",
       "907467  0.996449  0.003551\n",
       "907468  0.622266  0.377734\n",
       "907469  0.870872  0.129128\n",
       "907470  0.996128  0.003872\n",
       "\n",
       "[907471 rows x 2 columns]"
      ]
     },
     "execution_count": 242,
     "metadata": {},
     "output_type": "execute_result"
    }
   ],
   "source": [
    "pd.DataFrame(submission)"
   ]
  },
  {
   "cell_type": "code",
   "execution_count": 245,
   "metadata": {},
   "outputs": [
    {
     "data": {
      "text/plain": [
       "0         +++hVY1rZox/33YtvDgmKA2Frg/2qhkz12B9ylCvh8o=\n",
       "1         +++snpr7pmobhLKUgSHTv/mpkqgBT0tQJ0zQj6qKrqc=\n",
       "2         ++/9R3sX37CjxbY/AaGvbwr3QkwElKBCtSvVzhCBDOk=\n",
       "3         ++0/NopttBsaAn6qHZA2AWWrDg7Me7UOMs1vsyo4tSI=\n",
       "4         ++0BJXY8tpirgIhJR14LDM1pnaRosjD1mdO1mIKxlJA=\n",
       "                              ...                     \n",
       "907466    zzxZeMFx2fjfKZigMnJa2w0EmloDbm8+8nTf/o/00GY=\n",
       "907467    zzxi7n5xoTYo9Q3VTygLWvl/rBDcexwaeAry0yK7Q0E=\n",
       "907468    zzy7iqSpfcRq7R4hmKKuhI+CJRs79a6pteqEggpiNO0=\n",
       "907469    zzyHq6TK2+cBkeGFUHvh12Z7UxFZiSM7dOOSllSBPDw=\n",
       "907470    zzzF1KsGfHH3qI6qiSNSXC35UXmVKMVFdxkp7xmDMc0=\n",
       "Name: msno, Length: 907471, dtype: object"
      ]
     },
     "execution_count": 245,
     "metadata": {},
     "output_type": "execute_result"
    }
   ],
   "source": [
    "test_with_features_deduplicated.msno.reset_index(drop=True)"
   ]
  },
  {
   "cell_type": "code",
   "execution_count": 243,
   "metadata": {},
   "outputs": [],
   "source": [
    "final_submission = pd.DataFrame({\"msno\": test_with_features_deduplicated.msno.reset_index(drop=True), \n",
    "                                 \"is_churn\": pd.DataFrame(submission).loc[:,1]})"
   ]
  },
  {
   "cell_type": "code",
   "execution_count": 246,
   "metadata": {},
   "outputs": [
    {
     "data": {
      "text/html": [
       "<div>\n",
       "<style scoped>\n",
       "    .dataframe tbody tr th:only-of-type {\n",
       "        vertical-align: middle;\n",
       "    }\n",
       "\n",
       "    .dataframe tbody tr th {\n",
       "        vertical-align: top;\n",
       "    }\n",
       "\n",
       "    .dataframe thead th {\n",
       "        text-align: right;\n",
       "    }\n",
       "</style>\n",
       "<table border=\"1\" class=\"dataframe\">\n",
       "  <thead>\n",
       "    <tr style=\"text-align: right;\">\n",
       "      <th></th>\n",
       "      <th>msno</th>\n",
       "      <th>is_churn</th>\n",
       "    </tr>\n",
       "  </thead>\n",
       "  <tbody>\n",
       "    <tr>\n",
       "      <th>0</th>\n",
       "      <td>+++hVY1rZox/33YtvDgmKA2Frg/2qhkz12B9ylCvh8o=</td>\n",
       "      <td>0.003551</td>\n",
       "    </tr>\n",
       "    <tr>\n",
       "      <th>1</th>\n",
       "      <td>+++snpr7pmobhLKUgSHTv/mpkqgBT0tQJ0zQj6qKrqc=</td>\n",
       "      <td>0.003862</td>\n",
       "    </tr>\n",
       "    <tr>\n",
       "      <th>2</th>\n",
       "      <td>++/9R3sX37CjxbY/AaGvbwr3QkwElKBCtSvVzhCBDOk=</td>\n",
       "      <td>0.003074</td>\n",
       "    </tr>\n",
       "    <tr>\n",
       "      <th>3</th>\n",
       "      <td>++0/NopttBsaAn6qHZA2AWWrDg7Me7UOMs1vsyo4tSI=</td>\n",
       "      <td>0.002737</td>\n",
       "    </tr>\n",
       "    <tr>\n",
       "      <th>4</th>\n",
       "      <td>++0BJXY8tpirgIhJR14LDM1pnaRosjD1mdO1mIKxlJA=</td>\n",
       "      <td>0.083884</td>\n",
       "    </tr>\n",
       "    <tr>\n",
       "      <th>...</th>\n",
       "      <td>...</td>\n",
       "      <td>...</td>\n",
       "    </tr>\n",
       "    <tr>\n",
       "      <th>907466</th>\n",
       "      <td>zzxZeMFx2fjfKZigMnJa2w0EmloDbm8+8nTf/o/00GY=</td>\n",
       "      <td>0.004109</td>\n",
       "    </tr>\n",
       "    <tr>\n",
       "      <th>907467</th>\n",
       "      <td>zzxi7n5xoTYo9Q3VTygLWvl/rBDcexwaeAry0yK7Q0E=</td>\n",
       "      <td>0.003551</td>\n",
       "    </tr>\n",
       "    <tr>\n",
       "      <th>907468</th>\n",
       "      <td>zzy7iqSpfcRq7R4hmKKuhI+CJRs79a6pteqEggpiNO0=</td>\n",
       "      <td>0.377734</td>\n",
       "    </tr>\n",
       "    <tr>\n",
       "      <th>907469</th>\n",
       "      <td>zzyHq6TK2+cBkeGFUHvh12Z7UxFZiSM7dOOSllSBPDw=</td>\n",
       "      <td>0.129128</td>\n",
       "    </tr>\n",
       "    <tr>\n",
       "      <th>907470</th>\n",
       "      <td>zzzF1KsGfHH3qI6qiSNSXC35UXmVKMVFdxkp7xmDMc0=</td>\n",
       "      <td>0.003872</td>\n",
       "    </tr>\n",
       "  </tbody>\n",
       "</table>\n",
       "<p>907471 rows × 2 columns</p>\n",
       "</div>"
      ],
      "text/plain": [
       "                                                msno  is_churn\n",
       "0       +++hVY1rZox/33YtvDgmKA2Frg/2qhkz12B9ylCvh8o=  0.003551\n",
       "1       +++snpr7pmobhLKUgSHTv/mpkqgBT0tQJ0zQj6qKrqc=  0.003862\n",
       "2       ++/9R3sX37CjxbY/AaGvbwr3QkwElKBCtSvVzhCBDOk=  0.003074\n",
       "3       ++0/NopttBsaAn6qHZA2AWWrDg7Me7UOMs1vsyo4tSI=  0.002737\n",
       "4       ++0BJXY8tpirgIhJR14LDM1pnaRosjD1mdO1mIKxlJA=  0.083884\n",
       "...                                              ...       ...\n",
       "907466  zzxZeMFx2fjfKZigMnJa2w0EmloDbm8+8nTf/o/00GY=  0.004109\n",
       "907467  zzxi7n5xoTYo9Q3VTygLWvl/rBDcexwaeAry0yK7Q0E=  0.003551\n",
       "907468  zzy7iqSpfcRq7R4hmKKuhI+CJRs79a6pteqEggpiNO0=  0.377734\n",
       "907469  zzyHq6TK2+cBkeGFUHvh12Z7UxFZiSM7dOOSllSBPDw=  0.129128\n",
       "907470  zzzF1KsGfHH3qI6qiSNSXC35UXmVKMVFdxkp7xmDMc0=  0.003872\n",
       "\n",
       "[907471 rows x 2 columns]"
      ]
     },
     "execution_count": 246,
     "metadata": {},
     "output_type": "execute_result"
    }
   ],
   "source": [
    "final_submission"
   ]
  },
  {
   "cell_type": "code",
   "execution_count": 247,
   "metadata": {},
   "outputs": [],
   "source": [
    "final_submission.to_csv(\"submission_4.csv\", index=False)"
   ]
  },
  {
   "cell_type": "code",
   "execution_count": null,
   "metadata": {},
   "outputs": [],
   "source": []
  }
 ],
 "metadata": {
  "kernelspec": {
   "display_name": "Python 3",
   "language": "python",
   "name": "python3"
  },
  "language_info": {
   "codemirror_mode": {
    "name": "ipython",
    "version": 3
   },
   "file_extension": ".py",
   "mimetype": "text/x-python",
   "name": "python",
   "nbconvert_exporter": "python",
   "pygments_lexer": "ipython3",
   "version": "3.6.10"
  }
 },
 "nbformat": 4,
 "nbformat_minor": 4
}
